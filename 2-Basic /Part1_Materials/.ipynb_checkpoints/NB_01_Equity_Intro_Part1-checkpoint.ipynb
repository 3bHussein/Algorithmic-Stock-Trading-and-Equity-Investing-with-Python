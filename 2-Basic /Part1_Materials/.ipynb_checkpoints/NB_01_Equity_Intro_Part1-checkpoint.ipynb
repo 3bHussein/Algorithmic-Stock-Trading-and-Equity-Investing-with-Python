{
 "cells": [
  {
   "cell_type": "markdown",
   "id": "d8044646",
   "metadata": {},
   "source": [
    "# Equity Analysis with Python - Introduction (Part 1)"
   ]
  },
  {
   "cell_type": "markdown",
   "id": "4ca01c03",
   "metadata": {},
   "source": [
    "__Please install yfinance__ with the following command (Anaconda Prompt/Terminal Window):"
   ]
  },
  {
   "cell_type": "markdown",
   "id": "01d65950",
   "metadata": {},
   "source": [
    "pip install yfinance"
   ]
  },
  {
   "cell_type": "markdown",
   "id": "2c627932",
   "metadata": {},
   "source": [
    "## yfinance API - first steps"
   ]
  },
  {
   "cell_type": "code",
   "execution_count": 18,
   "id": "b0a0246b",
   "metadata": {},
   "outputs": [],
   "source": [
    "import yfinance as yf\n",
    "import pandas as pd\n",
    "import matplotlib.pyplot as plt\n",
    "plt.style.use(\"seaborn-v0_8\")"
   ]
  },
  {
   "cell_type": "code",
   "execution_count": 19,
   "id": "e2c56b11",
   "metadata": {},
   "outputs": [],
   "source": [
    "symbol = \"AAPL\" # ticker symbol for Apple Inc."
   ]
  },
  {
   "cell_type": "code",
   "execution_count": 20,
   "id": "cb21254b",
   "metadata": {},
   "outputs": [
    {
     "name": "stderr",
     "output_type": "stream",
     "text": [
      "[*********************100%%**********************]  1 of 1 completed\n"
     ]
    },
    {
     "data": {
      "text/html": [
       "<div>\n",
       "<style scoped>\n",
       "    .dataframe tbody tr th:only-of-type {\n",
       "        vertical-align: middle;\n",
       "    }\n",
       "\n",
       "    .dataframe tbody tr th {\n",
       "        vertical-align: top;\n",
       "    }\n",
       "\n",
       "    .dataframe thead th {\n",
       "        text-align: right;\n",
       "    }\n",
       "</style>\n",
       "<table border=\"1\" class=\"dataframe\">\n",
       "  <thead>\n",
       "    <tr style=\"text-align: right;\">\n",
       "      <th></th>\n",
       "      <th>Open</th>\n",
       "      <th>High</th>\n",
       "      <th>Low</th>\n",
       "      <th>Close</th>\n",
       "      <th>Adj Close</th>\n",
       "      <th>Volume</th>\n",
       "    </tr>\n",
       "    <tr>\n",
       "      <th>Date</th>\n",
       "      <th></th>\n",
       "      <th></th>\n",
       "      <th></th>\n",
       "      <th></th>\n",
       "      <th></th>\n",
       "      <th></th>\n",
       "    </tr>\n",
       "  </thead>\n",
       "  <tbody>\n",
       "    <tr>\n",
       "      <th>1980-12-12</th>\n",
       "      <td>0.128348</td>\n",
       "      <td>0.128906</td>\n",
       "      <td>0.128348</td>\n",
       "      <td>0.128348</td>\n",
       "      <td>0.099058</td>\n",
       "      <td>469033600</td>\n",
       "    </tr>\n",
       "    <tr>\n",
       "      <th>1980-12-15</th>\n",
       "      <td>0.122210</td>\n",
       "      <td>0.122210</td>\n",
       "      <td>0.121652</td>\n",
       "      <td>0.121652</td>\n",
       "      <td>0.093890</td>\n",
       "      <td>175884800</td>\n",
       "    </tr>\n",
       "    <tr>\n",
       "      <th>1980-12-16</th>\n",
       "      <td>0.113281</td>\n",
       "      <td>0.113281</td>\n",
       "      <td>0.112723</td>\n",
       "      <td>0.112723</td>\n",
       "      <td>0.086999</td>\n",
       "      <td>105728000</td>\n",
       "    </tr>\n",
       "    <tr>\n",
       "      <th>1980-12-17</th>\n",
       "      <td>0.115513</td>\n",
       "      <td>0.116071</td>\n",
       "      <td>0.115513</td>\n",
       "      <td>0.115513</td>\n",
       "      <td>0.089152</td>\n",
       "      <td>86441600</td>\n",
       "    </tr>\n",
       "    <tr>\n",
       "      <th>1980-12-18</th>\n",
       "      <td>0.118862</td>\n",
       "      <td>0.119420</td>\n",
       "      <td>0.118862</td>\n",
       "      <td>0.118862</td>\n",
       "      <td>0.091737</td>\n",
       "      <td>73449600</td>\n",
       "    </tr>\n",
       "    <tr>\n",
       "      <th>...</th>\n",
       "      <td>...</td>\n",
       "      <td>...</td>\n",
       "      <td>...</td>\n",
       "      <td>...</td>\n",
       "      <td>...</td>\n",
       "      <td>...</td>\n",
       "    </tr>\n",
       "    <tr>\n",
       "      <th>2024-07-22</th>\n",
       "      <td>227.009995</td>\n",
       "      <td>227.779999</td>\n",
       "      <td>223.089996</td>\n",
       "      <td>223.960007</td>\n",
       "      <td>223.960007</td>\n",
       "      <td>48201800</td>\n",
       "    </tr>\n",
       "    <tr>\n",
       "      <th>2024-07-23</th>\n",
       "      <td>224.369995</td>\n",
       "      <td>226.940002</td>\n",
       "      <td>222.679993</td>\n",
       "      <td>225.009995</td>\n",
       "      <td>225.009995</td>\n",
       "      <td>39960300</td>\n",
       "    </tr>\n",
       "    <tr>\n",
       "      <th>2024-07-24</th>\n",
       "      <td>224.000000</td>\n",
       "      <td>224.800003</td>\n",
       "      <td>217.130005</td>\n",
       "      <td>218.539993</td>\n",
       "      <td>218.539993</td>\n",
       "      <td>61777600</td>\n",
       "    </tr>\n",
       "    <tr>\n",
       "      <th>2024-07-25</th>\n",
       "      <td>218.929993</td>\n",
       "      <td>220.850006</td>\n",
       "      <td>214.619995</td>\n",
       "      <td>217.490005</td>\n",
       "      <td>217.490005</td>\n",
       "      <td>51328200</td>\n",
       "    </tr>\n",
       "    <tr>\n",
       "      <th>2024-07-26</th>\n",
       "      <td>218.850006</td>\n",
       "      <td>219.149902</td>\n",
       "      <td>216.009995</td>\n",
       "      <td>216.979996</td>\n",
       "      <td>216.979996</td>\n",
       "      <td>12721410</td>\n",
       "    </tr>\n",
       "  </tbody>\n",
       "</table>\n",
       "<p>10996 rows × 6 columns</p>\n",
       "</div>"
      ],
      "text/plain": [
       "                  Open        High         Low       Close   Adj Close  \\\n",
       "Date                                                                     \n",
       "1980-12-12    0.128348    0.128906    0.128348    0.128348    0.099058   \n",
       "1980-12-15    0.122210    0.122210    0.121652    0.121652    0.093890   \n",
       "1980-12-16    0.113281    0.113281    0.112723    0.112723    0.086999   \n",
       "1980-12-17    0.115513    0.116071    0.115513    0.115513    0.089152   \n",
       "1980-12-18    0.118862    0.119420    0.118862    0.118862    0.091737   \n",
       "...                ...         ...         ...         ...         ...   \n",
       "2024-07-22  227.009995  227.779999  223.089996  223.960007  223.960007   \n",
       "2024-07-23  224.369995  226.940002  222.679993  225.009995  225.009995   \n",
       "2024-07-24  224.000000  224.800003  217.130005  218.539993  218.539993   \n",
       "2024-07-25  218.929993  220.850006  214.619995  217.490005  217.490005   \n",
       "2024-07-26  218.850006  219.149902  216.009995  216.979996  216.979996   \n",
       "\n",
       "               Volume  \n",
       "Date                   \n",
       "1980-12-12  469033600  \n",
       "1980-12-15  175884800  \n",
       "1980-12-16  105728000  \n",
       "1980-12-17   86441600  \n",
       "1980-12-18   73449600  \n",
       "...               ...  \n",
       "2024-07-22   48201800  \n",
       "2024-07-23   39960300  \n",
       "2024-07-24   61777600  \n",
       "2024-07-25   51328200  \n",
       "2024-07-26   12721410  \n",
       "\n",
       "[10996 rows x 6 columns]"
      ]
     },
     "execution_count": 20,
     "metadata": {},
     "output_type": "execute_result"
    }
   ],
   "source": [
    "df = yf.download(tickers = symbol)\n",
    "df"
   ]
  },
  {
   "cell_type": "code",
   "execution_count": 21,
   "id": "eaa2f3a1",
   "metadata": {},
   "outputs": [
    {
     "data": {
      "text/html": [
       "<div>\n",
       "<style scoped>\n",
       "    .dataframe tbody tr th:only-of-type {\n",
       "        vertical-align: middle;\n",
       "    }\n",
       "\n",
       "    .dataframe tbody tr th {\n",
       "        vertical-align: top;\n",
       "    }\n",
       "\n",
       "    .dataframe thead th {\n",
       "        text-align: right;\n",
       "    }\n",
       "</style>\n",
       "<table border=\"1\" class=\"dataframe\">\n",
       "  <thead>\n",
       "    <tr style=\"text-align: right;\">\n",
       "      <th></th>\n",
       "      <th>Open</th>\n",
       "      <th>High</th>\n",
       "      <th>Low</th>\n",
       "      <th>Close</th>\n",
       "      <th>Adj Close</th>\n",
       "      <th>Volume</th>\n",
       "    </tr>\n",
       "  </thead>\n",
       "  <tbody>\n",
       "    <tr>\n",
       "      <th>1980-12-12</th>\n",
       "      <td>0.128348</td>\n",
       "      <td>0.128906</td>\n",
       "      <td>0.128348</td>\n",
       "      <td>0.128348</td>\n",
       "      <td>0.099058</td>\n",
       "      <td>469033600</td>\n",
       "    </tr>\n",
       "    <tr>\n",
       "      <th>1980-12-15</th>\n",
       "      <td>0.122210</td>\n",
       "      <td>0.122210</td>\n",
       "      <td>0.121652</td>\n",
       "      <td>0.121652</td>\n",
       "      <td>0.093890</td>\n",
       "      <td>175884800</td>\n",
       "    </tr>\n",
       "    <tr>\n",
       "      <th>1980-12-16</th>\n",
       "      <td>0.113281</td>\n",
       "      <td>0.113281</td>\n",
       "      <td>0.112723</td>\n",
       "      <td>0.112723</td>\n",
       "      <td>0.086999</td>\n",
       "      <td>105728000</td>\n",
       "    </tr>\n",
       "    <tr>\n",
       "      <th>1980-12-17</th>\n",
       "      <td>0.115513</td>\n",
       "      <td>0.116071</td>\n",
       "      <td>0.115513</td>\n",
       "      <td>0.115513</td>\n",
       "      <td>0.089152</td>\n",
       "      <td>86441600</td>\n",
       "    </tr>\n",
       "    <tr>\n",
       "      <th>1980-12-18</th>\n",
       "      <td>0.118862</td>\n",
       "      <td>0.119420</td>\n",
       "      <td>0.118862</td>\n",
       "      <td>0.118862</td>\n",
       "      <td>0.091737</td>\n",
       "      <td>73449600</td>\n",
       "    </tr>\n",
       "    <tr>\n",
       "      <th>...</th>\n",
       "      <td>...</td>\n",
       "      <td>...</td>\n",
       "      <td>...</td>\n",
       "      <td>...</td>\n",
       "      <td>...</td>\n",
       "      <td>...</td>\n",
       "    </tr>\n",
       "    <tr>\n",
       "      <th>2024-07-22</th>\n",
       "      <td>227.009995</td>\n",
       "      <td>227.779999</td>\n",
       "      <td>223.089996</td>\n",
       "      <td>223.960007</td>\n",
       "      <td>223.960007</td>\n",
       "      <td>48201800</td>\n",
       "    </tr>\n",
       "    <tr>\n",
       "      <th>2024-07-23</th>\n",
       "      <td>224.369995</td>\n",
       "      <td>226.940002</td>\n",
       "      <td>222.679993</td>\n",
       "      <td>225.009995</td>\n",
       "      <td>225.009995</td>\n",
       "      <td>39960300</td>\n",
       "    </tr>\n",
       "    <tr>\n",
       "      <th>2024-07-24</th>\n",
       "      <td>224.000000</td>\n",
       "      <td>224.800003</td>\n",
       "      <td>217.130005</td>\n",
       "      <td>218.539993</td>\n",
       "      <td>218.539993</td>\n",
       "      <td>61777600</td>\n",
       "    </tr>\n",
       "    <tr>\n",
       "      <th>2024-07-25</th>\n",
       "      <td>218.929993</td>\n",
       "      <td>220.850006</td>\n",
       "      <td>214.619995</td>\n",
       "      <td>217.490005</td>\n",
       "      <td>217.490005</td>\n",
       "      <td>51328200</td>\n",
       "    </tr>\n",
       "    <tr>\n",
       "      <th>2024-07-26</th>\n",
       "      <td>218.850006</td>\n",
       "      <td>219.149902</td>\n",
       "      <td>216.009995</td>\n",
       "      <td>216.979996</td>\n",
       "      <td>216.979996</td>\n",
       "      <td>12721410</td>\n",
       "    </tr>\n",
       "  </tbody>\n",
       "</table>\n",
       "<p>10996 rows × 6 columns</p>\n",
       "</div>"
      ],
      "text/plain": [
       "                  Open        High         Low       Close   Adj Close  \\\n",
       "1980-12-12    0.128348    0.128906    0.128348    0.128348    0.099058   \n",
       "1980-12-15    0.122210    0.122210    0.121652    0.121652    0.093890   \n",
       "1980-12-16    0.113281    0.113281    0.112723    0.112723    0.086999   \n",
       "1980-12-17    0.115513    0.116071    0.115513    0.115513    0.089152   \n",
       "1980-12-18    0.118862    0.119420    0.118862    0.118862    0.091737   \n",
       "...                ...         ...         ...         ...         ...   \n",
       "2024-07-22  227.009995  227.779999  223.089996  223.960007  223.960007   \n",
       "2024-07-23  224.369995  226.940002  222.679993  225.009995  225.009995   \n",
       "2024-07-24  224.000000  224.800003  217.130005  218.539993  218.539993   \n",
       "2024-07-25  218.929993  220.850006  214.619995  217.490005  217.490005   \n",
       "2024-07-26  218.850006  219.149902  216.009995  216.979996  216.979996   \n",
       "\n",
       "               Volume  \n",
       "1980-12-12  469033600  \n",
       "1980-12-15  175884800  \n",
       "1980-12-16  105728000  \n",
       "1980-12-17   86441600  \n",
       "1980-12-18   73449600  \n",
       "...               ...  \n",
       "2024-07-22   48201800  \n",
       "2024-07-23   39960300  \n",
       "2024-07-24   61777600  \n",
       "2024-07-25   51328200  \n",
       "2024-07-26   12721410  \n",
       "\n",
       "[10996 rows x 6 columns]"
      ]
     },
     "execution_count": 21,
     "metadata": {},
     "output_type": "execute_result"
    }
   ],
   "source": [
    "df.index = pd.to_datetime(df.index.date)\n",
    "df"
   ]
  },
  {
   "cell_type": "code",
   "execution_count": 22,
   "id": "346e0727",
   "metadata": {},
   "outputs": [
    {
     "data": {
      "text/plain": [
       "DatetimeIndex(['1980-12-12', '1980-12-15', '1980-12-16', '1980-12-17',\n",
       "               '1980-12-18', '1980-12-19', '1980-12-22', '1980-12-23',\n",
       "               '1980-12-24', '1980-12-26',\n",
       "               ...\n",
       "               '2024-07-15', '2024-07-16', '2024-07-17', '2024-07-18',\n",
       "               '2024-07-19', '2024-07-22', '2024-07-23', '2024-07-24',\n",
       "               '2024-07-25', '2024-07-26'],\n",
       "              dtype='datetime64[ns]', length=10996, freq=None)"
      ]
     },
     "execution_count": 22,
     "metadata": {},
     "output_type": "execute_result"
    }
   ],
   "source": [
    "df.index"
   ]
  },
  {
   "cell_type": "code",
   "execution_count": 23,
   "id": "cd90a91e",
   "metadata": {},
   "outputs": [
    {
     "name": "stdout",
     "output_type": "stream",
     "text": [
      "<class 'pandas.core.frame.DataFrame'>\n",
      "DatetimeIndex: 10996 entries, 1980-12-12 to 2024-07-26\n",
      "Data columns (total 6 columns):\n",
      " #   Column     Non-Null Count  Dtype  \n",
      "---  ------     --------------  -----  \n",
      " 0   Open       10996 non-null  float64\n",
      " 1   High       10996 non-null  float64\n",
      " 2   Low        10996 non-null  float64\n",
      " 3   Close      10996 non-null  float64\n",
      " 4   Adj Close  10996 non-null  float64\n",
      " 5   Volume     10996 non-null  int64  \n",
      "dtypes: float64(5), int64(1)\n",
      "memory usage: 601.3 KB\n"
     ]
    }
   ],
   "source": [
    "df.info()"
   ]
  },
  {
   "cell_type": "markdown",
   "id": "2656a6b7",
   "metadata": {},
   "source": [
    "- __Date__: Date (year-month-day) at midnight New York Time (business daily data without weekends and bank holidays)\n",
    "- __Open__: daily Open Price @ 9:30 am Eastern TimeZone\n",
    "- __High__: daily high/max price\n",
    "- __Low__: daily low/min price\n",
    "- __Close__: daily Close Price @ 4:00 pm Eastern TimeZone\n",
    "- __Adj Close__: Close price adjusted for Dividend Payments (backward adjusted)\n",
    "- __Volume__: daily Trading Volume (number of Shares)"
   ]
  },
  {
   "cell_type": "markdown",
   "id": "0b0d7c93",
   "metadata": {},
   "source": [
    "__Price Chart__"
   ]
  },
  {
   "cell_type": "code",
   "execution_count": 24,
   "id": "e9f70667",
   "metadata": {},
   "outputs": [
    {
     "data": {
      "image/png": "[encoded data removed]",
      "text/plain": [
       "<Figure size 1200x800 with 1 Axes>"
      ]
     },
     "metadata": {},
     "output_type": "display_data"
    }
   ],
   "source": [
    "df.Close.plot(figsize = (12, 8), fontsize = 12)\n",
    "plt.ylabel(\"Price (USD)\")\n",
    "plt.title(\"AAPL Price Chart\", fontsize = 15)\n",
    "plt.show()"
   ]
  },
  {
   "cell_type": "markdown",
   "id": "cd7f975b",
   "metadata": {},
   "source": [
    "__Volume Chart__"
   ]
  },
  {
   "cell_type": "code",
   "execution_count": 25,
   "id": "c92bc725",
   "metadata": {},
   "outputs": [
    {
     "data": {
      "image/png": "[encoded data removed]",
      "text/plain": [
       "<Figure size 1200x800 with 1 Axes>"
      ]
     },
     "metadata": {},
     "output_type": "display_data"
    }
   ],
   "source": [
    "df.loc[\"2022-6\", \"Volume\"].plot(figsize = (12, 8), kind = \"bar\")\n",
    "plt.ylabel(\"Volume (Shares)\")\n",
    "plt.title(\"AAPL Trading Volume (daily)\", fontsize = 15)\n",
    "plt.show()"
   ]
  },
  {
   "cell_type": "code",
   "execution_count": 26,
   "id": "856ca66b",
   "metadata": {},
   "outputs": [
    {
     "data": {
      "text/plain": [
       "1980-12-12    6.019952e+07\n",
       "1980-12-15    2.139674e+07\n",
       "1980-12-16    1.191798e+07\n",
       "1980-12-17    9.985128e+06\n",
       "1980-12-18    8.730367e+06\n",
       "                  ...     \n",
       "2024-07-22    1.079528e+10\n",
       "2024-07-23    8.991467e+09\n",
       "2024-07-24    1.350088e+10\n",
       "2024-07-25    1.116337e+10\n",
       "2024-07-26    2.760291e+09\n",
       "Length: 10996, dtype: float64"
      ]
     },
     "execution_count": 26,
     "metadata": {},
     "output_type": "execute_result"
    }
   ],
   "source": [
    "df.Volume.mul(df.Close) # Trading Volume (USD Value)"
   ]
  },
  {
   "cell_type": "code",
   "execution_count": null,
   "id": "3141b281",
   "metadata": {},
   "outputs": [],
   "source": []
  },
  {
   "cell_type": "markdown",
   "id": "9de17599",
   "metadata": {},
   "source": [
    "## Excursus: Versions and Updates"
   ]
  },
  {
   "cell_type": "markdown",
   "id": "1a40a322",
   "metadata": {},
   "source": [
    "You can get the __latest version__ of yfinance with the following command (Anaconda Prompt/Terminal Window):"
   ]
  },
  {
   "cell_type": "markdown",
   "id": "e110b4a0",
   "metadata": {},
   "source": [
    "pip install yfinance --upgrade"
   ]
  },
  {
   "cell_type": "code",
   "execution_count": 27,
   "id": "ee670600",
   "metadata": {},
   "outputs": [
    {
     "data": {
      "text/plain": [
       "'0.2.41'"
      ]
     },
     "execution_count": 27,
     "metadata": {},
     "output_type": "execute_result"
    }
   ],
   "source": [
    "yf.__version__"
   ]
  },
  {
   "cell_type": "code",
   "execution_count": 28,
   "id": "2ca3e45e",
   "metadata": {},
   "outputs": [
    {
     "name": "stderr",
     "output_type": "stream",
     "text": [
      "[*********************100%%**********************]  1 of 1 completed\n"
     ]
    },
    {
     "data": {
      "text/html": [
       "<div>\n",
       "<style scoped>\n",
       "    .dataframe tbody tr th:only-of-type {\n",
       "        vertical-align: middle;\n",
       "    }\n",
       "\n",
       "    .dataframe tbody tr th {\n",
       "        vertical-align: top;\n",
       "    }\n",
       "\n",
       "    .dataframe thead th {\n",
       "        text-align: right;\n",
       "    }\n",
       "</style>\n",
       "<table border=\"1\" class=\"dataframe\">\n",
       "  <thead>\n",
       "    <tr style=\"text-align: right;\">\n",
       "      <th></th>\n",
       "      <th>Open</th>\n",
       "      <th>High</th>\n",
       "      <th>Low</th>\n",
       "      <th>Close</th>\n",
       "      <th>Adj Close</th>\n",
       "      <th>Volume</th>\n",
       "    </tr>\n",
       "    <tr>\n",
       "      <th>Date</th>\n",
       "      <th></th>\n",
       "      <th></th>\n",
       "      <th></th>\n",
       "      <th></th>\n",
       "      <th></th>\n",
       "      <th></th>\n",
       "    </tr>\n",
       "  </thead>\n",
       "  <tbody>\n",
       "    <tr>\n",
       "      <th>1980-12-12</th>\n",
       "      <td>0.128348</td>\n",
       "      <td>0.128906</td>\n",
       "      <td>0.128348</td>\n",
       "      <td>0.128348</td>\n",
       "      <td>0.099058</td>\n",
       "      <td>469033600</td>\n",
       "    </tr>\n",
       "    <tr>\n",
       "      <th>1980-12-15</th>\n",
       "      <td>0.122210</td>\n",
       "      <td>0.122210</td>\n",
       "      <td>0.121652</td>\n",
       "      <td>0.121652</td>\n",
       "      <td>0.093890</td>\n",
       "      <td>175884800</td>\n",
       "    </tr>\n",
       "    <tr>\n",
       "      <th>1980-12-16</th>\n",
       "      <td>0.113281</td>\n",
       "      <td>0.113281</td>\n",
       "      <td>0.112723</td>\n",
       "      <td>0.112723</td>\n",
       "      <td>0.086999</td>\n",
       "      <td>105728000</td>\n",
       "    </tr>\n",
       "    <tr>\n",
       "      <th>1980-12-17</th>\n",
       "      <td>0.115513</td>\n",
       "      <td>0.116071</td>\n",
       "      <td>0.115513</td>\n",
       "      <td>0.115513</td>\n",
       "      <td>0.089152</td>\n",
       "      <td>86441600</td>\n",
       "    </tr>\n",
       "    <tr>\n",
       "      <th>1980-12-18</th>\n",
       "      <td>0.118862</td>\n",
       "      <td>0.119420</td>\n",
       "      <td>0.118862</td>\n",
       "      <td>0.118862</td>\n",
       "      <td>0.091737</td>\n",
       "      <td>73449600</td>\n",
       "    </tr>\n",
       "    <tr>\n",
       "      <th>...</th>\n",
       "      <td>...</td>\n",
       "      <td>...</td>\n",
       "      <td>...</td>\n",
       "      <td>...</td>\n",
       "      <td>...</td>\n",
       "      <td>...</td>\n",
       "    </tr>\n",
       "    <tr>\n",
       "      <th>2024-07-22</th>\n",
       "      <td>227.009995</td>\n",
       "      <td>227.779999</td>\n",
       "      <td>223.089996</td>\n",
       "      <td>223.960007</td>\n",
       "      <td>223.960007</td>\n",
       "      <td>48201800</td>\n",
       "    </tr>\n",
       "    <tr>\n",
       "      <th>2024-07-23</th>\n",
       "      <td>224.369995</td>\n",
       "      <td>226.940002</td>\n",
       "      <td>222.679993</td>\n",
       "      <td>225.009995</td>\n",
       "      <td>225.009995</td>\n",
       "      <td>39960300</td>\n",
       "    </tr>\n",
       "    <tr>\n",
       "      <th>2024-07-24</th>\n",
       "      <td>224.000000</td>\n",
       "      <td>224.800003</td>\n",
       "      <td>217.130005</td>\n",
       "      <td>218.539993</td>\n",
       "      <td>218.539993</td>\n",
       "      <td>61777600</td>\n",
       "    </tr>\n",
       "    <tr>\n",
       "      <th>2024-07-25</th>\n",
       "      <td>218.929993</td>\n",
       "      <td>220.850006</td>\n",
       "      <td>214.619995</td>\n",
       "      <td>217.490005</td>\n",
       "      <td>217.490005</td>\n",
       "      <td>51328200</td>\n",
       "    </tr>\n",
       "    <tr>\n",
       "      <th>2024-07-26</th>\n",
       "      <td>218.850006</td>\n",
       "      <td>219.149902</td>\n",
       "      <td>216.009995</td>\n",
       "      <td>216.960007</td>\n",
       "      <td>216.960007</td>\n",
       "      <td>12727139</td>\n",
       "    </tr>\n",
       "  </tbody>\n",
       "</table>\n",
       "<p>10996 rows × 6 columns</p>\n",
       "</div>"
      ],
      "text/plain": [
       "                  Open        High         Low       Close   Adj Close  \\\n",
       "Date                                                                     \n",
       "1980-12-12    0.128348    0.128906    0.128348    0.128348    0.099058   \n",
       "1980-12-15    0.122210    0.122210    0.121652    0.121652    0.093890   \n",
       "1980-12-16    0.113281    0.113281    0.112723    0.112723    0.086999   \n",
       "1980-12-17    0.115513    0.116071    0.115513    0.115513    0.089152   \n",
       "1980-12-18    0.118862    0.119420    0.118862    0.118862    0.091737   \n",
       "...                ...         ...         ...         ...         ...   \n",
       "2024-07-22  227.009995  227.779999  223.089996  223.960007  223.960007   \n",
       "2024-07-23  224.369995  226.940002  222.679993  225.009995  225.009995   \n",
       "2024-07-24  224.000000  224.800003  217.130005  218.539993  218.539993   \n",
       "2024-07-25  218.929993  220.850006  214.619995  217.490005  217.490005   \n",
       "2024-07-26  218.850006  219.149902  216.009995  216.960007  216.960007   \n",
       "\n",
       "               Volume  \n",
       "Date                   \n",
       "1980-12-12  469033600  \n",
       "1980-12-15  175884800  \n",
       "1980-12-16  105728000  \n",
       "1980-12-17   86441600  \n",
       "1980-12-18   73449600  \n",
       "...               ...  \n",
       "2024-07-22   48201800  \n",
       "2024-07-23   39960300  \n",
       "2024-07-24   61777600  \n",
       "2024-07-25   51328200  \n",
       "2024-07-26   12727139  \n",
       "\n",
       "[10996 rows x 6 columns]"
      ]
     },
     "execution_count": 28,
     "metadata": {},
     "output_type": "execute_result"
    }
   ],
   "source": [
    "yf.download(tickers = symbol)"
   ]
  },
  {
   "cell_type": "code",
   "execution_count": null,
   "id": "304ee00b",
   "metadata": {},
   "outputs": [],
   "source": []
  },
  {
   "cell_type": "markdown",
   "id": "db0d9883",
   "metadata": {},
   "source": [
    "## Analysis Period"
   ]
  },
  {
   "cell_type": "code",
   "execution_count": 29,
   "id": "051f543b",
   "metadata": {},
   "outputs": [
    {
     "data": {
      "text/html": [
       "<div>\n",
       "<style scoped>\n",
       "    .dataframe tbody tr th:only-of-type {\n",
       "        vertical-align: middle;\n",
       "    }\n",
       "\n",
       "    .dataframe tbody tr th {\n",
       "        vertical-align: top;\n",
       "    }\n",
       "\n",
       "    .dataframe thead th {\n",
       "        text-align: right;\n",
       "    }\n",
       "</style>\n",
       "<table border=\"1\" class=\"dataframe\">\n",
       "  <thead>\n",
       "    <tr style=\"text-align: right;\">\n",
       "      <th></th>\n",
       "      <th>Open</th>\n",
       "      <th>High</th>\n",
       "      <th>Low</th>\n",
       "      <th>Close</th>\n",
       "      <th>Adj Close</th>\n",
       "      <th>Volume</th>\n",
       "    </tr>\n",
       "  </thead>\n",
       "  <tbody>\n",
       "    <tr>\n",
       "      <th>1980-12-12</th>\n",
       "      <td>0.128348</td>\n",
       "      <td>0.128906</td>\n",
       "      <td>0.128348</td>\n",
       "      <td>0.128348</td>\n",
       "      <td>0.099058</td>\n",
       "      <td>469033600</td>\n",
       "    </tr>\n",
       "    <tr>\n",
       "      <th>1980-12-15</th>\n",
       "      <td>0.122210</td>\n",
       "      <td>0.122210</td>\n",
       "      <td>0.121652</td>\n",
       "      <td>0.121652</td>\n",
       "      <td>0.093890</td>\n",
       "      <td>175884800</td>\n",
       "    </tr>\n",
       "    <tr>\n",
       "      <th>1980-12-16</th>\n",
       "      <td>0.113281</td>\n",
       "      <td>0.113281</td>\n",
       "      <td>0.112723</td>\n",
       "      <td>0.112723</td>\n",
       "      <td>0.086999</td>\n",
       "      <td>105728000</td>\n",
       "    </tr>\n",
       "    <tr>\n",
       "      <th>1980-12-17</th>\n",
       "      <td>0.115513</td>\n",
       "      <td>0.116071</td>\n",
       "      <td>0.115513</td>\n",
       "      <td>0.115513</td>\n",
       "      <td>0.089152</td>\n",
       "      <td>86441600</td>\n",
       "    </tr>\n",
       "    <tr>\n",
       "      <th>1980-12-18</th>\n",
       "      <td>0.118862</td>\n",
       "      <td>0.119420</td>\n",
       "      <td>0.118862</td>\n",
       "      <td>0.118862</td>\n",
       "      <td>0.091737</td>\n",
       "      <td>73449600</td>\n",
       "    </tr>\n",
       "    <tr>\n",
       "      <th>...</th>\n",
       "      <td>...</td>\n",
       "      <td>...</td>\n",
       "      <td>...</td>\n",
       "      <td>...</td>\n",
       "      <td>...</td>\n",
       "      <td>...</td>\n",
       "    </tr>\n",
       "    <tr>\n",
       "      <th>2024-07-22</th>\n",
       "      <td>227.009995</td>\n",
       "      <td>227.779999</td>\n",
       "      <td>223.089996</td>\n",
       "      <td>223.960007</td>\n",
       "      <td>223.960007</td>\n",
       "      <td>48201800</td>\n",
       "    </tr>\n",
       "    <tr>\n",
       "      <th>2024-07-23</th>\n",
       "      <td>224.369995</td>\n",
       "      <td>226.940002</td>\n",
       "      <td>222.679993</td>\n",
       "      <td>225.009995</td>\n",
       "      <td>225.009995</td>\n",
       "      <td>39960300</td>\n",
       "    </tr>\n",
       "    <tr>\n",
       "      <th>2024-07-24</th>\n",
       "      <td>224.000000</td>\n",
       "      <td>224.800003</td>\n",
       "      <td>217.130005</td>\n",
       "      <td>218.539993</td>\n",
       "      <td>218.539993</td>\n",
       "      <td>61777600</td>\n",
       "    </tr>\n",
       "    <tr>\n",
       "      <th>2024-07-25</th>\n",
       "      <td>218.929993</td>\n",
       "      <td>220.850006</td>\n",
       "      <td>214.619995</td>\n",
       "      <td>217.490005</td>\n",
       "      <td>217.490005</td>\n",
       "      <td>51328200</td>\n",
       "    </tr>\n",
       "    <tr>\n",
       "      <th>2024-07-26</th>\n",
       "      <td>218.850006</td>\n",
       "      <td>219.149902</td>\n",
       "      <td>216.009995</td>\n",
       "      <td>216.979996</td>\n",
       "      <td>216.979996</td>\n",
       "      <td>12721410</td>\n",
       "    </tr>\n",
       "  </tbody>\n",
       "</table>\n",
       "<p>10996 rows × 6 columns</p>\n",
       "</div>"
      ],
      "text/plain": [
       "                  Open        High         Low       Close   Adj Close  \\\n",
       "1980-12-12    0.128348    0.128906    0.128348    0.128348    0.099058   \n",
       "1980-12-15    0.122210    0.122210    0.121652    0.121652    0.093890   \n",
       "1980-12-16    0.113281    0.113281    0.112723    0.112723    0.086999   \n",
       "1980-12-17    0.115513    0.116071    0.115513    0.115513    0.089152   \n",
       "1980-12-18    0.118862    0.119420    0.118862    0.118862    0.091737   \n",
       "...                ...         ...         ...         ...         ...   \n",
       "2024-07-22  227.009995  227.779999  223.089996  223.960007  223.960007   \n",
       "2024-07-23  224.369995  226.940002  222.679993  225.009995  225.009995   \n",
       "2024-07-24  224.000000  224.800003  217.130005  218.539993  218.539993   \n",
       "2024-07-25  218.929993  220.850006  214.619995  217.490005  217.490005   \n",
       "2024-07-26  218.850006  219.149902  216.009995  216.979996  216.979996   \n",
       "\n",
       "               Volume  \n",
       "1980-12-12  469033600  \n",
       "1980-12-15  175884800  \n",
       "1980-12-16  105728000  \n",
       "1980-12-17   86441600  \n",
       "1980-12-18   73449600  \n",
       "...               ...  \n",
       "2024-07-22   48201800  \n",
       "2024-07-23   39960300  \n",
       "2024-07-24   61777600  \n",
       "2024-07-25   51328200  \n",
       "2024-07-26   12721410  \n",
       "\n",
       "[10996 rows x 6 columns]"
      ]
     },
     "execution_count": 29,
     "metadata": {},
     "output_type": "execute_result"
    }
   ],
   "source": [
    "df"
   ]
  },
  {
   "cell_type": "code",
   "execution_count": 30,
   "id": "2bd966c5",
   "metadata": {},
   "outputs": [
    {
     "data": {
      "text/html": [
       "<div>\n",
       "<style scoped>\n",
       "    .dataframe tbody tr th:only-of-type {\n",
       "        vertical-align: middle;\n",
       "    }\n",
       "\n",
       "    .dataframe tbody tr th {\n",
       "        vertical-align: top;\n",
       "    }\n",
       "\n",
       "    .dataframe thead th {\n",
       "        text-align: right;\n",
       "    }\n",
       "</style>\n",
       "<table border=\"1\" class=\"dataframe\">\n",
       "  <thead>\n",
       "    <tr style=\"text-align: right;\">\n",
       "      <th></th>\n",
       "      <th>Open</th>\n",
       "      <th>High</th>\n",
       "      <th>Low</th>\n",
       "      <th>Close</th>\n",
       "      <th>Adj Close</th>\n",
       "      <th>Volume</th>\n",
       "    </tr>\n",
       "  </thead>\n",
       "  <tbody>\n",
       "    <tr>\n",
       "      <th>2022-01-03</th>\n",
       "      <td>177.830002</td>\n",
       "      <td>182.880005</td>\n",
       "      <td>177.710007</td>\n",
       "      <td>182.009995</td>\n",
       "      <td>179.481110</td>\n",
       "      <td>104487900</td>\n",
       "    </tr>\n",
       "    <tr>\n",
       "      <th>2022-01-04</th>\n",
       "      <td>182.630005</td>\n",
       "      <td>182.940002</td>\n",
       "      <td>179.119995</td>\n",
       "      <td>179.699997</td>\n",
       "      <td>177.203201</td>\n",
       "      <td>99310400</td>\n",
       "    </tr>\n",
       "    <tr>\n",
       "      <th>2022-01-05</th>\n",
       "      <td>179.610001</td>\n",
       "      <td>180.169998</td>\n",
       "      <td>174.639999</td>\n",
       "      <td>174.919998</td>\n",
       "      <td>172.489639</td>\n",
       "      <td>94537600</td>\n",
       "    </tr>\n",
       "    <tr>\n",
       "      <th>2022-01-06</th>\n",
       "      <td>172.699997</td>\n",
       "      <td>175.300003</td>\n",
       "      <td>171.639999</td>\n",
       "      <td>172.000000</td>\n",
       "      <td>169.610214</td>\n",
       "      <td>96904000</td>\n",
       "    </tr>\n",
       "    <tr>\n",
       "      <th>2022-01-07</th>\n",
       "      <td>172.889999</td>\n",
       "      <td>174.139999</td>\n",
       "      <td>171.029999</td>\n",
       "      <td>172.169998</td>\n",
       "      <td>169.777863</td>\n",
       "      <td>86709100</td>\n",
       "    </tr>\n",
       "    <tr>\n",
       "      <th>2022-01-10</th>\n",
       "      <td>169.080002</td>\n",
       "      <td>172.500000</td>\n",
       "      <td>168.169998</td>\n",
       "      <td>172.190002</td>\n",
       "      <td>169.797562</td>\n",
       "      <td>106765600</td>\n",
       "    </tr>\n",
       "    <tr>\n",
       "      <th>2022-01-11</th>\n",
       "      <td>172.320007</td>\n",
       "      <td>175.179993</td>\n",
       "      <td>170.820007</td>\n",
       "      <td>175.080002</td>\n",
       "      <td>172.647415</td>\n",
       "      <td>76138300</td>\n",
       "    </tr>\n",
       "    <tr>\n",
       "      <th>2022-01-12</th>\n",
       "      <td>176.119995</td>\n",
       "      <td>177.179993</td>\n",
       "      <td>174.820007</td>\n",
       "      <td>175.529999</td>\n",
       "      <td>173.091125</td>\n",
       "      <td>74805200</td>\n",
       "    </tr>\n",
       "    <tr>\n",
       "      <th>2022-01-13</th>\n",
       "      <td>175.779999</td>\n",
       "      <td>176.619995</td>\n",
       "      <td>171.789993</td>\n",
       "      <td>172.190002</td>\n",
       "      <td>169.797562</td>\n",
       "      <td>84505800</td>\n",
       "    </tr>\n",
       "    <tr>\n",
       "      <th>2022-01-14</th>\n",
       "      <td>171.339996</td>\n",
       "      <td>173.779999</td>\n",
       "      <td>171.089996</td>\n",
       "      <td>173.070007</td>\n",
       "      <td>170.665344</td>\n",
       "      <td>80440800</td>\n",
       "    </tr>\n",
       "  </tbody>\n",
       "</table>\n",
       "</div>"
      ],
      "text/plain": [
       "                  Open        High         Low       Close   Adj Close  \\\n",
       "2022-01-03  177.830002  182.880005  177.710007  182.009995  179.481110   \n",
       "2022-01-04  182.630005  182.940002  179.119995  179.699997  177.203201   \n",
       "2022-01-05  179.610001  180.169998  174.639999  174.919998  172.489639   \n",
       "2022-01-06  172.699997  175.300003  171.639999  172.000000  169.610214   \n",
       "2022-01-07  172.889999  174.139999  171.029999  172.169998  169.777863   \n",
       "2022-01-10  169.080002  172.500000  168.169998  172.190002  169.797562   \n",
       "2022-01-11  172.320007  175.179993  170.820007  175.080002  172.647415   \n",
       "2022-01-12  176.119995  177.179993  174.820007  175.529999  173.091125   \n",
       "2022-01-13  175.779999  176.619995  171.789993  172.190002  169.797562   \n",
       "2022-01-14  171.339996  173.779999  171.089996  173.070007  170.665344   \n",
       "\n",
       "               Volume  \n",
       "2022-01-03  104487900  \n",
       "2022-01-04   99310400  \n",
       "2022-01-05   94537600  \n",
       "2022-01-06   96904000  \n",
       "2022-01-07   86709100  \n",
       "2022-01-10  106765600  \n",
       "2022-01-11   76138300  \n",
       "2022-01-12   74805200  \n",
       "2022-01-13   84505800  \n",
       "2022-01-14   80440800  "
      ]
     },
     "execution_count": 30,
     "metadata": {},
     "output_type": "execute_result"
    }
   ],
   "source": [
    "df.loc[\"2022-01-01\":\"2022-01-15\"]"
   ]
  },
  {
   "cell_type": "code",
   "execution_count": 31,
   "id": "93ddef9b",
   "metadata": {},
   "outputs": [
    {
     "data": {
      "text/html": [
       "<div>\n",
       "<style scoped>\n",
       "    .dataframe tbody tr th:only-of-type {\n",
       "        vertical-align: middle;\n",
       "    }\n",
       "\n",
       "    .dataframe tbody tr th {\n",
       "        vertical-align: top;\n",
       "    }\n",
       "\n",
       "    .dataframe thead th {\n",
       "        text-align: right;\n",
       "    }\n",
       "</style>\n",
       "<table border=\"1\" class=\"dataframe\">\n",
       "  <thead>\n",
       "    <tr style=\"text-align: right;\">\n",
       "      <th></th>\n",
       "      <th>Open</th>\n",
       "      <th>High</th>\n",
       "      <th>Low</th>\n",
       "      <th>Close</th>\n",
       "      <th>Adj Close</th>\n",
       "      <th>Volume</th>\n",
       "    </tr>\n",
       "  </thead>\n",
       "  <tbody>\n",
       "    <tr>\n",
       "      <th>2022-01-03</th>\n",
       "      <td>177.830002</td>\n",
       "      <td>182.880005</td>\n",
       "      <td>177.710007</td>\n",
       "      <td>182.009995</td>\n",
       "      <td>179.481110</td>\n",
       "      <td>104487900</td>\n",
       "    </tr>\n",
       "    <tr>\n",
       "      <th>2022-01-04</th>\n",
       "      <td>182.630005</td>\n",
       "      <td>182.940002</td>\n",
       "      <td>179.119995</td>\n",
       "      <td>179.699997</td>\n",
       "      <td>177.203201</td>\n",
       "      <td>99310400</td>\n",
       "    </tr>\n",
       "    <tr>\n",
       "      <th>2022-01-05</th>\n",
       "      <td>179.610001</td>\n",
       "      <td>180.169998</td>\n",
       "      <td>174.639999</td>\n",
       "      <td>174.919998</td>\n",
       "      <td>172.489639</td>\n",
       "      <td>94537600</td>\n",
       "    </tr>\n",
       "    <tr>\n",
       "      <th>2022-01-06</th>\n",
       "      <td>172.699997</td>\n",
       "      <td>175.300003</td>\n",
       "      <td>171.639999</td>\n",
       "      <td>172.000000</td>\n",
       "      <td>169.610214</td>\n",
       "      <td>96904000</td>\n",
       "    </tr>\n",
       "    <tr>\n",
       "      <th>2022-01-07</th>\n",
       "      <td>172.889999</td>\n",
       "      <td>174.139999</td>\n",
       "      <td>171.029999</td>\n",
       "      <td>172.169998</td>\n",
       "      <td>169.777863</td>\n",
       "      <td>86709100</td>\n",
       "    </tr>\n",
       "    <tr>\n",
       "      <th>...</th>\n",
       "      <td>...</td>\n",
       "      <td>...</td>\n",
       "      <td>...</td>\n",
       "      <td>...</td>\n",
       "      <td>...</td>\n",
       "      <td>...</td>\n",
       "    </tr>\n",
       "    <tr>\n",
       "      <th>2022-12-23</th>\n",
       "      <td>130.919998</td>\n",
       "      <td>132.419998</td>\n",
       "      <td>129.639999</td>\n",
       "      <td>131.860001</td>\n",
       "      <td>130.782578</td>\n",
       "      <td>63814900</td>\n",
       "    </tr>\n",
       "    <tr>\n",
       "      <th>2022-12-27</th>\n",
       "      <td>131.380005</td>\n",
       "      <td>131.410004</td>\n",
       "      <td>128.720001</td>\n",
       "      <td>130.029999</td>\n",
       "      <td>128.967499</td>\n",
       "      <td>69007800</td>\n",
       "    </tr>\n",
       "    <tr>\n",
       "      <th>2022-12-28</th>\n",
       "      <td>129.669998</td>\n",
       "      <td>131.029999</td>\n",
       "      <td>125.870003</td>\n",
       "      <td>126.040001</td>\n",
       "      <td>125.010124</td>\n",
       "      <td>85438400</td>\n",
       "    </tr>\n",
       "    <tr>\n",
       "      <th>2022-12-29</th>\n",
       "      <td>127.989998</td>\n",
       "      <td>130.479996</td>\n",
       "      <td>127.730003</td>\n",
       "      <td>129.610001</td>\n",
       "      <td>128.550949</td>\n",
       "      <td>75703700</td>\n",
       "    </tr>\n",
       "    <tr>\n",
       "      <th>2022-12-30</th>\n",
       "      <td>128.410004</td>\n",
       "      <td>129.949997</td>\n",
       "      <td>127.430000</td>\n",
       "      <td>129.929993</td>\n",
       "      <td>128.868317</td>\n",
       "      <td>77034200</td>\n",
       "    </tr>\n",
       "  </tbody>\n",
       "</table>\n",
       "<p>251 rows × 6 columns</p>\n",
       "</div>"
      ],
      "text/plain": [
       "                  Open        High         Low       Close   Adj Close  \\\n",
       "2022-01-03  177.830002  182.880005  177.710007  182.009995  179.481110   \n",
       "2022-01-04  182.630005  182.940002  179.119995  179.699997  177.203201   \n",
       "2022-01-05  179.610001  180.169998  174.639999  174.919998  172.489639   \n",
       "2022-01-06  172.699997  175.300003  171.639999  172.000000  169.610214   \n",
       "2022-01-07  172.889999  174.139999  171.029999  172.169998  169.777863   \n",
       "...                ...         ...         ...         ...         ...   \n",
       "2022-12-23  130.919998  132.419998  129.639999  131.860001  130.782578   \n",
       "2022-12-27  131.380005  131.410004  128.720001  130.029999  128.967499   \n",
       "2022-12-28  129.669998  131.029999  125.870003  126.040001  125.010124   \n",
       "2022-12-29  127.989998  130.479996  127.730003  129.610001  128.550949   \n",
       "2022-12-30  128.410004  129.949997  127.430000  129.929993  128.868317   \n",
       "\n",
       "               Volume  \n",
       "2022-01-03  104487900  \n",
       "2022-01-04   99310400  \n",
       "2022-01-05   94537600  \n",
       "2022-01-06   96904000  \n",
       "2022-01-07   86709100  \n",
       "...               ...  \n",
       "2022-12-23   63814900  \n",
       "2022-12-27   69007800  \n",
       "2022-12-28   85438400  \n",
       "2022-12-29   75703700  \n",
       "2022-12-30   77034200  \n",
       "\n",
       "[251 rows x 6 columns]"
      ]
     },
     "execution_count": 31,
     "metadata": {},
     "output_type": "execute_result"
    }
   ],
   "source": [
    "df.loc[\"2022\"]"
   ]
  },
  {
   "cell_type": "code",
   "execution_count": 32,
   "id": "b9166e7f",
   "metadata": {},
   "outputs": [
    {
     "data": {
      "text/html": [
       "<div>\n",
       "<style scoped>\n",
       "    .dataframe tbody tr th:only-of-type {\n",
       "        vertical-align: middle;\n",
       "    }\n",
       "\n",
       "    .dataframe tbody tr th {\n",
       "        vertical-align: top;\n",
       "    }\n",
       "\n",
       "    .dataframe thead th {\n",
       "        text-align: right;\n",
       "    }\n",
       "</style>\n",
       "<table border=\"1\" class=\"dataframe\">\n",
       "  <thead>\n",
       "    <tr style=\"text-align: right;\">\n",
       "      <th></th>\n",
       "      <th>Open</th>\n",
       "      <th>High</th>\n",
       "      <th>Low</th>\n",
       "      <th>Close</th>\n",
       "      <th>Adj Close</th>\n",
       "      <th>Volume</th>\n",
       "    </tr>\n",
       "  </thead>\n",
       "  <tbody>\n",
       "    <tr>\n",
       "      <th>2017-01-03</th>\n",
       "      <td>28.950001</td>\n",
       "      <td>29.082500</td>\n",
       "      <td>28.690001</td>\n",
       "      <td>29.037500</td>\n",
       "      <td>26.952711</td>\n",
       "      <td>115127600</td>\n",
       "    </tr>\n",
       "    <tr>\n",
       "      <th>2017-01-04</th>\n",
       "      <td>28.962500</td>\n",
       "      <td>29.127501</td>\n",
       "      <td>28.937500</td>\n",
       "      <td>29.004999</td>\n",
       "      <td>26.922541</td>\n",
       "      <td>84472400</td>\n",
       "    </tr>\n",
       "    <tr>\n",
       "      <th>2017-01-05</th>\n",
       "      <td>28.980000</td>\n",
       "      <td>29.215000</td>\n",
       "      <td>28.952499</td>\n",
       "      <td>29.152500</td>\n",
       "      <td>27.059456</td>\n",
       "      <td>88774400</td>\n",
       "    </tr>\n",
       "    <tr>\n",
       "      <th>2017-01-06</th>\n",
       "      <td>29.195000</td>\n",
       "      <td>29.540001</td>\n",
       "      <td>29.117500</td>\n",
       "      <td>29.477501</td>\n",
       "      <td>27.361116</td>\n",
       "      <td>127007600</td>\n",
       "    </tr>\n",
       "    <tr>\n",
       "      <th>2017-01-09</th>\n",
       "      <td>29.487499</td>\n",
       "      <td>29.857500</td>\n",
       "      <td>29.485001</td>\n",
       "      <td>29.747499</td>\n",
       "      <td>27.611732</td>\n",
       "      <td>134247600</td>\n",
       "    </tr>\n",
       "    <tr>\n",
       "      <th>...</th>\n",
       "      <td>...</td>\n",
       "      <td>...</td>\n",
       "      <td>...</td>\n",
       "      <td>...</td>\n",
       "      <td>...</td>\n",
       "      <td>...</td>\n",
       "    </tr>\n",
       "    <tr>\n",
       "      <th>2024-07-22</th>\n",
       "      <td>227.009995</td>\n",
       "      <td>227.779999</td>\n",
       "      <td>223.089996</td>\n",
       "      <td>223.960007</td>\n",
       "      <td>223.960007</td>\n",
       "      <td>48201800</td>\n",
       "    </tr>\n",
       "    <tr>\n",
       "      <th>2024-07-23</th>\n",
       "      <td>224.369995</td>\n",
       "      <td>226.940002</td>\n",
       "      <td>222.679993</td>\n",
       "      <td>225.009995</td>\n",
       "      <td>225.009995</td>\n",
       "      <td>39960300</td>\n",
       "    </tr>\n",
       "    <tr>\n",
       "      <th>2024-07-24</th>\n",
       "      <td>224.000000</td>\n",
       "      <td>224.800003</td>\n",
       "      <td>217.130005</td>\n",
       "      <td>218.539993</td>\n",
       "      <td>218.539993</td>\n",
       "      <td>61777600</td>\n",
       "    </tr>\n",
       "    <tr>\n",
       "      <th>2024-07-25</th>\n",
       "      <td>218.929993</td>\n",
       "      <td>220.850006</td>\n",
       "      <td>214.619995</td>\n",
       "      <td>217.490005</td>\n",
       "      <td>217.490005</td>\n",
       "      <td>51328200</td>\n",
       "    </tr>\n",
       "    <tr>\n",
       "      <th>2024-07-26</th>\n",
       "      <td>218.850006</td>\n",
       "      <td>219.149902</td>\n",
       "      <td>216.009995</td>\n",
       "      <td>216.979996</td>\n",
       "      <td>216.979996</td>\n",
       "      <td>12721410</td>\n",
       "    </tr>\n",
       "  </tbody>\n",
       "</table>\n",
       "<p>1903 rows × 6 columns</p>\n",
       "</div>"
      ],
      "text/plain": [
       "                  Open        High         Low       Close   Adj Close  \\\n",
       "2017-01-03   28.950001   29.082500   28.690001   29.037500   26.952711   \n",
       "2017-01-04   28.962500   29.127501   28.937500   29.004999   26.922541   \n",
       "2017-01-05   28.980000   29.215000   28.952499   29.152500   27.059456   \n",
       "2017-01-06   29.195000   29.540001   29.117500   29.477501   27.361116   \n",
       "2017-01-09   29.487499   29.857500   29.485001   29.747499   27.611732   \n",
       "...                ...         ...         ...         ...         ...   \n",
       "2024-07-22  227.009995  227.779999  223.089996  223.960007  223.960007   \n",
       "2024-07-23  224.369995  226.940002  222.679993  225.009995  225.009995   \n",
       "2024-07-24  224.000000  224.800003  217.130005  218.539993  218.539993   \n",
       "2024-07-25  218.929993  220.850006  214.619995  217.490005  217.490005   \n",
       "2024-07-26  218.850006  219.149902  216.009995  216.979996  216.979996   \n",
       "\n",
       "               Volume  \n",
       "2017-01-03  115127600  \n",
       "2017-01-04   84472400  \n",
       "2017-01-05   88774400  \n",
       "2017-01-06  127007600  \n",
       "2017-01-09  134247600  \n",
       "...               ...  \n",
       "2024-07-22   48201800  \n",
       "2024-07-23   39960300  \n",
       "2024-07-24   61777600  \n",
       "2024-07-25   51328200  \n",
       "2024-07-26   12721410  \n",
       "\n",
       "[1903 rows x 6 columns]"
      ]
     },
     "execution_count": 32,
     "metadata": {},
     "output_type": "execute_result"
    }
   ],
   "source": [
    "df.loc[\"2017\":]"
   ]
  },
  {
   "cell_type": "code",
   "execution_count": 33,
   "id": "8e2ecf0a",
   "metadata": {},
   "outputs": [
    {
     "name": "stderr",
     "output_type": "stream",
     "text": [
      "[*********************100%%**********************]  1 of 1 completed\n"
     ]
    },
    {
     "data": {
      "text/html": [
       "<div>\n",
       "<style scoped>\n",
       "    .dataframe tbody tr th:only-of-type {\n",
       "        vertical-align: middle;\n",
       "    }\n",
       "\n",
       "    .dataframe tbody tr th {\n",
       "        vertical-align: top;\n",
       "    }\n",
       "\n",
       "    .dataframe thead th {\n",
       "        text-align: right;\n",
       "    }\n",
       "</style>\n",
       "<table border=\"1\" class=\"dataframe\">\n",
       "  <thead>\n",
       "    <tr style=\"text-align: right;\">\n",
       "      <th></th>\n",
       "      <th>Open</th>\n",
       "      <th>High</th>\n",
       "      <th>Low</th>\n",
       "      <th>Close</th>\n",
       "      <th>Adj Close</th>\n",
       "      <th>Volume</th>\n",
       "    </tr>\n",
       "    <tr>\n",
       "      <th>Date</th>\n",
       "      <th></th>\n",
       "      <th></th>\n",
       "      <th></th>\n",
       "      <th></th>\n",
       "      <th></th>\n",
       "      <th></th>\n",
       "    </tr>\n",
       "  </thead>\n",
       "  <tbody>\n",
       "    <tr>\n",
       "      <th>2020-07-01</th>\n",
       "      <td>91.279999</td>\n",
       "      <td>91.839996</td>\n",
       "      <td>90.977501</td>\n",
       "      <td>91.027496</td>\n",
       "      <td>88.898842</td>\n",
       "      <td>110737200</td>\n",
       "    </tr>\n",
       "    <tr>\n",
       "      <th>2020-07-02</th>\n",
       "      <td>91.962502</td>\n",
       "      <td>92.617500</td>\n",
       "      <td>90.910004</td>\n",
       "      <td>91.027496</td>\n",
       "      <td>88.898842</td>\n",
       "      <td>114041600</td>\n",
       "    </tr>\n",
       "    <tr>\n",
       "      <th>2020-07-06</th>\n",
       "      <td>92.500000</td>\n",
       "      <td>93.945000</td>\n",
       "      <td>92.467499</td>\n",
       "      <td>93.462502</td>\n",
       "      <td>91.276894</td>\n",
       "      <td>118655600</td>\n",
       "    </tr>\n",
       "    <tr>\n",
       "      <th>2020-07-07</th>\n",
       "      <td>93.852501</td>\n",
       "      <td>94.654999</td>\n",
       "      <td>93.057503</td>\n",
       "      <td>93.172501</td>\n",
       "      <td>90.993683</td>\n",
       "      <td>112424400</td>\n",
       "    </tr>\n",
       "    <tr>\n",
       "      <th>2020-07-08</th>\n",
       "      <td>94.180000</td>\n",
       "      <td>95.375000</td>\n",
       "      <td>94.089996</td>\n",
       "      <td>95.342499</td>\n",
       "      <td>93.112923</td>\n",
       "      <td>117092000</td>\n",
       "    </tr>\n",
       "    <tr>\n",
       "      <th>...</th>\n",
       "      <td>...</td>\n",
       "      <td>...</td>\n",
       "      <td>...</td>\n",
       "      <td>...</td>\n",
       "      <td>...</td>\n",
       "      <td>...</td>\n",
       "    </tr>\n",
       "    <tr>\n",
       "      <th>2020-12-23</th>\n",
       "      <td>132.160004</td>\n",
       "      <td>132.429993</td>\n",
       "      <td>130.779999</td>\n",
       "      <td>130.960007</td>\n",
       "      <td>128.349167</td>\n",
       "      <td>88223700</td>\n",
       "    </tr>\n",
       "    <tr>\n",
       "      <th>2020-12-24</th>\n",
       "      <td>131.320007</td>\n",
       "      <td>133.460007</td>\n",
       "      <td>131.100006</td>\n",
       "      <td>131.970001</td>\n",
       "      <td>129.339066</td>\n",
       "      <td>54930100</td>\n",
       "    </tr>\n",
       "    <tr>\n",
       "      <th>2020-12-28</th>\n",
       "      <td>133.990005</td>\n",
       "      <td>137.339996</td>\n",
       "      <td>133.509995</td>\n",
       "      <td>136.690002</td>\n",
       "      <td>133.964935</td>\n",
       "      <td>124486200</td>\n",
       "    </tr>\n",
       "    <tr>\n",
       "      <th>2020-12-29</th>\n",
       "      <td>138.050003</td>\n",
       "      <td>138.789993</td>\n",
       "      <td>134.339996</td>\n",
       "      <td>134.869995</td>\n",
       "      <td>132.181244</td>\n",
       "      <td>121047300</td>\n",
       "    </tr>\n",
       "    <tr>\n",
       "      <th>2020-12-30</th>\n",
       "      <td>135.580002</td>\n",
       "      <td>135.990005</td>\n",
       "      <td>133.399994</td>\n",
       "      <td>133.720001</td>\n",
       "      <td>131.054153</td>\n",
       "      <td>96452100</td>\n",
       "    </tr>\n",
       "  </tbody>\n",
       "</table>\n",
       "<p>127 rows × 6 columns</p>\n",
       "</div>"
      ],
      "text/plain": [
       "                  Open        High         Low       Close   Adj Close  \\\n",
       "Date                                                                     \n",
       "2020-07-01   91.279999   91.839996   90.977501   91.027496   88.898842   \n",
       "2020-07-02   91.962502   92.617500   90.910004   91.027496   88.898842   \n",
       "2020-07-06   92.500000   93.945000   92.467499   93.462502   91.276894   \n",
       "2020-07-07   93.852501   94.654999   93.057503   93.172501   90.993683   \n",
       "2020-07-08   94.180000   95.375000   94.089996   95.342499   93.112923   \n",
       "...                ...         ...         ...         ...         ...   \n",
       "2020-12-23  132.160004  132.429993  130.779999  130.960007  128.349167   \n",
       "2020-12-24  131.320007  133.460007  131.100006  131.970001  129.339066   \n",
       "2020-12-28  133.990005  137.339996  133.509995  136.690002  133.964935   \n",
       "2020-12-29  138.050003  138.789993  134.339996  134.869995  132.181244   \n",
       "2020-12-30  135.580002  135.990005  133.399994  133.720001  131.054153   \n",
       "\n",
       "               Volume  \n",
       "Date                   \n",
       "2020-07-01  110737200  \n",
       "2020-07-02  114041600  \n",
       "2020-07-06  118655600  \n",
       "2020-07-07  112424400  \n",
       "2020-07-08  117092000  \n",
       "...               ...  \n",
       "2020-12-23   88223700  \n",
       "2020-12-24   54930100  \n",
       "2020-12-28  124486200  \n",
       "2020-12-29  121047300  \n",
       "2020-12-30   96452100  \n",
       "\n",
       "[127 rows x 6 columns]"
      ]
     },
     "execution_count": 33,
     "metadata": {},
     "output_type": "execute_result"
    }
   ],
   "source": [
    "df = yf.download(tickers = symbol, start = \"2020-07-01\", end = \"2020-12-31\")\n",
    "df"
   ]
  },
  {
   "cell_type": "markdown",
   "id": "53753166",
   "metadata": {},
   "source": [
    "Valid periods: 1d,5d,1mo,3mo,6mo,1y,2y,5y,10y,ytd,max"
   ]
  },
  {
   "cell_type": "code",
   "execution_count": 34,
   "id": "d961b048",
   "metadata": {},
   "outputs": [
    {
     "name": "stderr",
     "output_type": "stream",
     "text": [
      "[*********************100%%**********************]  1 of 1 completed\n"
     ]
    },
    {
     "data": {
      "text/html": [
       "<div>\n",
       "<style scoped>\n",
       "    .dataframe tbody tr th:only-of-type {\n",
       "        vertical-align: middle;\n",
       "    }\n",
       "\n",
       "    .dataframe tbody tr th {\n",
       "        vertical-align: top;\n",
       "    }\n",
       "\n",
       "    .dataframe thead th {\n",
       "        text-align: right;\n",
       "    }\n",
       "</style>\n",
       "<table border=\"1\" class=\"dataframe\">\n",
       "  <thead>\n",
       "    <tr style=\"text-align: right;\">\n",
       "      <th></th>\n",
       "      <th>Open</th>\n",
       "      <th>High</th>\n",
       "      <th>Low</th>\n",
       "      <th>Close</th>\n",
       "      <th>Adj Close</th>\n",
       "      <th>Volume</th>\n",
       "    </tr>\n",
       "    <tr>\n",
       "      <th>Date</th>\n",
       "      <th></th>\n",
       "      <th></th>\n",
       "      <th></th>\n",
       "      <th></th>\n",
       "      <th></th>\n",
       "      <th></th>\n",
       "    </tr>\n",
       "  </thead>\n",
       "  <tbody>\n",
       "    <tr>\n",
       "      <th>2024-06-26</th>\n",
       "      <td>211.500000</td>\n",
       "      <td>214.860001</td>\n",
       "      <td>210.639999</td>\n",
       "      <td>213.250000</td>\n",
       "      <td>213.250000</td>\n",
       "      <td>66213200</td>\n",
       "    </tr>\n",
       "    <tr>\n",
       "      <th>2024-06-27</th>\n",
       "      <td>214.690002</td>\n",
       "      <td>215.740005</td>\n",
       "      <td>212.350006</td>\n",
       "      <td>214.100006</td>\n",
       "      <td>214.100006</td>\n",
       "      <td>49772700</td>\n",
       "    </tr>\n",
       "    <tr>\n",
       "      <th>2024-06-28</th>\n",
       "      <td>215.770004</td>\n",
       "      <td>216.070007</td>\n",
       "      <td>210.300003</td>\n",
       "      <td>210.619995</td>\n",
       "      <td>210.619995</td>\n",
       "      <td>82542700</td>\n",
       "    </tr>\n",
       "    <tr>\n",
       "      <th>2024-07-01</th>\n",
       "      <td>212.089996</td>\n",
       "      <td>217.509995</td>\n",
       "      <td>211.919998</td>\n",
       "      <td>216.750000</td>\n",
       "      <td>216.750000</td>\n",
       "      <td>60402900</td>\n",
       "    </tr>\n",
       "    <tr>\n",
       "      <th>2024-07-02</th>\n",
       "      <td>216.149994</td>\n",
       "      <td>220.380005</td>\n",
       "      <td>215.100006</td>\n",
       "      <td>220.270004</td>\n",
       "      <td>220.270004</td>\n",
       "      <td>58046200</td>\n",
       "    </tr>\n",
       "    <tr>\n",
       "      <th>2024-07-03</th>\n",
       "      <td>220.000000</td>\n",
       "      <td>221.550003</td>\n",
       "      <td>219.029999</td>\n",
       "      <td>221.550003</td>\n",
       "      <td>221.550003</td>\n",
       "      <td>37369800</td>\n",
       "    </tr>\n",
       "    <tr>\n",
       "      <th>2024-07-05</th>\n",
       "      <td>221.649994</td>\n",
       "      <td>226.449997</td>\n",
       "      <td>221.649994</td>\n",
       "      <td>226.339996</td>\n",
       "      <td>226.339996</td>\n",
       "      <td>60412400</td>\n",
       "    </tr>\n",
       "    <tr>\n",
       "      <th>2024-07-08</th>\n",
       "      <td>227.089996</td>\n",
       "      <td>227.850006</td>\n",
       "      <td>223.250000</td>\n",
       "      <td>227.820007</td>\n",
       "      <td>227.820007</td>\n",
       "      <td>59085900</td>\n",
       "    </tr>\n",
       "    <tr>\n",
       "      <th>2024-07-09</th>\n",
       "      <td>227.929993</td>\n",
       "      <td>229.399994</td>\n",
       "      <td>226.369995</td>\n",
       "      <td>228.679993</td>\n",
       "      <td>228.679993</td>\n",
       "      <td>48076100</td>\n",
       "    </tr>\n",
       "    <tr>\n",
       "      <th>2024-07-10</th>\n",
       "      <td>229.300003</td>\n",
       "      <td>233.080002</td>\n",
       "      <td>229.250000</td>\n",
       "      <td>232.979996</td>\n",
       "      <td>232.979996</td>\n",
       "      <td>62627700</td>\n",
       "    </tr>\n",
       "    <tr>\n",
       "      <th>2024-07-11</th>\n",
       "      <td>231.389999</td>\n",
       "      <td>232.389999</td>\n",
       "      <td>225.770004</td>\n",
       "      <td>227.570007</td>\n",
       "      <td>227.570007</td>\n",
       "      <td>64710600</td>\n",
       "    </tr>\n",
       "    <tr>\n",
       "      <th>2024-07-12</th>\n",
       "      <td>228.919998</td>\n",
       "      <td>232.639999</td>\n",
       "      <td>228.679993</td>\n",
       "      <td>230.539993</td>\n",
       "      <td>230.539993</td>\n",
       "      <td>53046500</td>\n",
       "    </tr>\n",
       "    <tr>\n",
       "      <th>2024-07-15</th>\n",
       "      <td>236.479996</td>\n",
       "      <td>237.229996</td>\n",
       "      <td>233.089996</td>\n",
       "      <td>234.399994</td>\n",
       "      <td>234.399994</td>\n",
       "      <td>62631300</td>\n",
       "    </tr>\n",
       "    <tr>\n",
       "      <th>2024-07-16</th>\n",
       "      <td>235.000000</td>\n",
       "      <td>236.270004</td>\n",
       "      <td>232.330002</td>\n",
       "      <td>234.820007</td>\n",
       "      <td>234.820007</td>\n",
       "      <td>43234300</td>\n",
       "    </tr>\n",
       "    <tr>\n",
       "      <th>2024-07-17</th>\n",
       "      <td>229.449997</td>\n",
       "      <td>231.460007</td>\n",
       "      <td>226.639999</td>\n",
       "      <td>228.880005</td>\n",
       "      <td>228.880005</td>\n",
       "      <td>57345900</td>\n",
       "    </tr>\n",
       "    <tr>\n",
       "      <th>2024-07-18</th>\n",
       "      <td>230.279999</td>\n",
       "      <td>230.440002</td>\n",
       "      <td>222.270004</td>\n",
       "      <td>224.179993</td>\n",
       "      <td>224.179993</td>\n",
       "      <td>66034600</td>\n",
       "    </tr>\n",
       "    <tr>\n",
       "      <th>2024-07-19</th>\n",
       "      <td>224.820007</td>\n",
       "      <td>226.800003</td>\n",
       "      <td>223.279999</td>\n",
       "      <td>224.309998</td>\n",
       "      <td>224.309998</td>\n",
       "      <td>49151500</td>\n",
       "    </tr>\n",
       "    <tr>\n",
       "      <th>2024-07-22</th>\n",
       "      <td>227.009995</td>\n",
       "      <td>227.779999</td>\n",
       "      <td>223.089996</td>\n",
       "      <td>223.960007</td>\n",
       "      <td>223.960007</td>\n",
       "      <td>48201800</td>\n",
       "    </tr>\n",
       "    <tr>\n",
       "      <th>2024-07-23</th>\n",
       "      <td>224.369995</td>\n",
       "      <td>226.940002</td>\n",
       "      <td>222.679993</td>\n",
       "      <td>225.009995</td>\n",
       "      <td>225.009995</td>\n",
       "      <td>39960300</td>\n",
       "    </tr>\n",
       "    <tr>\n",
       "      <th>2024-07-24</th>\n",
       "      <td>224.000000</td>\n",
       "      <td>224.800003</td>\n",
       "      <td>217.130005</td>\n",
       "      <td>218.539993</td>\n",
       "      <td>218.539993</td>\n",
       "      <td>61777600</td>\n",
       "    </tr>\n",
       "    <tr>\n",
       "      <th>2024-07-25</th>\n",
       "      <td>218.929993</td>\n",
       "      <td>220.850006</td>\n",
       "      <td>214.619995</td>\n",
       "      <td>217.490005</td>\n",
       "      <td>217.490005</td>\n",
       "      <td>51328200</td>\n",
       "    </tr>\n",
       "    <tr>\n",
       "      <th>2024-07-26</th>\n",
       "      <td>218.850006</td>\n",
       "      <td>219.149902</td>\n",
       "      <td>216.009995</td>\n",
       "      <td>216.979095</td>\n",
       "      <td>216.979095</td>\n",
       "      <td>12728038</td>\n",
       "    </tr>\n",
       "  </tbody>\n",
       "</table>\n",
       "</div>"
      ],
      "text/plain": [
       "                  Open        High         Low       Close   Adj Close  \\\n",
       "Date                                                                     \n",
       "2024-06-26  211.500000  214.860001  210.639999  213.250000  213.250000   \n",
       "2024-06-27  214.690002  215.740005  212.350006  214.100006  214.100006   \n",
       "2024-06-28  215.770004  216.070007  210.300003  210.619995  210.619995   \n",
       "2024-07-01  212.089996  217.509995  211.919998  216.750000  216.750000   \n",
       "2024-07-02  216.149994  220.380005  215.100006  220.270004  220.270004   \n",
       "2024-07-03  220.000000  221.550003  219.029999  221.550003  221.550003   \n",
       "2024-07-05  221.649994  226.449997  221.649994  226.339996  226.339996   \n",
       "2024-07-08  227.089996  227.850006  223.250000  227.820007  227.820007   \n",
       "2024-07-09  227.929993  229.399994  226.369995  228.679993  228.679993   \n",
       "2024-07-10  229.300003  233.080002  229.250000  232.979996  232.979996   \n",
       "2024-07-11  231.389999  232.389999  225.770004  227.570007  227.570007   \n",
       "2024-07-12  228.919998  232.639999  228.679993  230.539993  230.539993   \n",
       "2024-07-15  236.479996  237.229996  233.089996  234.399994  234.399994   \n",
       "2024-07-16  235.000000  236.270004  232.330002  234.820007  234.820007   \n",
       "2024-07-17  229.449997  231.460007  226.639999  228.880005  228.880005   \n",
       "2024-07-18  230.279999  230.440002  222.270004  224.179993  224.179993   \n",
       "2024-07-19  224.820007  226.800003  223.279999  224.309998  224.309998   \n",
       "2024-07-22  227.009995  227.779999  223.089996  223.960007  223.960007   \n",
       "2024-07-23  224.369995  226.940002  222.679993  225.009995  225.009995   \n",
       "2024-07-24  224.000000  224.800003  217.130005  218.539993  218.539993   \n",
       "2024-07-25  218.929993  220.850006  214.619995  217.490005  217.490005   \n",
       "2024-07-26  218.850006  219.149902  216.009995  216.979095  216.979095   \n",
       "\n",
       "              Volume  \n",
       "Date                  \n",
       "2024-06-26  66213200  \n",
       "2024-06-27  49772700  \n",
       "2024-06-28  82542700  \n",
       "2024-07-01  60402900  \n",
       "2024-07-02  58046200  \n",
       "2024-07-03  37369800  \n",
       "2024-07-05  60412400  \n",
       "2024-07-08  59085900  \n",
       "2024-07-09  48076100  \n",
       "2024-07-10  62627700  \n",
       "2024-07-11  64710600  \n",
       "2024-07-12  53046500  \n",
       "2024-07-15  62631300  \n",
       "2024-07-16  43234300  \n",
       "2024-07-17  57345900  \n",
       "2024-07-18  66034600  \n",
       "2024-07-19  49151500  \n",
       "2024-07-22  48201800  \n",
       "2024-07-23  39960300  \n",
       "2024-07-24  61777600  \n",
       "2024-07-25  51328200  \n",
       "2024-07-26  12728038  "
      ]
     },
     "execution_count": 34,
     "metadata": {},
     "output_type": "execute_result"
    }
   ],
   "source": [
    "df = yf.download(tickers = symbol, period = \"1mo\") # last 30 days\n",
    "df"
   ]
  },
  {
   "cell_type": "code",
   "execution_count": 35,
   "id": "a65183a7",
   "metadata": {},
   "outputs": [
    {
     "name": "stderr",
     "output_type": "stream",
     "text": [
      "[*********************100%%**********************]  1 of 1 completed\n"
     ]
    },
    {
     "data": {
      "text/html": [
       "<div>\n",
       "<style scoped>\n",
       "    .dataframe tbody tr th:only-of-type {\n",
       "        vertical-align: middle;\n",
       "    }\n",
       "\n",
       "    .dataframe tbody tr th {\n",
       "        vertical-align: top;\n",
       "    }\n",
       "\n",
       "    .dataframe thead th {\n",
       "        text-align: right;\n",
       "    }\n",
       "</style>\n",
       "<table border=\"1\" class=\"dataframe\">\n",
       "  <thead>\n",
       "    <tr style=\"text-align: right;\">\n",
       "      <th></th>\n",
       "      <th>Open</th>\n",
       "      <th>High</th>\n",
       "      <th>Low</th>\n",
       "      <th>Close</th>\n",
       "      <th>Adj Close</th>\n",
       "      <th>Volume</th>\n",
       "    </tr>\n",
       "    <tr>\n",
       "      <th>Date</th>\n",
       "      <th></th>\n",
       "      <th></th>\n",
       "      <th></th>\n",
       "      <th></th>\n",
       "      <th></th>\n",
       "      <th></th>\n",
       "    </tr>\n",
       "  </thead>\n",
       "  <tbody>\n",
       "    <tr>\n",
       "      <th>2023-07-26</th>\n",
       "      <td>193.669998</td>\n",
       "      <td>195.639999</td>\n",
       "      <td>193.320007</td>\n",
       "      <td>194.500000</td>\n",
       "      <td>193.472519</td>\n",
       "      <td>47471900</td>\n",
       "    </tr>\n",
       "    <tr>\n",
       "      <th>2023-07-27</th>\n",
       "      <td>196.020004</td>\n",
       "      <td>197.199997</td>\n",
       "      <td>192.550003</td>\n",
       "      <td>193.220001</td>\n",
       "      <td>192.199265</td>\n",
       "      <td>47460200</td>\n",
       "    </tr>\n",
       "    <tr>\n",
       "      <th>2023-07-28</th>\n",
       "      <td>194.669998</td>\n",
       "      <td>196.630005</td>\n",
       "      <td>194.139999</td>\n",
       "      <td>195.830002</td>\n",
       "      <td>194.795502</td>\n",
       "      <td>48291400</td>\n",
       "    </tr>\n",
       "    <tr>\n",
       "      <th>2023-07-31</th>\n",
       "      <td>196.059998</td>\n",
       "      <td>196.490005</td>\n",
       "      <td>195.259995</td>\n",
       "      <td>196.449997</td>\n",
       "      <td>195.412216</td>\n",
       "      <td>38824100</td>\n",
       "    </tr>\n",
       "    <tr>\n",
       "      <th>2023-08-01</th>\n",
       "      <td>196.240005</td>\n",
       "      <td>196.729996</td>\n",
       "      <td>195.279999</td>\n",
       "      <td>195.610001</td>\n",
       "      <td>194.576645</td>\n",
       "      <td>35175100</td>\n",
       "    </tr>\n",
       "    <tr>\n",
       "      <th>...</th>\n",
       "      <td>...</td>\n",
       "      <td>...</td>\n",
       "      <td>...</td>\n",
       "      <td>...</td>\n",
       "      <td>...</td>\n",
       "      <td>...</td>\n",
       "    </tr>\n",
       "    <tr>\n",
       "      <th>2024-07-22</th>\n",
       "      <td>227.009995</td>\n",
       "      <td>227.779999</td>\n",
       "      <td>223.089996</td>\n",
       "      <td>223.960007</td>\n",
       "      <td>223.960007</td>\n",
       "      <td>48201800</td>\n",
       "    </tr>\n",
       "    <tr>\n",
       "      <th>2024-07-23</th>\n",
       "      <td>224.369995</td>\n",
       "      <td>226.940002</td>\n",
       "      <td>222.679993</td>\n",
       "      <td>225.009995</td>\n",
       "      <td>225.009995</td>\n",
       "      <td>39960300</td>\n",
       "    </tr>\n",
       "    <tr>\n",
       "      <th>2024-07-24</th>\n",
       "      <td>224.000000</td>\n",
       "      <td>224.800003</td>\n",
       "      <td>217.130005</td>\n",
       "      <td>218.539993</td>\n",
       "      <td>218.539993</td>\n",
       "      <td>61777600</td>\n",
       "    </tr>\n",
       "    <tr>\n",
       "      <th>2024-07-25</th>\n",
       "      <td>218.929993</td>\n",
       "      <td>220.850006</td>\n",
       "      <td>214.619995</td>\n",
       "      <td>217.490005</td>\n",
       "      <td>217.490005</td>\n",
       "      <td>51328200</td>\n",
       "    </tr>\n",
       "    <tr>\n",
       "      <th>2024-07-26</th>\n",
       "      <td>218.850006</td>\n",
       "      <td>219.149902</td>\n",
       "      <td>216.009995</td>\n",
       "      <td>216.979095</td>\n",
       "      <td>216.979095</td>\n",
       "      <td>12728102</td>\n",
       "    </tr>\n",
       "  </tbody>\n",
       "</table>\n",
       "<p>253 rows × 6 columns</p>\n",
       "</div>"
      ],
      "text/plain": [
       "                  Open        High         Low       Close   Adj Close  \\\n",
       "Date                                                                     \n",
       "2023-07-26  193.669998  195.639999  193.320007  194.500000  193.472519   \n",
       "2023-07-27  196.020004  197.199997  192.550003  193.220001  192.199265   \n",
       "2023-07-28  194.669998  196.630005  194.139999  195.830002  194.795502   \n",
       "2023-07-31  196.059998  196.490005  195.259995  196.449997  195.412216   \n",
       "2023-08-01  196.240005  196.729996  195.279999  195.610001  194.576645   \n",
       "...                ...         ...         ...         ...         ...   \n",
       "2024-07-22  227.009995  227.779999  223.089996  223.960007  223.960007   \n",
       "2024-07-23  224.369995  226.940002  222.679993  225.009995  225.009995   \n",
       "2024-07-24  224.000000  224.800003  217.130005  218.539993  218.539993   \n",
       "2024-07-25  218.929993  220.850006  214.619995  217.490005  217.490005   \n",
       "2024-07-26  218.850006  219.149902  216.009995  216.979095  216.979095   \n",
       "\n",
       "              Volume  \n",
       "Date                  \n",
       "2023-07-26  47471900  \n",
       "2023-07-27  47460200  \n",
       "2023-07-28  48291400  \n",
       "2023-07-31  38824100  \n",
       "2023-08-01  35175100  \n",
       "...              ...  \n",
       "2024-07-22  48201800  \n",
       "2024-07-23  39960300  \n",
       "2024-07-24  61777600  \n",
       "2024-07-25  51328200  \n",
       "2024-07-26  12728102  \n",
       "\n",
       "[253 rows x 6 columns]"
      ]
     },
     "execution_count": 35,
     "metadata": {},
     "output_type": "execute_result"
    }
   ],
   "source": [
    "df = yf.download(tickers = symbol, period = \"1y\") # last 365 days \n",
    "df"
   ]
  },
  {
   "cell_type": "code",
   "execution_count": 36,
   "id": "9522b378",
   "metadata": {},
   "outputs": [
    {
     "name": "stderr",
     "output_type": "stream",
     "text": [
      "[*********************100%%**********************]  1 of 1 completed\n"
     ]
    },
    {
     "data": {
      "text/html": [
       "<div>\n",
       "<style scoped>\n",
       "    .dataframe tbody tr th:only-of-type {\n",
       "        vertical-align: middle;\n",
       "    }\n",
       "\n",
       "    .dataframe tbody tr th {\n",
       "        vertical-align: top;\n",
       "    }\n",
       "\n",
       "    .dataframe thead th {\n",
       "        text-align: right;\n",
       "    }\n",
       "</style>\n",
       "<table border=\"1\" class=\"dataframe\">\n",
       "  <thead>\n",
       "    <tr style=\"text-align: right;\">\n",
       "      <th></th>\n",
       "      <th>Open</th>\n",
       "      <th>High</th>\n",
       "      <th>Low</th>\n",
       "      <th>Close</th>\n",
       "      <th>Adj Close</th>\n",
       "      <th>Volume</th>\n",
       "    </tr>\n",
       "    <tr>\n",
       "      <th>Date</th>\n",
       "      <th></th>\n",
       "      <th></th>\n",
       "      <th></th>\n",
       "      <th></th>\n",
       "      <th></th>\n",
       "      <th></th>\n",
       "    </tr>\n",
       "  </thead>\n",
       "  <tbody>\n",
       "    <tr>\n",
       "      <th>2024-01-02</th>\n",
       "      <td>187.149994</td>\n",
       "      <td>188.440002</td>\n",
       "      <td>183.889999</td>\n",
       "      <td>185.639999</td>\n",
       "      <td>185.152283</td>\n",
       "      <td>82488700</td>\n",
       "    </tr>\n",
       "    <tr>\n",
       "      <th>2024-01-03</th>\n",
       "      <td>184.220001</td>\n",
       "      <td>185.880005</td>\n",
       "      <td>183.429993</td>\n",
       "      <td>184.250000</td>\n",
       "      <td>183.765930</td>\n",
       "      <td>58414500</td>\n",
       "    </tr>\n",
       "    <tr>\n",
       "      <th>2024-01-04</th>\n",
       "      <td>182.149994</td>\n",
       "      <td>183.089996</td>\n",
       "      <td>180.880005</td>\n",
       "      <td>181.910004</td>\n",
       "      <td>181.432098</td>\n",
       "      <td>71983600</td>\n",
       "    </tr>\n",
       "    <tr>\n",
       "      <th>2024-01-05</th>\n",
       "      <td>181.990005</td>\n",
       "      <td>182.759995</td>\n",
       "      <td>180.169998</td>\n",
       "      <td>181.179993</td>\n",
       "      <td>180.703995</td>\n",
       "      <td>62303300</td>\n",
       "    </tr>\n",
       "    <tr>\n",
       "      <th>2024-01-08</th>\n",
       "      <td>182.089996</td>\n",
       "      <td>185.600006</td>\n",
       "      <td>181.500000</td>\n",
       "      <td>185.559998</td>\n",
       "      <td>185.072495</td>\n",
       "      <td>59144500</td>\n",
       "    </tr>\n",
       "    <tr>\n",
       "      <th>...</th>\n",
       "      <td>...</td>\n",
       "      <td>...</td>\n",
       "      <td>...</td>\n",
       "      <td>...</td>\n",
       "      <td>...</td>\n",
       "      <td>...</td>\n",
       "    </tr>\n",
       "    <tr>\n",
       "      <th>2024-07-22</th>\n",
       "      <td>227.009995</td>\n",
       "      <td>227.779999</td>\n",
       "      <td>223.089996</td>\n",
       "      <td>223.960007</td>\n",
       "      <td>223.960007</td>\n",
       "      <td>48201800</td>\n",
       "    </tr>\n",
       "    <tr>\n",
       "      <th>2024-07-23</th>\n",
       "      <td>224.369995</td>\n",
       "      <td>226.940002</td>\n",
       "      <td>222.679993</td>\n",
       "      <td>225.009995</td>\n",
       "      <td>225.009995</td>\n",
       "      <td>39960300</td>\n",
       "    </tr>\n",
       "    <tr>\n",
       "      <th>2024-07-24</th>\n",
       "      <td>224.000000</td>\n",
       "      <td>224.800003</td>\n",
       "      <td>217.130005</td>\n",
       "      <td>218.539993</td>\n",
       "      <td>218.539993</td>\n",
       "      <td>61777600</td>\n",
       "    </tr>\n",
       "    <tr>\n",
       "      <th>2024-07-25</th>\n",
       "      <td>218.929993</td>\n",
       "      <td>220.850006</td>\n",
       "      <td>214.619995</td>\n",
       "      <td>217.490005</td>\n",
       "      <td>217.490005</td>\n",
       "      <td>51328200</td>\n",
       "    </tr>\n",
       "    <tr>\n",
       "      <th>2024-07-26</th>\n",
       "      <td>218.850006</td>\n",
       "      <td>219.149902</td>\n",
       "      <td>216.009995</td>\n",
       "      <td>216.979095</td>\n",
       "      <td>216.979095</td>\n",
       "      <td>12728102</td>\n",
       "    </tr>\n",
       "  </tbody>\n",
       "</table>\n",
       "<p>143 rows × 6 columns</p>\n",
       "</div>"
      ],
      "text/plain": [
       "                  Open        High         Low       Close   Adj Close  \\\n",
       "Date                                                                     \n",
       "2024-01-02  187.149994  188.440002  183.889999  185.639999  185.152283   \n",
       "2024-01-03  184.220001  185.880005  183.429993  184.250000  183.765930   \n",
       "2024-01-04  182.149994  183.089996  180.880005  181.910004  181.432098   \n",
       "2024-01-05  181.990005  182.759995  180.169998  181.179993  180.703995   \n",
       "2024-01-08  182.089996  185.600006  181.500000  185.559998  185.072495   \n",
       "...                ...         ...         ...         ...         ...   \n",
       "2024-07-22  227.009995  227.779999  223.089996  223.960007  223.960007   \n",
       "2024-07-23  224.369995  226.940002  222.679993  225.009995  225.009995   \n",
       "2024-07-24  224.000000  224.800003  217.130005  218.539993  218.539993   \n",
       "2024-07-25  218.929993  220.850006  214.619995  217.490005  217.490005   \n",
       "2024-07-26  218.850006  219.149902  216.009995  216.979095  216.979095   \n",
       "\n",
       "              Volume  \n",
       "Date                  \n",
       "2024-01-02  82488700  \n",
       "2024-01-03  58414500  \n",
       "2024-01-04  71983600  \n",
       "2024-01-05  62303300  \n",
       "2024-01-08  59144500  \n",
       "...              ...  \n",
       "2024-07-22  48201800  \n",
       "2024-07-23  39960300  \n",
       "2024-07-24  61777600  \n",
       "2024-07-25  51328200  \n",
       "2024-07-26  12728102  \n",
       "\n",
       "[143 rows x 6 columns]"
      ]
     },
     "execution_count": 36,
     "metadata": {},
     "output_type": "execute_result"
    }
   ],
   "source": [
    "df = yf.download(tickers = symbol, period = \"ytd\") # year-to-date \n",
    "df"
   ]
  },
  {
   "cell_type": "code",
   "execution_count": 37,
   "id": "eb7e6422",
   "metadata": {},
   "outputs": [
    {
     "name": "stderr",
     "output_type": "stream",
     "text": [
      "[*********************100%%**********************]  1 of 1 completed\n"
     ]
    },
    {
     "data": {
      "text/html": [
       "<div>\n",
       "<style scoped>\n",
       "    .dataframe tbody tr th:only-of-type {\n",
       "        vertical-align: middle;\n",
       "    }\n",
       "\n",
       "    .dataframe tbody tr th {\n",
       "        vertical-align: top;\n",
       "    }\n",
       "\n",
       "    .dataframe thead th {\n",
       "        text-align: right;\n",
       "    }\n",
       "</style>\n",
       "<table border=\"1\" class=\"dataframe\">\n",
       "  <thead>\n",
       "    <tr style=\"text-align: right;\">\n",
       "      <th></th>\n",
       "      <th>Open</th>\n",
       "      <th>High</th>\n",
       "      <th>Low</th>\n",
       "      <th>Close</th>\n",
       "      <th>Adj Close</th>\n",
       "      <th>Volume</th>\n",
       "    </tr>\n",
       "    <tr>\n",
       "      <th>Date</th>\n",
       "      <th></th>\n",
       "      <th></th>\n",
       "      <th></th>\n",
       "      <th></th>\n",
       "      <th></th>\n",
       "      <th></th>\n",
       "    </tr>\n",
       "  </thead>\n",
       "  <tbody>\n",
       "    <tr>\n",
       "      <th>1980-12-12</th>\n",
       "      <td>0.128348</td>\n",
       "      <td>0.128906</td>\n",
       "      <td>0.128348</td>\n",
       "      <td>0.128348</td>\n",
       "      <td>0.099058</td>\n",
       "      <td>469033600</td>\n",
       "    </tr>\n",
       "    <tr>\n",
       "      <th>1980-12-15</th>\n",
       "      <td>0.122210</td>\n",
       "      <td>0.122210</td>\n",
       "      <td>0.121652</td>\n",
       "      <td>0.121652</td>\n",
       "      <td>0.093890</td>\n",
       "      <td>175884800</td>\n",
       "    </tr>\n",
       "    <tr>\n",
       "      <th>1980-12-16</th>\n",
       "      <td>0.113281</td>\n",
       "      <td>0.113281</td>\n",
       "      <td>0.112723</td>\n",
       "      <td>0.112723</td>\n",
       "      <td>0.086999</td>\n",
       "      <td>105728000</td>\n",
       "    </tr>\n",
       "    <tr>\n",
       "      <th>1980-12-17</th>\n",
       "      <td>0.115513</td>\n",
       "      <td>0.116071</td>\n",
       "      <td>0.115513</td>\n",
       "      <td>0.115513</td>\n",
       "      <td>0.089152</td>\n",
       "      <td>86441600</td>\n",
       "    </tr>\n",
       "    <tr>\n",
       "      <th>1980-12-18</th>\n",
       "      <td>0.118862</td>\n",
       "      <td>0.119420</td>\n",
       "      <td>0.118862</td>\n",
       "      <td>0.118862</td>\n",
       "      <td>0.091737</td>\n",
       "      <td>73449600</td>\n",
       "    </tr>\n",
       "    <tr>\n",
       "      <th>...</th>\n",
       "      <td>...</td>\n",
       "      <td>...</td>\n",
       "      <td>...</td>\n",
       "      <td>...</td>\n",
       "      <td>...</td>\n",
       "      <td>...</td>\n",
       "    </tr>\n",
       "    <tr>\n",
       "      <th>2024-07-22</th>\n",
       "      <td>227.009995</td>\n",
       "      <td>227.779999</td>\n",
       "      <td>223.089996</td>\n",
       "      <td>223.960007</td>\n",
       "      <td>223.960007</td>\n",
       "      <td>48201800</td>\n",
       "    </tr>\n",
       "    <tr>\n",
       "      <th>2024-07-23</th>\n",
       "      <td>224.369995</td>\n",
       "      <td>226.940002</td>\n",
       "      <td>222.679993</td>\n",
       "      <td>225.009995</td>\n",
       "      <td>225.009995</td>\n",
       "      <td>39960300</td>\n",
       "    </tr>\n",
       "    <tr>\n",
       "      <th>2024-07-24</th>\n",
       "      <td>224.000000</td>\n",
       "      <td>224.800003</td>\n",
       "      <td>217.130005</td>\n",
       "      <td>218.539993</td>\n",
       "      <td>218.539993</td>\n",
       "      <td>61777600</td>\n",
       "    </tr>\n",
       "    <tr>\n",
       "      <th>2024-07-25</th>\n",
       "      <td>218.929993</td>\n",
       "      <td>220.850006</td>\n",
       "      <td>214.619995</td>\n",
       "      <td>217.490005</td>\n",
       "      <td>217.490005</td>\n",
       "      <td>51328200</td>\n",
       "    </tr>\n",
       "    <tr>\n",
       "      <th>2024-07-26</th>\n",
       "      <td>218.850006</td>\n",
       "      <td>219.149902</td>\n",
       "      <td>216.009995</td>\n",
       "      <td>216.979095</td>\n",
       "      <td>216.979095</td>\n",
       "      <td>12728102</td>\n",
       "    </tr>\n",
       "  </tbody>\n",
       "</table>\n",
       "<p>10996 rows × 6 columns</p>\n",
       "</div>"
      ],
      "text/plain": [
       "                  Open        High         Low       Close   Adj Close  \\\n",
       "Date                                                                     \n",
       "1980-12-12    0.128348    0.128906    0.128348    0.128348    0.099058   \n",
       "1980-12-15    0.122210    0.122210    0.121652    0.121652    0.093890   \n",
       "1980-12-16    0.113281    0.113281    0.112723    0.112723    0.086999   \n",
       "1980-12-17    0.115513    0.116071    0.115513    0.115513    0.089152   \n",
       "1980-12-18    0.118862    0.119420    0.118862    0.118862    0.091737   \n",
       "...                ...         ...         ...         ...         ...   \n",
       "2024-07-22  227.009995  227.779999  223.089996  223.960007  223.960007   \n",
       "2024-07-23  224.369995  226.940002  222.679993  225.009995  225.009995   \n",
       "2024-07-24  224.000000  224.800003  217.130005  218.539993  218.539993   \n",
       "2024-07-25  218.929993  220.850006  214.619995  217.490005  217.490005   \n",
       "2024-07-26  218.850006  219.149902  216.009995  216.979095  216.979095   \n",
       "\n",
       "               Volume  \n",
       "Date                   \n",
       "1980-12-12  469033600  \n",
       "1980-12-15  175884800  \n",
       "1980-12-16  105728000  \n",
       "1980-12-17   86441600  \n",
       "1980-12-18   73449600  \n",
       "...               ...  \n",
       "2024-07-22   48201800  \n",
       "2024-07-23   39960300  \n",
       "2024-07-24   61777600  \n",
       "2024-07-25   51328200  \n",
       "2024-07-26   12728102  \n",
       "\n",
       "[10996 rows x 6 columns]"
      ]
     },
     "execution_count": 37,
     "metadata": {},
     "output_type": "execute_result"
    }
   ],
   "source": [
    "df = yf.download(tickers = symbol, period = \"max\") # max\n",
    "df"
   ]
  },
  {
   "cell_type": "code",
   "execution_count": null,
   "id": "70bb0b54",
   "metadata": {},
   "outputs": [],
   "source": []
  },
  {
   "cell_type": "markdown",
   "id": "1b277290",
   "metadata": {},
   "source": [
    "## Data Frequency"
   ]
  },
  {
   "cell_type": "markdown",
   "id": "9a2ddfa7",
   "metadata": {},
   "source": [
    "Valid intervals: 1m,2m,5m,15m,30m,60m,90m,1h,1d,5d,1wk,1mo,3mo <br>\n",
    "(Intraday data cannot extend last 60 days)"
   ]
  },
  {
   "cell_type": "markdown",
   "id": "a1199109",
   "metadata": {},
   "source": [
    "__daily (default)__"
   ]
  },
  {
   "cell_type": "code",
   "execution_count": 38,
   "id": "092edc20",
   "metadata": {},
   "outputs": [
    {
     "name": "stderr",
     "output_type": "stream",
     "text": [
      "[*********************100%%**********************]  1 of 1 completed\n"
     ]
    },
    {
     "data": {
      "text/html": [
       "<div>\n",
       "<style scoped>\n",
       "    .dataframe tbody tr th:only-of-type {\n",
       "        vertical-align: middle;\n",
       "    }\n",
       "\n",
       "    .dataframe tbody tr th {\n",
       "        vertical-align: top;\n",
       "    }\n",
       "\n",
       "    .dataframe thead th {\n",
       "        text-align: right;\n",
       "    }\n",
       "</style>\n",
       "<table border=\"1\" class=\"dataframe\">\n",
       "  <thead>\n",
       "    <tr style=\"text-align: right;\">\n",
       "      <th></th>\n",
       "      <th>Open</th>\n",
       "      <th>High</th>\n",
       "      <th>Low</th>\n",
       "      <th>Close</th>\n",
       "      <th>Adj Close</th>\n",
       "      <th>Volume</th>\n",
       "    </tr>\n",
       "    <tr>\n",
       "      <th>Date</th>\n",
       "      <th></th>\n",
       "      <th></th>\n",
       "      <th></th>\n",
       "      <th></th>\n",
       "      <th></th>\n",
       "      <th></th>\n",
       "    </tr>\n",
       "  </thead>\n",
       "  <tbody>\n",
       "    <tr>\n",
       "      <th>1980-12-12</th>\n",
       "      <td>0.128348</td>\n",
       "      <td>0.128906</td>\n",
       "      <td>0.128348</td>\n",
       "      <td>0.128348</td>\n",
       "      <td>0.099058</td>\n",
       "      <td>469033600</td>\n",
       "    </tr>\n",
       "    <tr>\n",
       "      <th>1980-12-15</th>\n",
       "      <td>0.122210</td>\n",
       "      <td>0.122210</td>\n",
       "      <td>0.121652</td>\n",
       "      <td>0.121652</td>\n",
       "      <td>0.093890</td>\n",
       "      <td>175884800</td>\n",
       "    </tr>\n",
       "    <tr>\n",
       "      <th>1980-12-16</th>\n",
       "      <td>0.113281</td>\n",
       "      <td>0.113281</td>\n",
       "      <td>0.112723</td>\n",
       "      <td>0.112723</td>\n",
       "      <td>0.086999</td>\n",
       "      <td>105728000</td>\n",
       "    </tr>\n",
       "    <tr>\n",
       "      <th>1980-12-17</th>\n",
       "      <td>0.115513</td>\n",
       "      <td>0.116071</td>\n",
       "      <td>0.115513</td>\n",
       "      <td>0.115513</td>\n",
       "      <td>0.089152</td>\n",
       "      <td>86441600</td>\n",
       "    </tr>\n",
       "    <tr>\n",
       "      <th>1980-12-18</th>\n",
       "      <td>0.118862</td>\n",
       "      <td>0.119420</td>\n",
       "      <td>0.118862</td>\n",
       "      <td>0.118862</td>\n",
       "      <td>0.091737</td>\n",
       "      <td>73449600</td>\n",
       "    </tr>\n",
       "    <tr>\n",
       "      <th>...</th>\n",
       "      <td>...</td>\n",
       "      <td>...</td>\n",
       "      <td>...</td>\n",
       "      <td>...</td>\n",
       "      <td>...</td>\n",
       "      <td>...</td>\n",
       "    </tr>\n",
       "    <tr>\n",
       "      <th>2024-07-22</th>\n",
       "      <td>227.009995</td>\n",
       "      <td>227.779999</td>\n",
       "      <td>223.089996</td>\n",
       "      <td>223.960007</td>\n",
       "      <td>223.960007</td>\n",
       "      <td>48201800</td>\n",
       "    </tr>\n",
       "    <tr>\n",
       "      <th>2024-07-23</th>\n",
       "      <td>224.369995</td>\n",
       "      <td>226.940002</td>\n",
       "      <td>222.679993</td>\n",
       "      <td>225.009995</td>\n",
       "      <td>225.009995</td>\n",
       "      <td>39960300</td>\n",
       "    </tr>\n",
       "    <tr>\n",
       "      <th>2024-07-24</th>\n",
       "      <td>224.000000</td>\n",
       "      <td>224.800003</td>\n",
       "      <td>217.130005</td>\n",
       "      <td>218.539993</td>\n",
       "      <td>218.539993</td>\n",
       "      <td>61777600</td>\n",
       "    </tr>\n",
       "    <tr>\n",
       "      <th>2024-07-25</th>\n",
       "      <td>218.929993</td>\n",
       "      <td>220.850006</td>\n",
       "      <td>214.619995</td>\n",
       "      <td>217.490005</td>\n",
       "      <td>217.490005</td>\n",
       "      <td>51328200</td>\n",
       "    </tr>\n",
       "    <tr>\n",
       "      <th>2024-07-26</th>\n",
       "      <td>218.850006</td>\n",
       "      <td>219.149902</td>\n",
       "      <td>216.009995</td>\n",
       "      <td>216.960007</td>\n",
       "      <td>216.960007</td>\n",
       "      <td>12733588</td>\n",
       "    </tr>\n",
       "  </tbody>\n",
       "</table>\n",
       "<p>10996 rows × 6 columns</p>\n",
       "</div>"
      ],
      "text/plain": [
       "                  Open        High         Low       Close   Adj Close  \\\n",
       "Date                                                                     \n",
       "1980-12-12    0.128348    0.128906    0.128348    0.128348    0.099058   \n",
       "1980-12-15    0.122210    0.122210    0.121652    0.121652    0.093890   \n",
       "1980-12-16    0.113281    0.113281    0.112723    0.112723    0.086999   \n",
       "1980-12-17    0.115513    0.116071    0.115513    0.115513    0.089152   \n",
       "1980-12-18    0.118862    0.119420    0.118862    0.118862    0.091737   \n",
       "...                ...         ...         ...         ...         ...   \n",
       "2024-07-22  227.009995  227.779999  223.089996  223.960007  223.960007   \n",
       "2024-07-23  224.369995  226.940002  222.679993  225.009995  225.009995   \n",
       "2024-07-24  224.000000  224.800003  217.130005  218.539993  218.539993   \n",
       "2024-07-25  218.929993  220.850006  214.619995  217.490005  217.490005   \n",
       "2024-07-26  218.850006  219.149902  216.009995  216.960007  216.960007   \n",
       "\n",
       "               Volume  \n",
       "Date                   \n",
       "1980-12-12  469033600  \n",
       "1980-12-15  175884800  \n",
       "1980-12-16  105728000  \n",
       "1980-12-17   86441600  \n",
       "1980-12-18   73449600  \n",
       "...               ...  \n",
       "2024-07-22   48201800  \n",
       "2024-07-23   39960300  \n",
       "2024-07-24   61777600  \n",
       "2024-07-25   51328200  \n",
       "2024-07-26   12733588  \n",
       "\n",
       "[10996 rows x 6 columns]"
      ]
     },
     "execution_count": 38,
     "metadata": {},
     "output_type": "execute_result"
    }
   ],
   "source": [
    "df = yf.download(tickers = symbol, interval = \"1d\")\n",
    "df"
   ]
  },
  {
   "cell_type": "markdown",
   "id": "a8b68ced",
   "metadata": {},
   "source": [
    "__monthly__"
   ]
  },
  {
   "cell_type": "code",
   "execution_count": 39,
   "id": "279dfb56",
   "metadata": {},
   "outputs": [
    {
     "name": "stderr",
     "output_type": "stream",
     "text": [
      "[*********************100%%**********************]  1 of 1 completed\n"
     ]
    },
    {
     "data": {
      "text/html": [
       "<div>\n",
       "<style scoped>\n",
       "    .dataframe tbody tr th:only-of-type {\n",
       "        vertical-align: middle;\n",
       "    }\n",
       "\n",
       "    .dataframe tbody tr th {\n",
       "        vertical-align: top;\n",
       "    }\n",
       "\n",
       "    .dataframe thead th {\n",
       "        text-align: right;\n",
       "    }\n",
       "</style>\n",
       "<table border=\"1\" class=\"dataframe\">\n",
       "  <thead>\n",
       "    <tr style=\"text-align: right;\">\n",
       "      <th></th>\n",
       "      <th>Open</th>\n",
       "      <th>High</th>\n",
       "      <th>Low</th>\n",
       "      <th>Close</th>\n",
       "      <th>Adj Close</th>\n",
       "      <th>Volume</th>\n",
       "    </tr>\n",
       "    <tr>\n",
       "      <th>Date</th>\n",
       "      <th></th>\n",
       "      <th></th>\n",
       "      <th></th>\n",
       "      <th></th>\n",
       "      <th></th>\n",
       "      <th></th>\n",
       "    </tr>\n",
       "  </thead>\n",
       "  <tbody>\n",
       "    <tr>\n",
       "      <th>1985-01-01</th>\n",
       "      <td>0.130022</td>\n",
       "      <td>0.138951</td>\n",
       "      <td>0.124442</td>\n",
       "      <td>0.129464</td>\n",
       "      <td>0.099919</td>\n",
       "      <td>6366416000</td>\n",
       "    </tr>\n",
       "    <tr>\n",
       "      <th>1985-02-01</th>\n",
       "      <td>0.129464</td>\n",
       "      <td>0.137277</td>\n",
       "      <td>0.110491</td>\n",
       "      <td>0.110491</td>\n",
       "      <td>0.085276</td>\n",
       "      <td>4733388800</td>\n",
       "    </tr>\n",
       "    <tr>\n",
       "      <th>1985-03-01</th>\n",
       "      <td>0.110491</td>\n",
       "      <td>0.116071</td>\n",
       "      <td>0.092634</td>\n",
       "      <td>0.098772</td>\n",
       "      <td>0.076231</td>\n",
       "      <td>4615587200</td>\n",
       "    </tr>\n",
       "    <tr>\n",
       "      <th>1985-04-01</th>\n",
       "      <td>0.098772</td>\n",
       "      <td>0.102679</td>\n",
       "      <td>0.087612</td>\n",
       "      <td>0.094866</td>\n",
       "      <td>0.073217</td>\n",
       "      <td>2868028800</td>\n",
       "    </tr>\n",
       "    <tr>\n",
       "      <th>1985-05-01</th>\n",
       "      <td>0.094866</td>\n",
       "      <td>0.099330</td>\n",
       "      <td>0.075335</td>\n",
       "      <td>0.077567</td>\n",
       "      <td>0.059865</td>\n",
       "      <td>4639129600</td>\n",
       "    </tr>\n",
       "    <tr>\n",
       "      <th>...</th>\n",
       "      <td>...</td>\n",
       "      <td>...</td>\n",
       "      <td>...</td>\n",
       "      <td>...</td>\n",
       "      <td>...</td>\n",
       "      <td>...</td>\n",
       "    </tr>\n",
       "    <tr>\n",
       "      <th>2024-03-01</th>\n",
       "      <td>179.550003</td>\n",
       "      <td>180.529999</td>\n",
       "      <td>168.490005</td>\n",
       "      <td>171.479996</td>\n",
       "      <td>171.247726</td>\n",
       "      <td>1432782800</td>\n",
       "    </tr>\n",
       "    <tr>\n",
       "      <th>2024-04-01</th>\n",
       "      <td>171.190002</td>\n",
       "      <td>178.360001</td>\n",
       "      <td>164.080002</td>\n",
       "      <td>170.330002</td>\n",
       "      <td>170.099289</td>\n",
       "      <td>1245717000</td>\n",
       "    </tr>\n",
       "    <tr>\n",
       "      <th>2024-05-01</th>\n",
       "      <td>169.580002</td>\n",
       "      <td>193.000000</td>\n",
       "      <td>169.110001</td>\n",
       "      <td>192.250000</td>\n",
       "      <td>191.989594</td>\n",
       "      <td>1336537700</td>\n",
       "    </tr>\n",
       "    <tr>\n",
       "      <th>2024-06-01</th>\n",
       "      <td>192.899994</td>\n",
       "      <td>220.199997</td>\n",
       "      <td>192.149994</td>\n",
       "      <td>210.619995</td>\n",
       "      <td>210.619995</td>\n",
       "      <td>1723984500</td>\n",
       "    </tr>\n",
       "    <tr>\n",
       "      <th>2024-07-01</th>\n",
       "      <td>212.089996</td>\n",
       "      <td>237.229996</td>\n",
       "      <td>211.919998</td>\n",
       "      <td>216.869995</td>\n",
       "      <td>216.869995</td>\n",
       "      <td>996181365</td>\n",
       "    </tr>\n",
       "  </tbody>\n",
       "</table>\n",
       "<p>475 rows × 6 columns</p>\n",
       "</div>"
      ],
      "text/plain": [
       "                  Open        High         Low       Close   Adj Close  \\\n",
       "Date                                                                     \n",
       "1985-01-01    0.130022    0.138951    0.124442    0.129464    0.099919   \n",
       "1985-02-01    0.129464    0.137277    0.110491    0.110491    0.085276   \n",
       "1985-03-01    0.110491    0.116071    0.092634    0.098772    0.076231   \n",
       "1985-04-01    0.098772    0.102679    0.087612    0.094866    0.073217   \n",
       "1985-05-01    0.094866    0.099330    0.075335    0.077567    0.059865   \n",
       "...                ...         ...         ...         ...         ...   \n",
       "2024-03-01  179.550003  180.529999  168.490005  171.479996  171.247726   \n",
       "2024-04-01  171.190002  178.360001  164.080002  170.330002  170.099289   \n",
       "2024-05-01  169.580002  193.000000  169.110001  192.250000  191.989594   \n",
       "2024-06-01  192.899994  220.199997  192.149994  210.619995  210.619995   \n",
       "2024-07-01  212.089996  237.229996  211.919998  216.869995  216.869995   \n",
       "\n",
       "                Volume  \n",
       "Date                    \n",
       "1985-01-01  6366416000  \n",
       "1985-02-01  4733388800  \n",
       "1985-03-01  4615587200  \n",
       "1985-04-01  2868028800  \n",
       "1985-05-01  4639129600  \n",
       "...                ...  \n",
       "2024-03-01  1432782800  \n",
       "2024-04-01  1245717000  \n",
       "2024-05-01  1336537700  \n",
       "2024-06-01  1723984500  \n",
       "2024-07-01   996181365  \n",
       "\n",
       "[475 rows x 6 columns]"
      ]
     },
     "execution_count": 39,
     "metadata": {},
     "output_type": "execute_result"
    }
   ],
   "source": [
    "df = yf.download(tickers = symbol, interval = \"1mo\")\n",
    "df"
   ]
  },
  {
   "cell_type": "markdown",
   "id": "4d9dad2f",
   "metadata": {},
   "source": [
    "__weekly__"
   ]
  },
  {
   "cell_type": "code",
   "execution_count": 40,
   "id": "9c213e4d",
   "metadata": {},
   "outputs": [
    {
     "name": "stderr",
     "output_type": "stream",
     "text": [
      "[*********************100%%**********************]  1 of 1 completed\n"
     ]
    },
    {
     "data": {
      "text/html": [
       "<div>\n",
       "<style scoped>\n",
       "    .dataframe tbody tr th:only-of-type {\n",
       "        vertical-align: middle;\n",
       "    }\n",
       "\n",
       "    .dataframe tbody tr th {\n",
       "        vertical-align: top;\n",
       "    }\n",
       "\n",
       "    .dataframe thead th {\n",
       "        text-align: right;\n",
       "    }\n",
       "</style>\n",
       "<table border=\"1\" class=\"dataframe\">\n",
       "  <thead>\n",
       "    <tr style=\"text-align: right;\">\n",
       "      <th></th>\n",
       "      <th>Open</th>\n",
       "      <th>High</th>\n",
       "      <th>Low</th>\n",
       "      <th>Close</th>\n",
       "      <th>Adj Close</th>\n",
       "      <th>Volume</th>\n",
       "    </tr>\n",
       "    <tr>\n",
       "      <th>Date</th>\n",
       "      <th></th>\n",
       "      <th></th>\n",
       "      <th></th>\n",
       "      <th></th>\n",
       "      <th></th>\n",
       "      <th></th>\n",
       "    </tr>\n",
       "  </thead>\n",
       "  <tbody>\n",
       "    <tr>\n",
       "      <th>1980-12-08</th>\n",
       "      <td>0.128348</td>\n",
       "      <td>0.128906</td>\n",
       "      <td>0.128348</td>\n",
       "      <td>0.128348</td>\n",
       "      <td>0.099058</td>\n",
       "      <td>469033600</td>\n",
       "    </tr>\n",
       "    <tr>\n",
       "      <th>1980-12-15</th>\n",
       "      <td>0.122210</td>\n",
       "      <td>0.126674</td>\n",
       "      <td>0.112723</td>\n",
       "      <td>0.126116</td>\n",
       "      <td>0.097335</td>\n",
       "      <td>490134400</td>\n",
       "    </tr>\n",
       "    <tr>\n",
       "      <th>1980-12-22</th>\n",
       "      <td>0.132254</td>\n",
       "      <td>0.159040</td>\n",
       "      <td>0.132254</td>\n",
       "      <td>0.158482</td>\n",
       "      <td>0.122315</td>\n",
       "      <td>187891200</td>\n",
       "    </tr>\n",
       "    <tr>\n",
       "      <th>1980-12-29</th>\n",
       "      <td>0.160714</td>\n",
       "      <td>0.161272</td>\n",
       "      <td>0.152344</td>\n",
       "      <td>0.154018</td>\n",
       "      <td>0.118870</td>\n",
       "      <td>219452800</td>\n",
       "    </tr>\n",
       "    <tr>\n",
       "      <th>1981-01-05</th>\n",
       "      <td>0.151228</td>\n",
       "      <td>0.151228</td>\n",
       "      <td>0.135045</td>\n",
       "      <td>0.142299</td>\n",
       "      <td>0.109825</td>\n",
       "      <td>197904000</td>\n",
       "    </tr>\n",
       "    <tr>\n",
       "      <th>...</th>\n",
       "      <td>...</td>\n",
       "      <td>...</td>\n",
       "      <td>...</td>\n",
       "      <td>...</td>\n",
       "      <td>...</td>\n",
       "      <td>...</td>\n",
       "    </tr>\n",
       "    <tr>\n",
       "      <th>2024-06-24</th>\n",
       "      <td>207.720001</td>\n",
       "      <td>216.070007</td>\n",
       "      <td>206.589996</td>\n",
       "      <td>210.619995</td>\n",
       "      <td>210.619995</td>\n",
       "      <td>335969500</td>\n",
       "    </tr>\n",
       "    <tr>\n",
       "      <th>2024-07-01</th>\n",
       "      <td>212.089996</td>\n",
       "      <td>226.449997</td>\n",
       "      <td>211.919998</td>\n",
       "      <td>226.339996</td>\n",
       "      <td>226.339996</td>\n",
       "      <td>216231300</td>\n",
       "    </tr>\n",
       "    <tr>\n",
       "      <th>2024-07-08</th>\n",
       "      <td>227.089996</td>\n",
       "      <td>233.080002</td>\n",
       "      <td>223.250000</td>\n",
       "      <td>230.539993</td>\n",
       "      <td>230.539993</td>\n",
       "      <td>287546800</td>\n",
       "    </tr>\n",
       "    <tr>\n",
       "      <th>2024-07-15</th>\n",
       "      <td>236.479996</td>\n",
       "      <td>237.229996</td>\n",
       "      <td>222.270004</td>\n",
       "      <td>224.309998</td>\n",
       "      <td>224.309998</td>\n",
       "      <td>278397600</td>\n",
       "    </tr>\n",
       "    <tr>\n",
       "      <th>2024-07-22</th>\n",
       "      <td>227.009995</td>\n",
       "      <td>227.779999</td>\n",
       "      <td>214.619995</td>\n",
       "      <td>216.869995</td>\n",
       "      <td>216.869995</td>\n",
       "      <td>214005665</td>\n",
       "    </tr>\n",
       "  </tbody>\n",
       "</table>\n",
       "<p>2277 rows × 6 columns</p>\n",
       "</div>"
      ],
      "text/plain": [
       "                  Open        High         Low       Close   Adj Close  \\\n",
       "Date                                                                     \n",
       "1980-12-08    0.128348    0.128906    0.128348    0.128348    0.099058   \n",
       "1980-12-15    0.122210    0.126674    0.112723    0.126116    0.097335   \n",
       "1980-12-22    0.132254    0.159040    0.132254    0.158482    0.122315   \n",
       "1980-12-29    0.160714    0.161272    0.152344    0.154018    0.118870   \n",
       "1981-01-05    0.151228    0.151228    0.135045    0.142299    0.109825   \n",
       "...                ...         ...         ...         ...         ...   \n",
       "2024-06-24  207.720001  216.070007  206.589996  210.619995  210.619995   \n",
       "2024-07-01  212.089996  226.449997  211.919998  226.339996  226.339996   \n",
       "2024-07-08  227.089996  233.080002  223.250000  230.539993  230.539993   \n",
       "2024-07-15  236.479996  237.229996  222.270004  224.309998  224.309998   \n",
       "2024-07-22  227.009995  227.779999  214.619995  216.869995  216.869995   \n",
       "\n",
       "               Volume  \n",
       "Date                   \n",
       "1980-12-08  469033600  \n",
       "1980-12-15  490134400  \n",
       "1980-12-22  187891200  \n",
       "1980-12-29  219452800  \n",
       "1981-01-05  197904000  \n",
       "...               ...  \n",
       "2024-06-24  335969500  \n",
       "2024-07-01  216231300  \n",
       "2024-07-08  287546800  \n",
       "2024-07-15  278397600  \n",
       "2024-07-22  214005665  \n",
       "\n",
       "[2277 rows x 6 columns]"
      ]
     },
     "execution_count": 40,
     "metadata": {},
     "output_type": "execute_result"
    }
   ],
   "source": [
    "df = yf.download(tickers = symbol, interval = \"1wk\")\n",
    "df"
   ]
  },
  {
   "cell_type": "markdown",
   "id": "c671c610",
   "metadata": {},
   "source": [
    "__intraday - 1h__"
   ]
  },
  {
   "cell_type": "code",
   "execution_count": null,
   "id": "e478efa1",
   "metadata": {},
   "outputs": [],
   "source": [
    "#df = yf.download(tickers = symbol, interval = \"1h\")\n",
    "#df"
   ]
  },
  {
   "cell_type": "code",
   "execution_count": null,
   "id": "61d57a09",
   "metadata": {},
   "outputs": [],
   "source": [
    "df = yf.download(tickers = symbol, period = \"1y\", interval = \"1h\")\n",
    "df"
   ]
  },
  {
   "cell_type": "markdown",
   "id": "fab3c3bd",
   "metadata": {},
   "source": [
    "__intraday - 1m__"
   ]
  },
  {
   "cell_type": "code",
   "execution_count": null,
   "id": "bef6556c",
   "metadata": {},
   "outputs": [],
   "source": [
    "#df = yf.download(tickers = symbol, period = \"1y\", interval = \"1m\")\n",
    "#df"
   ]
  },
  {
   "cell_type": "code",
   "execution_count": null,
   "id": "be7ed1c7",
   "metadata": {},
   "outputs": [],
   "source": [
    "df = yf.download(tickers = symbol, period = \"1wk\", interval = \"1m\")\n",
    "df"
   ]
  },
  {
   "cell_type": "code",
   "execution_count": null,
   "id": "1a705897",
   "metadata": {},
   "outputs": [],
   "source": []
  },
  {
   "cell_type": "markdown",
   "id": "c4bc2fa2",
   "metadata": {},
   "source": [
    "## Dividends"
   ]
  },
  {
   "cell_type": "markdown",
   "id": "6850e20d",
   "metadata": {},
   "source": [
    "__Dividend__: A dividend is a __distribution of profits__ by a corporation to its shareholders."
   ]
  },
  {
   "cell_type": "markdown",
   "id": "46b21515",
   "metadata": {},
   "source": [
    "Companies are __free__ to distribute (all / parts / none) of their profits to shareholders (Dividend Payout Policy) "
   ]
  },
  {
   "cell_type": "markdown",
   "id": "dc6e6094",
   "metadata": {},
   "source": [
    "Dividend Payouts are an import __source of income__ for equity investors."
   ]
  },
  {
   "cell_type": "markdown",
   "id": "9e844fdd",
   "metadata": {},
   "source": [
    "__Total Return/Profit__ of stocks consists of:\n",
    "- Stock Price Increase\n",
    "- Dividend Payouts"
   ]
  },
  {
   "cell_type": "markdown",
   "id": "8275c011",
   "metadata": {},
   "source": [
    "- For __innovative & high-growth__ companies, __Stock Price Increase__ is relatively more important.\n",
    "- For __mature & highly profitable__ companies, __Dividend Payouts__ can be a significant part of Total Return/Profit."
   ]
  },
  {
   "cell_type": "markdown",
   "id": "96b2afdf",
   "metadata": {},
   "source": [
    "-> __Don´t omit Dividend Payouts__ in your Analysis / Performance Comparison! (otherwise, high-dividend stocks get penalized!)"
   ]
  },
  {
   "cell_type": "code",
   "execution_count": null,
   "id": "e7549e66",
   "metadata": {},
   "outputs": [],
   "source": []
  },
  {
   "cell_type": "markdown",
   "id": "a3442c81",
   "metadata": {},
   "source": [
    "__For this and the next lectures, you have the choice between__\n",
    "- option 1: working with the same data as in the videos (saved in the csv file aapl.csv) __RECOMMENDED!!!__\n",
    "- option 2: working with your specific maximum time period"
   ]
  },
  {
   "cell_type": "code",
   "execution_count": null,
   "id": "b7ec08ae",
   "metadata": {},
   "outputs": [],
   "source": [
    "# option 1 -> same data as in video\n",
    "df = pd.read_csv(\"aapl.csv\", index_col = \"Date\", parse_dates = [\"Date\"]) # for more information, see lecture \"Saving and Loading Data (Local Files)\"  \n",
    "df"
   ]
  },
  {
   "cell_type": "code",
   "execution_count": null,
   "id": "3a631f7c",
   "metadata": {},
   "outputs": [],
   "source": [
    "# option 2 -> max period\n",
    "# df = yf.download(tickers = symbol, actions = True) \n",
    "# df"
   ]
  },
  {
   "cell_type": "code",
   "execution_count": null,
   "id": "a08e4188",
   "metadata": {},
   "outputs": [],
   "source": [
    "df.loc[df.Dividends != 0]"
   ]
  },
  {
   "cell_type": "code",
   "execution_count": null,
   "id": "2e23c48d",
   "metadata": {},
   "outputs": [],
   "source": [
    "df.Dividends.sum() # cumulative Dividends per share"
   ]
  },
  {
   "cell_type": "code",
   "execution_count": null,
   "id": "bbf9e7d1",
   "metadata": {},
   "outputs": [],
   "source": [
    "df.Close[-1] - df.Close[0] # cumulative Stock Price Increase - OLD"
   ]
  },
  {
   "cell_type": "code",
   "execution_count": null,
   "id": "216c7de8",
   "metadata": {},
   "outputs": [],
   "source": [
    "df.Close.iloc[-1] - df.Close.iloc[0] # cumulative Stock Price Increase - NEW"
   ]
  },
  {
   "cell_type": "code",
   "execution_count": null,
   "id": "467f894e",
   "metadata": {},
   "outputs": [],
   "source": [
    "df.loc[df.Dividends != 0].Dividends.plot()\n",
    "plt.show()"
   ]
  },
  {
   "cell_type": "markdown",
   "id": "e4cc505f",
   "metadata": {},
   "source": [
    "-> AAPL Dividend Policy: \n",
    "- historically __low-dividend__ stock (focus on growth) \n",
    "- Dividend Payouts __smoothed and steadily growing__ (highly predictable)\n",
    "- __Avoiding Dividend Cuts__ in less profitable years (negative signal in the market)"
   ]
  },
  {
   "cell_type": "code",
   "execution_count": null,
   "id": "53f155c9",
   "metadata": {},
   "outputs": [],
   "source": []
  },
  {
   "cell_type": "markdown",
   "id": "beba1f47",
   "metadata": {},
   "source": [
    "## What´s the Adjusted Close Price?"
   ]
  },
  {
   "cell_type": "markdown",
   "id": "00807066",
   "metadata": {},
   "source": [
    "\"The Adjusted Close Price is the backward adjusted (reduced) Close Price (adjusted for Dividends).\"   "
   ]
  },
  {
   "cell_type": "code",
   "execution_count": null,
   "id": "6a596eee",
   "metadata": {},
   "outputs": [],
   "source": [
    "df"
   ]
  },
  {
   "cell_type": "code",
   "execution_count": null,
   "id": "4feaf09c",
   "metadata": {},
   "outputs": [],
   "source": [
    "df2 = df[[\"Close\", \"Adj Close\", \"Dividends\"]].copy()\n",
    "df2"
   ]
  },
  {
   "cell_type": "code",
   "execution_count": null,
   "id": "9301aac7",
   "metadata": {},
   "outputs": [],
   "source": [
    "df2.loc[\"2015\":].plot(figsize = (12, 8), secondary_y = \"Dividends\")\n",
    "plt.show()"
   ]
  },
  {
   "cell_type": "code",
   "execution_count": null,
   "id": "980eaae5",
   "metadata": {},
   "outputs": [],
   "source": [
    "df2[df2.Dividends > 0]"
   ]
  },
  {
   "cell_type": "code",
   "execution_count": null,
   "id": "831007ad",
   "metadata": {},
   "outputs": [],
   "source": [
    "last_div = df2.loc[\"2022-08-01\": \"2022-08-5\"].copy()\n",
    "last_div"
   ]
  },
  {
   "cell_type": "code",
   "execution_count": null,
   "id": "1bb711f3",
   "metadata": {},
   "outputs": [],
   "source": [
    "last_div.Close - last_div[\"Adj Close\"]"
   ]
  },
  {
   "cell_type": "markdown",
   "id": "a38f0f14",
   "metadata": {},
   "source": [
    "https://in.help.yahoo.com/kb/adjusted-close-sln28256.html"
   ]
  },
  {
   "cell_type": "code",
   "execution_count": null,
   "id": "7585872f",
   "metadata": {},
   "outputs": [],
   "source": [
    "multiplier = (1 - 0.23/165.809998)\n",
    "multiplier"
   ]
  },
  {
   "cell_type": "code",
   "execution_count": null,
   "id": "b7638a16",
   "metadata": {},
   "outputs": [],
   "source": [
    "last_div"
   ]
  },
  {
   "cell_type": "code",
   "execution_count": null,
   "id": "1bf67bbb",
   "metadata": {},
   "outputs": [],
   "source": [
    "last_div[\"Adj Close calc\"] = last_div.Close * multiplier\n",
    "last_div"
   ]
  },
  {
   "cell_type": "code",
   "execution_count": null,
   "id": "8c8e4a2e",
   "metadata": {},
   "outputs": [],
   "source": [
    "df[\"Adj Close\"] / df[\"Close\"] # total multiplier (all dividends)"
   ]
  },
  {
   "cell_type": "code",
   "execution_count": null,
   "id": "8efed10e",
   "metadata": {},
   "outputs": [],
   "source": [
    "df"
   ]
  },
  {
   "cell_type": "markdown",
   "id": "dc86e08d",
   "metadata": {},
   "source": [
    "__Interpretations:__\n",
    "- Borrowing parts (e.g. 22%) of initial stock purchase price in 1980 and pay back borrowed amounts with Dividends. -or-\n",
    "- Reinvesting Dividends and buying more shares with Dividends"
   ]
  },
  {
   "cell_type": "markdown",
   "id": "84b05b28",
   "metadata": {},
   "source": [
    "__Benefits:__\n",
    "- good approximation for a Stock´s __Total Return__ (Price Return + Dividend Yield)\n",
    "- allows __Performance Comparison__ across stocks with different Payout Policies"
   ]
  },
  {
   "cell_type": "code",
   "execution_count": null,
   "id": "9e80e752",
   "metadata": {},
   "outputs": [],
   "source": []
  },
  {
   "cell_type": "markdown",
   "id": "7f89e1e1",
   "metadata": {},
   "source": [
    "## Stock Splits"
   ]
  },
  {
   "cell_type": "code",
   "execution_count": null,
   "id": "d86aa71d",
   "metadata": {},
   "outputs": [],
   "source": [
    "df"
   ]
  },
  {
   "cell_type": "markdown",
   "id": "44b2b90f",
   "metadata": {},
   "source": [
    "All Prices (OHLC, Adj Close) and Dividends are __backward adjusted__ (reduced) for Stock Splits. "
   ]
  },
  {
   "cell_type": "markdown",
   "id": "e4cfcb58",
   "metadata": {},
   "source": [
    "-> This __makes perfectly sense__ and you should not question it (unless you are interested in historical observable prices)!"
   ]
  },
  {
   "cell_type": "code",
   "execution_count": null,
   "id": "b1af1839",
   "metadata": {},
   "outputs": [],
   "source": [
    "splits = df.loc[df[\"Stock Splits\"] > 0]\n",
    "splits"
   ]
  },
  {
   "cell_type": "markdown",
   "id": "95fd6004",
   "metadata": {},
   "source": [
    "__Stock Split__: allows a company to break (split) each share into multiple shares __without affecting its market capitalization (total value of all its shares) or each investor's stake__ in the company. Motivation: reduce price per share and increase granularity."
   ]
  },
  {
   "cell_type": "markdown",
   "id": "7051fb2d",
   "metadata": {},
   "source": [
    "__Example Stock Split 4:1__ -> Receive 4 new shares for 1 old share. Share Price immediately drops to 1/4 (no value effect)"
   ]
  },
  {
   "cell_type": "markdown",
   "id": "fc66a3fb",
   "metadata": {},
   "source": [
    "On Yahoo Finance, Prices & Dividends are backward adjusted for Stock Splits. "
   ]
  },
  {
   "cell_type": "markdown",
   "id": "cc70cd94",
   "metadata": {},
   "source": [
    "Price on 2020-08-31 __after Split__:"
   ]
  },
  {
   "cell_type": "code",
   "execution_count": null,
   "id": "86913cff",
   "metadata": {},
   "outputs": [],
   "source": [
    "splits.loc[\"2020-08-31\", \"Close\"] "
   ]
  },
  {
   "cell_type": "markdown",
   "id": "8503f8e4",
   "metadata": {},
   "source": [
    "Price on 2020-08-31 __before Split__:"
   ]
  },
  {
   "cell_type": "code",
   "execution_count": null,
   "id": "eaaeac2e",
   "metadata": {},
   "outputs": [],
   "source": [
    "splits.loc[\"2020-08-31\", \"Close\"] * splits.loc[\"2020-08-31\", \"Stock Splits\"]"
   ]
  },
  {
   "cell_type": "markdown",
   "id": "bd030356",
   "metadata": {},
   "source": [
    "__-> 4 * 129 == 1 * 516__"
   ]
  },
  {
   "cell_type": "code",
   "execution_count": null,
   "id": "ff2c72e4",
   "metadata": {},
   "outputs": [],
   "source": []
  },
  {
   "cell_type": "markdown",
   "id": "7b863623",
   "metadata": {},
   "source": [
    "__Calculate the unadjusted (observable) prices__"
   ]
  },
  {
   "cell_type": "code",
   "execution_count": null,
   "id": "9aae0e6f",
   "metadata": {},
   "outputs": [],
   "source": [
    "df[\"Stock Splits\"].replace(to_replace = 0, value = 1, inplace = True) # 1:1 on all other days\n",
    "df"
   ]
  },
  {
   "cell_type": "code",
   "execution_count": null,
   "id": "1eb01cee",
   "metadata": {},
   "outputs": [],
   "source": [
    "df[\"Multiplier\"] = df.sort_index(ascending = False)[\"Stock Splits\"].cumprod() # cumulative multipier\n",
    "df"
   ]
  },
  {
   "cell_type": "code",
   "execution_count": null,
   "id": "7aec72ee",
   "metadata": {},
   "outputs": [],
   "source": [
    "df[\"Close_unadj\"] = df[\"Close\"] * df.Multiplier # observable close price\n",
    "df"
   ]
  },
  {
   "cell_type": "code",
   "execution_count": null,
   "id": "a16ee7eb",
   "metadata": {},
   "outputs": [],
   "source": [
    "df[[\"Close\", \"Close_unadj\"]].plot(figsize = (12 ,8))\n",
    "plt.vlines(splits.index, 0, 700, color = \"black\")\n",
    "plt.show()"
   ]
  },
  {
   "cell_type": "markdown",
   "id": "d53c8632",
   "metadata": {},
   "source": [
    "__-> (backward adjusted) prices correctly reflect true price performance. They ignore price drops caused by stock splits!__"
   ]
  },
  {
   "cell_type": "markdown",
   "id": "e7877ef5",
   "metadata": {},
   "source": [
    "__unadjusted Dividends__"
   ]
  },
  {
   "cell_type": "code",
   "execution_count": null,
   "id": "0bb43271",
   "metadata": {},
   "outputs": [],
   "source": [
    "df[\"div_unadj\"] = df[\"Dividends\"] * df.Multiplier"
   ]
  },
  {
   "cell_type": "code",
   "execution_count": null,
   "id": "90f187fb",
   "metadata": {},
   "outputs": [],
   "source": [
    "df.loc[df.div_unadj != 0].div_unadj.plot(figsize = (12, 8))\n",
    "plt.show()"
   ]
  },
  {
   "cell_type": "markdown",
   "id": "b7bfa6d8",
   "metadata": {},
   "source": [
    "__unadjusted Trading Volume (number of shares)__"
   ]
  },
  {
   "cell_type": "code",
   "execution_count": null,
   "id": "811c3c77",
   "metadata": {},
   "outputs": [],
   "source": [
    "df[\"Volume_unadj\"] = df[\"Volume\"] / df.Multiplier"
   ]
  },
  {
   "cell_type": "code",
   "execution_count": null,
   "id": "1425b137",
   "metadata": {},
   "outputs": [],
   "source": [
    "df[\"Volume_unadj\"].plot(figsize = (12, 8))\n",
    "plt.show()"
   ]
  },
  {
   "cell_type": "code",
   "execution_count": null,
   "id": "73ba9a85",
   "metadata": {},
   "outputs": [],
   "source": []
  },
  {
   "cell_type": "markdown",
   "id": "be2329d7",
   "metadata": {},
   "source": [
    "## Stocks from other Countries / Exchanges "
   ]
  },
  {
   "cell_type": "code",
   "execution_count": null,
   "id": "b2a31535",
   "metadata": {},
   "outputs": [],
   "source": [
    "yf.download(tickers = \"AAPL\") # US Ticker (no suffix)"
   ]
  },
  {
   "cell_type": "code",
   "execution_count": null,
   "id": "8f62a094",
   "metadata": {},
   "outputs": [],
   "source": [
    "#yf.download(tickers = \"RELIANCE\") # Indian Ticker (no suffix)"
   ]
  },
  {
   "cell_type": "markdown",
   "id": "a2ab96c0",
   "metadata": {},
   "source": [
    "__Exchange List:__ "
   ]
  },
  {
   "cell_type": "markdown",
   "id": "8424d86a",
   "metadata": {},
   "source": [
    "https://help.yahoo.com/kb/SLN2310.html"
   ]
  },
  {
   "cell_type": "code",
   "execution_count": null,
   "id": "6f8e3f87",
   "metadata": {},
   "outputs": [],
   "source": [
    "yf.download(tickers = \"RELIANCE.NS\") # Indian Ticker"
   ]
  },
  {
   "cell_type": "code",
   "execution_count": null,
   "id": "6745d606",
   "metadata": {},
   "outputs": [],
   "source": [
    "yf.download(tickers = \"LHA.DE\") # German Ticker (Deutsche Boerse XETRA)"
   ]
  },
  {
   "cell_type": "code",
   "execution_count": null,
   "id": "365ce34a",
   "metadata": {},
   "outputs": [],
   "source": [
    "yf.download(tickers = \"LHA.F\") # German Ticker (Frankfurt Stock Exchange)"
   ]
  },
  {
   "cell_type": "code",
   "execution_count": null,
   "id": "698fb3d1",
   "metadata": {},
   "outputs": [],
   "source": []
  },
  {
   "cell_type": "markdown",
   "id": "97b8413e",
   "metadata": {},
   "source": [
    "## Multiple Tickers"
   ]
  },
  {
   "cell_type": "code",
   "execution_count": null,
   "id": "1c8b7724",
   "metadata": {},
   "outputs": [],
   "source": [
    "df = yf.download(tickers = [\"AAPL\", \"MSFT\"]) # multiple tickers\n",
    "df"
   ]
  },
  {
   "cell_type": "code",
   "execution_count": null,
   "id": "f19bd71b",
   "metadata": {},
   "outputs": [],
   "source": [
    "df.info()"
   ]
  },
  {
   "cell_type": "code",
   "execution_count": null,
   "id": "9e2bc7d0",
   "metadata": {},
   "outputs": [],
   "source": [
    "df.columns"
   ]
  },
  {
   "cell_type": "code",
   "execution_count": null,
   "id": "9b82e7e6",
   "metadata": {},
   "outputs": [],
   "source": [
    "df.Close # outer index level"
   ]
  },
  {
   "cell_type": "code",
   "execution_count": null,
   "id": "9c6aff7d",
   "metadata": {},
   "outputs": [],
   "source": [
    "df.loc[:, (\"Close\", \"MSFT\")] # one specific column"
   ]
  },
  {
   "cell_type": "code",
   "execution_count": null,
   "id": "ee792b96",
   "metadata": {},
   "outputs": [],
   "source": [
    "df.Close.MSFT # one specific column"
   ]
  },
  {
   "cell_type": "code",
   "execution_count": null,
   "id": "73c3cdcd",
   "metadata": {},
   "outputs": [],
   "source": [
    "df.loc[:, (slice(None), slice(\"AAPL\"))] # inner index level"
   ]
  },
  {
   "cell_type": "code",
   "execution_count": null,
   "id": "4771c32c",
   "metadata": {},
   "outputs": [],
   "source": [
    "df = df.swaplevel(axis = \"columns\").sort_index(axis = \"columns\")\n",
    "df"
   ]
  },
  {
   "cell_type": "code",
   "execution_count": null,
   "id": "a3630330",
   "metadata": {},
   "outputs": [],
   "source": [
    "df.AAPL"
   ]
  },
  {
   "cell_type": "code",
   "execution_count": null,
   "id": "0a581d8a",
   "metadata": {},
   "outputs": [],
   "source": [
    "df = yf.download(tickers = [\"LHA.F\", \"LHA.DE\"]).Close\n",
    "df"
   ]
  },
  {
   "cell_type": "code",
   "execution_count": null,
   "id": "8b2ba633",
   "metadata": {},
   "outputs": [],
   "source": [
    "#df.LHA.F # incorrect"
   ]
  },
  {
   "cell_type": "code",
   "execution_count": null,
   "id": "0af91aa2",
   "metadata": {},
   "outputs": [],
   "source": [
    "df[\"LHA.F\"]"
   ]
  },
  {
   "cell_type": "code",
   "execution_count": null,
   "id": "725a9365",
   "metadata": {},
   "outputs": [],
   "source": [
    "df.columns = [\"LHA_DE\", \"LHA_F\"]"
   ]
  },
  {
   "cell_type": "code",
   "execution_count": null,
   "id": "f5884ae8",
   "metadata": {},
   "outputs": [],
   "source": [
    "df"
   ]
  },
  {
   "cell_type": "code",
   "execution_count": null,
   "id": "3cc2d26e",
   "metadata": {},
   "outputs": [],
   "source": [
    "df.LHA_F"
   ]
  },
  {
   "cell_type": "code",
   "execution_count": null,
   "id": "879b06d3",
   "metadata": {},
   "outputs": [],
   "source": []
  },
  {
   "cell_type": "markdown",
   "id": "b701f578",
   "metadata": {},
   "source": [
    "## Saving and Loading Data (Local Files)"
   ]
  },
  {
   "cell_type": "code",
   "execution_count": null,
   "id": "fd4b0c8b",
   "metadata": {},
   "outputs": [],
   "source": [
    "import yfinance as yf\n",
    "import pandas as pd"
   ]
  },
  {
   "cell_type": "code",
   "execution_count": null,
   "id": "07fcd46e",
   "metadata": {},
   "outputs": [],
   "source": [
    "symbol = \"AAPL\""
   ]
  },
  {
   "cell_type": "code",
   "execution_count": null,
   "id": "cb64adb0",
   "metadata": {},
   "outputs": [],
   "source": [
    "df = yf.download(symbol)\n",
    "df"
   ]
  },
  {
   "cell_type": "code",
   "execution_count": null,
   "id": "e9569f29",
   "metadata": {},
   "outputs": [],
   "source": [
    "df.to_csv(path_or_buf = \"apple.csv\") # writing to local csv"
   ]
  },
  {
   "cell_type": "code",
   "execution_count": null,
   "id": "ce918cd9",
   "metadata": {},
   "outputs": [],
   "source": [
    "df2 = pd.read_csv(\"apple.csv\", index_col=\"Date\", parse_dates= [\"Date\"]) # loading from local csv\n",
    "df2"
   ]
  },
  {
   "cell_type": "code",
   "execution_count": null,
   "id": "df4de8b5",
   "metadata": {},
   "outputs": [],
   "source": [
    "df2.info()"
   ]
  },
  {
   "cell_type": "markdown",
   "id": "521892f4",
   "metadata": {},
   "source": [
    "__multiple symbols__"
   ]
  },
  {
   "cell_type": "code",
   "execution_count": null,
   "id": "70c0c30b",
   "metadata": {},
   "outputs": [],
   "source": [
    "symbols = [\"AAPL\", \"MSFT\"]"
   ]
  },
  {
   "cell_type": "code",
   "execution_count": null,
   "id": "4ce199ad",
   "metadata": {},
   "outputs": [],
   "source": [
    "df = yf.download(symbols)\n",
    "df"
   ]
  },
  {
   "cell_type": "code",
   "execution_count": null,
   "id": "68d2b224",
   "metadata": {},
   "outputs": [],
   "source": [
    "df.to_csv(path_or_buf = \"two_stocks.csv\") # writing to local csv"
   ]
  },
  {
   "cell_type": "code",
   "execution_count": null,
   "id": "7fcb0280",
   "metadata": {},
   "outputs": [],
   "source": [
    "df2 = pd.read_csv(\"two_stocks.csv\", header = [0, 1], index_col = [0], parse_dates = [0]) # loading from local csv\n",
    "df2"
   ]
  },
  {
   "cell_type": "code",
   "execution_count": null,
   "id": "a6469e13",
   "metadata": {},
   "outputs": [],
   "source": [
    "df2.info()"
   ]
  },
  {
   "cell_type": "code",
   "execution_count": null,
   "id": "e6249a3b",
   "metadata": {},
   "outputs": [],
   "source": []
  },
  {
   "cell_type": "markdown",
   "id": "fd08df53",
   "metadata": {},
   "source": [
    "## Coding Challenge"
   ]
  },
  {
   "cell_type": "markdown",
   "id": "50a2ae61",
   "metadata": {},
   "source": [
    "1. Load historical Prices, Volume and Dividends for the stocks \"JNJ\" (__Johnson & Johnson__) and \"TSLA\" (__Tesla__)"
   ]
  },
  {
   "cell_type": "markdown",
   "id": "093e4aa6",
   "metadata": {},
   "source": [
    "2. Analyze and compare Dividends, Stock Price Increase and Dividend Policy"
   ]
  },
  {
   "cell_type": "markdown",
   "id": "d8ab7b93",
   "metadata": {},
   "source": [
    "3. Which stock is the high-dividend stock?"
   ]
  },
  {
   "cell_type": "markdown",
   "id": "c9298b39",
   "metadata": {},
   "source": [
    "## --------------- Solution --------------------------"
   ]
  },
  {
   "cell_type": "code",
   "execution_count": null,
   "id": "a73a1d2e",
   "metadata": {},
   "outputs": [],
   "source": []
  },
  {
   "cell_type": "code",
   "execution_count": null,
   "id": "a94d268a",
   "metadata": {},
   "outputs": [],
   "source": []
  },
  {
   "cell_type": "code",
   "execution_count": null,
   "id": "df4d0ec1",
   "metadata": {},
   "outputs": [],
   "source": []
  },
  {
   "cell_type": "code",
   "execution_count": null,
   "id": "2e583d2f",
   "metadata": {},
   "outputs": [],
   "source": []
  },
  {
   "cell_type": "code",
   "execution_count": null,
   "id": "5e8077aa",
   "metadata": {},
   "outputs": [],
   "source": [
    "import yfinance as yf\n",
    "import pandas as pd\n",
    "import matplotlib.pyplot as plt\n",
    "plt.style.use(\"seaborn-v0_8\")"
   ]
  },
  {
   "cell_type": "code",
   "execution_count": null,
   "id": "dac45838",
   "metadata": {},
   "outputs": [],
   "source": [
    "symbols = [\"JNJ\", \"TSLA\"]"
   ]
  },
  {
   "cell_type": "code",
   "execution_count": null,
   "id": "5b234a39",
   "metadata": {},
   "outputs": [],
   "source": [
    "df = yf.download(symbols, actions = True)\n",
    "df"
   ]
  },
  {
   "cell_type": "code",
   "execution_count": null,
   "id": "4d84efab",
   "metadata": {},
   "outputs": [],
   "source": [
    "df.Close.plot(figsize = (12, 8))\n",
    "plt.show()"
   ]
  },
  {
   "cell_type": "code",
   "execution_count": null,
   "id": "1fcaf3f9",
   "metadata": {},
   "outputs": [],
   "source": [
    "df = df.swaplevel(axis = \"columns\").sort_index(axis = \"columns\")\n",
    "df"
   ]
  },
  {
   "cell_type": "code",
   "execution_count": null,
   "id": "a6a07fd9",
   "metadata": {},
   "outputs": [],
   "source": [
    "jnj = df.JNJ\n",
    "jnj"
   ]
  },
  {
   "cell_type": "code",
   "execution_count": null,
   "id": "fac53604",
   "metadata": {},
   "outputs": [],
   "source": [
    "jnj[[\"Close\", \"Adj Close\"]].plot(figsize = (12, 8))\n",
    "plt.show()"
   ]
  },
  {
   "cell_type": "markdown",
   "id": "3139e7c8",
   "metadata": {},
   "source": [
    "__Dividends__"
   ]
  },
  {
   "cell_type": "code",
   "execution_count": null,
   "id": "53e52546",
   "metadata": {
    "scrolled": true
   },
   "outputs": [],
   "source": [
    "jnj.Dividends.sum()"
   ]
  },
  {
   "cell_type": "markdown",
   "id": "99d6f808",
   "metadata": {},
   "source": [
    "__Price Increase__"
   ]
  },
  {
   "cell_type": "code",
   "execution_count": null,
   "id": "7a1b4dd4",
   "metadata": {},
   "outputs": [],
   "source": [
    "jnj.Close.iloc[-1] - jnj.Close.iloc[0] # from Pandas v. 2.0 use iloc!"
   ]
  },
  {
   "cell_type": "markdown",
   "id": "81d77670",
   "metadata": {},
   "source": [
    "__Dividend Policy__"
   ]
  },
  {
   "cell_type": "code",
   "execution_count": null,
   "id": "54b9ee9f",
   "metadata": {},
   "outputs": [],
   "source": [
    "jnj.loc[jnj.Dividends != 0].Dividends.plot()\n",
    "plt.show()"
   ]
  },
  {
   "cell_type": "code",
   "execution_count": null,
   "id": "4ddf481e",
   "metadata": {},
   "outputs": [],
   "source": [
    "tsla = df.TSLA.dropna()\n",
    "tsla"
   ]
  },
  {
   "cell_type": "code",
   "execution_count": null,
   "id": "c78e5509",
   "metadata": {},
   "outputs": [],
   "source": [
    "tsla[[\"Close\", \"Adj Close\"]].plot(figsize = (12, 8))\n",
    "plt.show()"
   ]
  },
  {
   "cell_type": "markdown",
   "id": "1c2f43b0",
   "metadata": {},
   "source": [
    "__Dividends__"
   ]
  },
  {
   "cell_type": "code",
   "execution_count": null,
   "id": "b752eec2",
   "metadata": {},
   "outputs": [],
   "source": [
    "tsla.Dividends.sum()"
   ]
  },
  {
   "cell_type": "markdown",
   "id": "a109c814",
   "metadata": {},
   "source": [
    "__Price Increase__"
   ]
  },
  {
   "cell_type": "code",
   "execution_count": null,
   "id": "fd864d74",
   "metadata": {},
   "outputs": [],
   "source": [
    "tsla.Close.iloc[-1] - tsla.Close.iloc[0]"
   ]
  },
  {
   "cell_type": "markdown",
   "id": "6117e41d",
   "metadata": {},
   "source": [
    "__Dividend Policy__"
   ]
  },
  {
   "cell_type": "code",
   "execution_count": null,
   "id": "9027ca6a",
   "metadata": {},
   "outputs": [],
   "source": [
    "tsla.loc[tsla.Dividends != 0].Dividends.plot()\n",
    "plt.show()"
   ]
  },
  {
   "cell_type": "markdown",
   "id": "cef6616c",
   "metadata": {},
   "source": [
    "__-> JNJ is the high-dividend stock__"
   ]
  },
  {
   "cell_type": "code",
   "execution_count": null,
   "id": "ac294d00",
   "metadata": {},
   "outputs": [],
   "source": []
  }
 ],
 "metadata": {
  "kernelspec": {
   "display_name": "Python 3 (ipykernel)",
   "language": "python",
   "name": "python3"
  },
  "language_info": {
   "codemirror_mode": {
    "name": "ipython",
    "version": 3
   },
   "file_extension": ".py",
   "mimetype": "text/x-python",
   "name": "python",
   "nbconvert_exporter": "python",
   "pygments_lexer": "ipython3",
   "version": "3.12.4"
  }
 },
 "nbformat": 4,
 "nbformat_minor": 5
}
