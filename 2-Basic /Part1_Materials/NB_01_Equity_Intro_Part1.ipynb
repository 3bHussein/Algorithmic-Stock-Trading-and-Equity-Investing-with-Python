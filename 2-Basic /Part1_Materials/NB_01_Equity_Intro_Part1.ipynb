{
 "cells": [
  {
   "cell_type": "markdown",
   "id": "d8044646",
   "metadata": {},
   "source": [
    "# Equity Analysis with Python - Introduction (Part 1)"
   ]
  },
  {
   "cell_type": "markdown",
   "id": "4ca01c03",
   "metadata": {},
   "source": [
    "__Please install yfinance__ with the following command (Anaconda Prompt/Terminal Window):"
   ]
  },
  {
   "cell_type": "markdown",
   "id": "01d65950",
   "metadata": {},
   "source": [
    "pip install yfinance"
   ]
  },
  {
   "cell_type": "markdown",
   "id": "2c627932",
   "metadata": {},
   "source": [
    "## yfinance API - first steps"
   ]
  },
  {
   "cell_type": "code",
   "execution_count": null,
   "id": "b0a0246b",
   "metadata": {},
   "outputs": [],
   "source": [
    "import yfinance as yf\n",
    "import pandas as pd\n",
    "import matplotlib.pyplot as plt\n",
    "plt.style.use(\"seaborn-v0_8\")"
   ]
  },
  {
   "cell_type": "code",
   "execution_count": null,
   "id": "e2c56b11",
   "metadata": {},
   "outputs": [],
   "source": [
    "symbol = \"AAPL\" # ticker symbol for Apple Inc."
   ]
  },
  {
   "cell_type": "code",
   "execution_count": null,
   "id": "cb21254b",
   "metadata": {},
   "outputs": [],
   "source": [
    "df = yf.download(tickers = symbol)\n",
    "df"
   ]
  },
  {
   "cell_type": "code",
   "execution_count": null,
   "id": "eaa2f3a1",
   "metadata": {},
   "outputs": [],
   "source": [
    "df.index = pd.to_datetime(df.index.date)\n",
    "df"
   ]
  },
  {
   "cell_type": "code",
   "execution_count": null,
   "id": "346e0727",
   "metadata": {},
   "outputs": [],
   "source": [
    "df.index"
   ]
  },
  {
   "cell_type": "code",
   "execution_count": null,
   "id": "cd90a91e",
   "metadata": {},
   "outputs": [],
   "source": [
    "df.info()"
   ]
  },
  {
   "cell_type": "markdown",
   "id": "2656a6b7",
   "metadata": {},
   "source": [
    "- __Date__: Date (year-month-day) at midnight New York Time (business daily data without weekends and bank holidays)\n",
    "- __Open__: daily Open Price @ 9:30 am Eastern TimeZone\n",
    "- __High__: daily high/max price\n",
    "- __Low__: daily low/min price\n",
    "- __Close__: daily Close Price @ 4:00 pm Eastern TimeZone\n",
    "- __Adj Close__: Close price adjusted for Dividend Payments (backward adjusted)\n",
    "- __Volume__: daily Trading Volume (number of Shares)"
   ]
  },
  {
   "cell_type": "markdown",
   "id": "0b0d7c93",
   "metadata": {},
   "source": [
    "__Price Chart__"
   ]
  },
  {
   "cell_type": "code",
   "execution_count": null,
   "id": "e9f70667",
   "metadata": {},
   "outputs": [],
   "source": [
    "df.Close.plot(figsize = (12, 8), fontsize = 12)\n",
    "plt.ylabel(\"Price (USD)\")\n",
    "plt.title(\"AAPL Price Chart\", fontsize = 15)\n",
    "plt.show()"
   ]
  },
  {
   "cell_type": "markdown",
   "id": "cd7f975b",
   "metadata": {},
   "source": [
    "__Volume Chart__"
   ]
  },
  {
   "cell_type": "code",
   "execution_count": null,
   "id": "c92bc725",
   "metadata": {},
   "outputs": [],
   "source": [
    "df.loc[\"2022-6\", \"Volume\"].plot(figsize = (12, 8), kind = \"bar\")\n",
    "plt.ylabel(\"Volume (Shares)\")\n",
    "plt.title(\"AAPL Trading Volume (daily)\", fontsize = 15)\n",
    "plt.show()"
   ]
  },
  {
   "cell_type": "code",
   "execution_count": null,
   "id": "856ca66b",
   "metadata": {},
   "outputs": [],
   "source": [
    "df.Volume.mul(df.Close) # Trading Volume (USD Value)"
   ]
  },
  {
   "cell_type": "code",
   "execution_count": null,
   "id": "3141b281",
   "metadata": {},
   "outputs": [],
   "source": []
  },
  {
   "cell_type": "markdown",
   "id": "9de17599",
   "metadata": {},
   "source": [
    "## Excursus: Versions and Updates"
   ]
  },
  {
   "cell_type": "markdown",
   "id": "1a40a322",
   "metadata": {},
   "source": [
    "You can get the __latest version__ of yfinance with the following command (Anaconda Prompt/Terminal Window):"
   ]
  },
  {
   "cell_type": "markdown",
   "id": "e110b4a0",
   "metadata": {},
   "source": [
    "pip install yfinance --upgrade"
   ]
  },
  {
   "cell_type": "code",
   "execution_count": null,
   "id": "ee670600",
   "metadata": {},
   "outputs": [],
   "source": [
    "yf.__version__"
   ]
  },
  {
   "cell_type": "code",
   "execution_count": null,
   "id": "2ca3e45e",
   "metadata": {},
   "outputs": [],
   "source": [
    "yf.download(tickers = symbol)"
   ]
  },
  {
   "cell_type": "code",
   "execution_count": null,
   "id": "304ee00b",
   "metadata": {},
   "outputs": [],
   "source": []
  },
  {
   "cell_type": "markdown",
   "id": "db0d9883",
   "metadata": {},
   "source": [
    "## Analysis Period"
   ]
  },
  {
   "cell_type": "code",
   "execution_count": null,
   "id": "051f543b",
   "metadata": {},
   "outputs": [],
   "source": [
    "df"
   ]
  },
  {
   "cell_type": "code",
   "execution_count": null,
   "id": "2bd966c5",
   "metadata": {},
   "outputs": [],
   "source": [
    "df.loc[\"2022-01-01\":\"2022-01-15\"]"
   ]
  },
  {
   "cell_type": "code",
   "execution_count": null,
   "id": "93ddef9b",
   "metadata": {},
   "outputs": [],
   "source": [
    "df.loc[\"2022\"]"
   ]
  },
  {
   "cell_type": "code",
   "execution_count": null,
   "id": "b9166e7f",
   "metadata": {},
   "outputs": [],
   "source": [
    "df.loc[\"2017\":]"
   ]
  },
  {
   "cell_type": "code",
   "execution_count": null,
   "id": "8e2ecf0a",
   "metadata": {},
   "outputs": [],
   "source": [
    "df = yf.download(tickers = symbol, start = \"2020-07-01\", end = \"2020-12-31\")\n",
    "df"
   ]
  },
  {
   "cell_type": "markdown",
   "id": "53753166",
   "metadata": {},
   "source": [
    "Valid periods: 1d,5d,1mo,3mo,6mo,1y,2y,5y,10y,ytd,max"
   ]
  },
  {
   "cell_type": "code",
   "execution_count": null,
   "id": "d961b048",
   "metadata": {},
   "outputs": [],
   "source": [
    "df = yf.download(tickers = symbol, period = \"1mo\") # last 30 days\n",
    "df"
   ]
  },
  {
   "cell_type": "code",
   "execution_count": null,
   "id": "a65183a7",
   "metadata": {},
   "outputs": [],
   "source": [
    "df = yf.download(tickers = symbol, period = \"1y\") # last 365 days \n",
    "df"
   ]
  },
  {
   "cell_type": "code",
   "execution_count": null,
   "id": "9522b378",
   "metadata": {},
   "outputs": [],
   "source": [
    "df = yf.download(tickers = symbol, period = \"ytd\") # year-to-date \n",
    "df"
   ]
  },
  {
   "cell_type": "code",
   "execution_count": null,
   "id": "eb7e6422",
   "metadata": {},
   "outputs": [],
   "source": [
    "df = yf.download(tickers = symbol, period = \"max\") # max\n",
    "df"
   ]
  },
  {
   "cell_type": "code",
   "execution_count": null,
   "id": "70bb0b54",
   "metadata": {},
   "outputs": [],
   "source": []
  },
  {
   "cell_type": "markdown",
   "id": "1b277290",
   "metadata": {},
   "source": [
    "## Data Frequency"
   ]
  },
  {
   "cell_type": "markdown",
   "id": "9a2ddfa7",
   "metadata": {},
   "source": [
    "Valid intervals: 1m,2m,5m,15m,30m,60m,90m,1h,1d,5d,1wk,1mo,3mo <br>\n",
    "(Intraday data cannot extend last 60 days)"
   ]
  },
  {
   "cell_type": "markdown",
   "id": "a1199109",
   "metadata": {},
   "source": [
    "__daily (default)__"
   ]
  },
  {
   "cell_type": "code",
   "execution_count": null,
   "id": "092edc20",
   "metadata": {},
   "outputs": [],
   "source": [
    "df = yf.download(tickers = symbol, interval = \"1d\")\n",
    "df"
   ]
  },
  {
   "cell_type": "markdown",
   "id": "a8b68ced",
   "metadata": {},
   "source": [
    "__monthly__"
   ]
  },
  {
   "cell_type": "code",
   "execution_count": null,
   "id": "279dfb56",
   "metadata": {},
   "outputs": [],
   "source": [
    "df = yf.download(tickers = symbol, interval = \"1mo\")\n",
    "df"
   ]
  },
  {
   "cell_type": "markdown",
   "id": "4d9dad2f",
   "metadata": {},
   "source": [
    "__weekly__"
   ]
  },
  {
   "cell_type": "code",
   "execution_count": null,
   "id": "9c213e4d",
   "metadata": {},
   "outputs": [],
   "source": [
    "df = yf.download(tickers = symbol, interval = \"1wk\")\n",
    "df"
   ]
  },
  {
   "cell_type": "markdown",
   "id": "c671c610",
   "metadata": {},
   "source": [
    "__intraday - 1h__"
   ]
  },
  {
   "cell_type": "code",
   "execution_count": null,
   "id": "e478efa1",
   "metadata": {},
   "outputs": [],
   "source": [
    "#df = yf.download(tickers = symbol, interval = \"1h\")\n",
    "#df"
   ]
  },
  {
   "cell_type": "code",
   "execution_count": null,
   "id": "61d57a09",
   "metadata": {},
   "outputs": [],
   "source": [
    "df = yf.download(tickers = symbol, period = \"1y\", interval = \"1h\")\n",
    "df"
   ]
  },
  {
   "cell_type": "markdown",
   "id": "fab3c3bd",
   "metadata": {},
   "source": [
    "__intraday - 1m__"
   ]
  },
  {
   "cell_type": "code",
   "execution_count": null,
   "id": "bef6556c",
   "metadata": {},
   "outputs": [],
   "source": [
    "#df = yf.download(tickers = symbol, period = \"1y\", interval = \"1m\")\n",
    "#df"
   ]
  },
  {
   "cell_type": "code",
   "execution_count": null,
   "id": "be7ed1c7",
   "metadata": {},
   "outputs": [],
   "source": [
    "df = yf.download(tickers = symbol, period = \"1wk\", interval = \"1m\")\n",
    "df"
   ]
  },
  {
   "cell_type": "code",
   "execution_count": null,
   "id": "1a705897",
   "metadata": {},
   "outputs": [],
   "source": []
  },
  {
   "cell_type": "markdown",
   "id": "c4bc2fa2",
   "metadata": {},
   "source": [
    "## Dividends"
   ]
  },
  {
   "cell_type": "markdown",
   "id": "6850e20d",
   "metadata": {},
   "source": [
    "__Dividend__: A dividend is a __distribution of profits__ by a corporation to its shareholders."
   ]
  },
  {
   "cell_type": "markdown",
   "id": "46b21515",
   "metadata": {},
   "source": [
    "Companies are __free__ to distribute (all / parts / none) of their profits to shareholders (Dividend Payout Policy) "
   ]
  },
  {
   "cell_type": "markdown",
   "id": "dc6e6094",
   "metadata": {},
   "source": [
    "Dividend Payouts are an import __source of income__ for equity investors."
   ]
  },
  {
   "cell_type": "markdown",
   "id": "9e844fdd",
   "metadata": {},
   "source": [
    "__Total Return/Profit__ of stocks consists of:\n",
    "- Stock Price Increase\n",
    "- Dividend Payouts"
   ]
  },
  {
   "cell_type": "markdown",
   "id": "8275c011",
   "metadata": {},
   "source": [
    "- For __innovative & high-growth__ companies, __Stock Price Increase__ is relatively more important.\n",
    "- For __mature & highly profitable__ companies, __Dividend Payouts__ can be a significant part of Total Return/Profit."
   ]
  },
  {
   "cell_type": "markdown",
   "id": "96b2afdf",
   "metadata": {},
   "source": [
    "-> __Don´t omit Dividend Payouts__ in your Analysis / Performance Comparison! (otherwise, high-dividend stocks get penalized!)"
   ]
  },
  {
   "cell_type": "code",
   "execution_count": null,
   "id": "e7549e66",
   "metadata": {},
   "outputs": [],
   "source": []
  },
  {
   "cell_type": "markdown",
   "id": "a3442c81",
   "metadata": {},
   "source": [
    "__For this and the next lectures, you have the choice between__\n",
    "- option 1: working with the same data as in the videos (saved in the csv file aapl.csv) __RECOMMENDED!!!__\n",
    "- option 2: working with your specific maximum time period"
   ]
  },
  {
   "cell_type": "code",
   "execution_count": null,
   "id": "b7ec08ae",
   "metadata": {},
   "outputs": [],
   "source": [
    "# option 1 -> same data as in video\n",
    "df = pd.read_csv(\"aapl.csv\", index_col = \"Date\", parse_dates = [\"Date\"]) # for more information, see lecture \"Saving and Loading Data (Local Files)\"  \n",
    "df"
   ]
  },
  {
   "cell_type": "code",
   "execution_count": null,
   "id": "3a631f7c",
   "metadata": {},
   "outputs": [],
   "source": [
    "# option 2 -> max period\n",
    "# df = yf.download(tickers = symbol, actions = True) \n",
    "# df"
   ]
  },
  {
   "cell_type": "code",
   "execution_count": null,
   "id": "a08e4188",
   "metadata": {},
   "outputs": [],
   "source": [
    "df.loc[df.Dividends != 0]"
   ]
  },
  {
   "cell_type": "code",
   "execution_count": null,
   "id": "2e23c48d",
   "metadata": {},
   "outputs": [],
   "source": [
    "df.Dividends.sum() # cumulative Dividends per share"
   ]
  },
  {
   "cell_type": "code",
   "execution_count": null,
   "id": "bbf9e7d1",
   "metadata": {},
   "outputs": [],
   "source": [
    "df.Close[-1] - df.Close[0] # cumulative Stock Price Increase - OLD"
   ]
  },
  {
   "cell_type": "code",
   "execution_count": null,
   "id": "216c7de8",
   "metadata": {},
   "outputs": [],
   "source": [
    "df.Close.iloc[-1] - df.Close.iloc[0] # cumulative Stock Price Increase - NEW"
   ]
  },
  {
   "cell_type": "code",
   "execution_count": null,
   "id": "467f894e",
   "metadata": {},
   "outputs": [],
   "source": [
    "df.loc[df.Dividends != 0].Dividends.plot()\n",
    "plt.show()"
   ]
  },
  {
   "cell_type": "markdown",
   "id": "e4cc505f",
   "metadata": {},
   "source": [
    "-> AAPL Dividend Policy: \n",
    "- historically __low-dividend__ stock (focus on growth) \n",
    "- Dividend Payouts __smoothed and steadily growing__ (highly predictable)\n",
    "- __Avoiding Dividend Cuts__ in less profitable years (negative signal in the market)"
   ]
  },
  {
   "cell_type": "code",
   "execution_count": null,
   "id": "53f155c9",
   "metadata": {},
   "outputs": [],
   "source": []
  },
  {
   "cell_type": "markdown",
   "id": "beba1f47",
   "metadata": {},
   "source": [
    "## What´s the Adjusted Close Price?"
   ]
  },
  {
   "cell_type": "markdown",
   "id": "00807066",
   "metadata": {},
   "source": [
    "\"The Adjusted Close Price is the backward adjusted (reduced) Close Price (adjusted for Dividends).\"   "
   ]
  },
  {
   "cell_type": "code",
   "execution_count": null,
   "id": "6a596eee",
   "metadata": {},
   "outputs": [],
   "source": [
    "df"
   ]
  },
  {
   "cell_type": "code",
   "execution_count": null,
   "id": "4feaf09c",
   "metadata": {},
   "outputs": [],
   "source": [
    "df2 = df[[\"Close\", \"Adj Close\", \"Dividends\"]].copy()\n",
    "df2"
   ]
  },
  {
   "cell_type": "code",
   "execution_count": null,
   "id": "9301aac7",
   "metadata": {},
   "outputs": [],
   "source": [
    "df2.loc[\"2015\":].plot(figsize = (12, 8), secondary_y = \"Dividends\")\n",
    "plt.show()"
   ]
  },
  {
   "cell_type": "code",
   "execution_count": null,
   "id": "980eaae5",
   "metadata": {},
   "outputs": [],
   "source": [
    "df2[df2.Dividends > 0]"
   ]
  },
  {
   "cell_type": "code",
   "execution_count": null,
   "id": "831007ad",
   "metadata": {},
   "outputs": [],
   "source": [
    "last_div = df2.loc[\"2022-08-01\": \"2022-08-5\"].copy()\n",
    "last_div"
   ]
  },
  {
   "cell_type": "code",
   "execution_count": null,
   "id": "1bb711f3",
   "metadata": {},
   "outputs": [],
   "source": [
    "last_div.Close - last_div[\"Adj Close\"]"
   ]
  },
  {
   "cell_type": "markdown",
   "id": "a38f0f14",
   "metadata": {},
   "source": [
    "https://in.help.yahoo.com/kb/adjusted-close-sln28256.html"
   ]
  },
  {
   "cell_type": "code",
   "execution_count": null,
   "id": "7585872f",
   "metadata": {},
   "outputs": [],
   "source": [
    "multiplier = (1 - 0.23/165.809998)\n",
    "multiplier"
   ]
  },
  {
   "cell_type": "code",
   "execution_count": null,
   "id": "b7638a16",
   "metadata": {},
   "outputs": [],
   "source": [
    "last_div"
   ]
  },
  {
   "cell_type": "code",
   "execution_count": null,
   "id": "1bf67bbb",
   "metadata": {},
   "outputs": [],
   "source": [
    "last_div[\"Adj Close calc\"] = last_div.Close * multiplier\n",
    "last_div"
   ]
  },
  {
   "cell_type": "code",
   "execution_count": null,
   "id": "8c8e4a2e",
   "metadata": {},
   "outputs": [],
   "source": [
    "df[\"Adj Close\"] / df[\"Close\"] # total multiplier (all dividends)"
   ]
  },
  {
   "cell_type": "code",
   "execution_count": null,
   "id": "8efed10e",
   "metadata": {},
   "outputs": [],
   "source": [
    "df"
   ]
  },
  {
   "cell_type": "markdown",
   "id": "dc86e08d",
   "metadata": {},
   "source": [
    "__Interpretations:__\n",
    "- Borrowing parts (e.g. 22%) of initial stock purchase price in 1980 and pay back borrowed amounts with Dividends. -or-\n",
    "- Reinvesting Dividends and buying more shares with Dividends"
   ]
  },
  {
   "cell_type": "markdown",
   "id": "84b05b28",
   "metadata": {},
   "source": [
    "__Benefits:__\n",
    "- good approximation for a Stock´s __Total Return__ (Price Return + Dividend Yield)\n",
    "- allows __Performance Comparison__ across stocks with different Payout Policies"
   ]
  },
  {
   "cell_type": "code",
   "execution_count": null,
   "id": "9e80e752",
   "metadata": {},
   "outputs": [],
   "source": []
  },
  {
   "cell_type": "markdown",
   "id": "7f89e1e1",
   "metadata": {},
   "source": [
    "## Stock Splits"
   ]
  },
  {
   "cell_type": "code",
   "execution_count": null,
   "id": "d86aa71d",
   "metadata": {},
   "outputs": [],
   "source": [
    "df"
   ]
  },
  {
   "cell_type": "markdown",
   "id": "44b2b90f",
   "metadata": {},
   "source": [
    "All Prices (OHLC, Adj Close) and Dividends are __backward adjusted__ (reduced) for Stock Splits. "
   ]
  },
  {
   "cell_type": "markdown",
   "id": "e4cfcb58",
   "metadata": {},
   "source": [
    "-> This __makes perfectly sense__ and you should not question it (unless you are interested in historical observable prices)!"
   ]
  },
  {
   "cell_type": "code",
   "execution_count": null,
   "id": "b1af1839",
   "metadata": {},
   "outputs": [],
   "source": [
    "splits = df.loc[df[\"Stock Splits\"] > 0]\n",
    "splits"
   ]
  },
  {
   "cell_type": "markdown",
   "id": "95fd6004",
   "metadata": {},
   "source": [
    "__Stock Split__: allows a company to break (split) each share into multiple shares __without affecting its market capitalization (total value of all its shares) or each investor's stake__ in the company. Motivation: reduce price per share and increase granularity."
   ]
  },
  {
   "cell_type": "markdown",
   "id": "7051fb2d",
   "metadata": {},
   "source": [
    "__Example Stock Split 4:1__ -> Receive 4 new shares for 1 old share. Share Price immediately drops to 1/4 (no value effect)"
   ]
  },
  {
   "cell_type": "markdown",
   "id": "fc66a3fb",
   "metadata": {},
   "source": [
    "On Yahoo Finance, Prices & Dividends are backward adjusted for Stock Splits. "
   ]
  },
  {
   "cell_type": "markdown",
   "id": "cc70cd94",
   "metadata": {},
   "source": [
    "Price on 2020-08-31 __after Split__:"
   ]
  },
  {
   "cell_type": "code",
   "execution_count": null,
   "id": "86913cff",
   "metadata": {},
   "outputs": [],
   "source": [
    "splits.loc[\"2020-08-31\", \"Close\"] "
   ]
  },
  {
   "cell_type": "markdown",
   "id": "8503f8e4",
   "metadata": {},
   "source": [
    "Price on 2020-08-31 __before Split__:"
   ]
  },
  {
   "cell_type": "code",
   "execution_count": null,
   "id": "eaaeac2e",
   "metadata": {},
   "outputs": [],
   "source": [
    "splits.loc[\"2020-08-31\", \"Close\"] * splits.loc[\"2020-08-31\", \"Stock Splits\"]"
   ]
  },
  {
   "cell_type": "markdown",
   "id": "bd030356",
   "metadata": {},
   "source": [
    "__-> 4 * 129 == 1 * 516__"
   ]
  },
  {
   "cell_type": "code",
   "execution_count": null,
   "id": "ff2c72e4",
   "metadata": {},
   "outputs": [],
   "source": []
  },
  {
   "cell_type": "markdown",
   "id": "7b863623",
   "metadata": {},
   "source": [
    "__Calculate the unadjusted (observable) prices__"
   ]
  },
  {
   "cell_type": "code",
   "execution_count": null,
   "id": "9aae0e6f",
   "metadata": {},
   "outputs": [],
   "source": [
    "df[\"Stock Splits\"].replace(to_replace = 0, value = 1, inplace = True) # 1:1 on all other days\n",
    "df"
   ]
  },
  {
   "cell_type": "code",
   "execution_count": null,
   "id": "1eb01cee",
   "metadata": {},
   "outputs": [],
   "source": [
    "df[\"Multiplier\"] = df.sort_index(ascending = False)[\"Stock Splits\"].cumprod() # cumulative multipier\n",
    "df"
   ]
  },
  {
   "cell_type": "code",
   "execution_count": null,
   "id": "7aec72ee",
   "metadata": {},
   "outputs": [],
   "source": [
    "df[\"Close_unadj\"] = df[\"Close\"] * df.Multiplier # observable close price\n",
    "df"
   ]
  },
  {
   "cell_type": "code",
   "execution_count": null,
   "id": "a16ee7eb",
   "metadata": {
    "scrolled": false
   },
   "outputs": [],
   "source": [
    "df[[\"Close\", \"Close_unadj\"]].plot(figsize = (12 ,8))\n",
    "plt.vlines(splits.index, 0, 700, color = \"black\")\n",
    "plt.show()"
   ]
  },
  {
   "cell_type": "markdown",
   "id": "d53c8632",
   "metadata": {},
   "source": [
    "__-> (backward adjusted) prices correctly reflect true price performance. They ignore price drops caused by stock splits!__"
   ]
  },
  {
   "cell_type": "markdown",
   "id": "e7877ef5",
   "metadata": {},
   "source": [
    "__unadjusted Dividends__"
   ]
  },
  {
   "cell_type": "code",
   "execution_count": null,
   "id": "0bb43271",
   "metadata": {},
   "outputs": [],
   "source": [
    "df[\"div_unadj\"] = df[\"Dividends\"] * df.Multiplier"
   ]
  },
  {
   "cell_type": "code",
   "execution_count": null,
   "id": "90f187fb",
   "metadata": {},
   "outputs": [],
   "source": [
    "df.loc[df.div_unadj != 0].div_unadj.plot(figsize = (12, 8))\n",
    "plt.show()"
   ]
  },
  {
   "cell_type": "markdown",
   "id": "b7bfa6d8",
   "metadata": {},
   "source": [
    "__unadjusted Trading Volume (number of shares)__"
   ]
  },
  {
   "cell_type": "code",
   "execution_count": null,
   "id": "811c3c77",
   "metadata": {},
   "outputs": [],
   "source": [
    "df[\"Volume_unadj\"] = df[\"Volume\"] / df.Multiplier"
   ]
  },
  {
   "cell_type": "code",
   "execution_count": null,
   "id": "1425b137",
   "metadata": {},
   "outputs": [],
   "source": [
    "df[\"Volume_unadj\"].plot(figsize = (12, 8))\n",
    "plt.show()"
   ]
  },
  {
   "cell_type": "code",
   "execution_count": null,
   "id": "73ba9a85",
   "metadata": {},
   "outputs": [],
   "source": []
  },
  {
   "cell_type": "markdown",
   "id": "be2329d7",
   "metadata": {},
   "source": [
    "## Stocks from other Countries / Exchanges "
   ]
  },
  {
   "cell_type": "code",
   "execution_count": null,
   "id": "b2a31535",
   "metadata": {},
   "outputs": [],
   "source": [
    "yf.download(tickers = \"AAPL\") # US Ticker (no suffix)"
   ]
  },
  {
   "cell_type": "code",
   "execution_count": null,
   "id": "8f62a094",
   "metadata": {},
   "outputs": [],
   "source": [
    "#yf.download(tickers = \"RELIANCE\") # Indian Ticker (no suffix)"
   ]
  },
  {
   "cell_type": "markdown",
   "id": "a2ab96c0",
   "metadata": {},
   "source": [
    "__Exchange List:__ "
   ]
  },
  {
   "cell_type": "markdown",
   "id": "8424d86a",
   "metadata": {},
   "source": [
    "https://help.yahoo.com/kb/SLN2310.html"
   ]
  },
  {
   "cell_type": "code",
   "execution_count": null,
   "id": "6f8e3f87",
   "metadata": {},
   "outputs": [],
   "source": [
    "yf.download(tickers = \"RELIANCE.NS\") # Indian Ticker"
   ]
  },
  {
   "cell_type": "code",
   "execution_count": null,
   "id": "6745d606",
   "metadata": {},
   "outputs": [],
   "source": [
    "yf.download(tickers = \"LHA.DE\") # German Ticker (Deutsche Boerse XETRA)"
   ]
  },
  {
   "cell_type": "code",
   "execution_count": null,
   "id": "365ce34a",
   "metadata": {},
   "outputs": [],
   "source": [
    "yf.download(tickers = \"LHA.F\") # German Ticker (Frankfurt Stock Exchange)"
   ]
  },
  {
   "cell_type": "code",
   "execution_count": null,
   "id": "698fb3d1",
   "metadata": {},
   "outputs": [],
   "source": []
  },
  {
   "cell_type": "markdown",
   "id": "97b8413e",
   "metadata": {},
   "source": [
    "## Multiple Tickers"
   ]
  },
  {
   "cell_type": "code",
   "execution_count": null,
   "id": "1c8b7724",
   "metadata": {},
   "outputs": [],
   "source": [
    "df = yf.download(tickers = [\"AAPL\", \"MSFT\"]) # multiple tickers\n",
    "df"
   ]
  },
  {
   "cell_type": "code",
   "execution_count": null,
   "id": "f19bd71b",
   "metadata": {},
   "outputs": [],
   "source": [
    "df.info()"
   ]
  },
  {
   "cell_type": "code",
   "execution_count": null,
   "id": "9e2bc7d0",
   "metadata": {},
   "outputs": [],
   "source": [
    "df.columns"
   ]
  },
  {
   "cell_type": "code",
   "execution_count": null,
   "id": "9b82e7e6",
   "metadata": {},
   "outputs": [],
   "source": [
    "df.Close # outer index level"
   ]
  },
  {
   "cell_type": "code",
   "execution_count": null,
   "id": "9c6aff7d",
   "metadata": {},
   "outputs": [],
   "source": [
    "df.loc[:, (\"Close\", \"MSFT\")] # one specific column"
   ]
  },
  {
   "cell_type": "code",
   "execution_count": null,
   "id": "ee792b96",
   "metadata": {},
   "outputs": [],
   "source": [
    "df.Close.MSFT # one specific column"
   ]
  },
  {
   "cell_type": "code",
   "execution_count": null,
   "id": "73c3cdcd",
   "metadata": {},
   "outputs": [],
   "source": [
    "df.loc[:, (slice(None), slice(\"AAPL\"))] # inner index level"
   ]
  },
  {
   "cell_type": "code",
   "execution_count": null,
   "id": "4771c32c",
   "metadata": {},
   "outputs": [],
   "source": [
    "df = df.swaplevel(axis = \"columns\").sort_index(axis = \"columns\")\n",
    "df"
   ]
  },
  {
   "cell_type": "code",
   "execution_count": null,
   "id": "a3630330",
   "metadata": {},
   "outputs": [],
   "source": [
    "df.AAPL"
   ]
  },
  {
   "cell_type": "code",
   "execution_count": null,
   "id": "0a581d8a",
   "metadata": {},
   "outputs": [],
   "source": [
    "df = yf.download(tickers = [\"LHA.F\", \"LHA.DE\"]).Close\n",
    "df"
   ]
  },
  {
   "cell_type": "code",
   "execution_count": null,
   "id": "8b2ba633",
   "metadata": {},
   "outputs": [],
   "source": [
    "#df.LHA.F # incorrect"
   ]
  },
  {
   "cell_type": "code",
   "execution_count": null,
   "id": "0af91aa2",
   "metadata": {},
   "outputs": [],
   "source": [
    "df[\"LHA.F\"]"
   ]
  },
  {
   "cell_type": "code",
   "execution_count": null,
   "id": "725a9365",
   "metadata": {},
   "outputs": [],
   "source": [
    "df.columns = [\"LHA_DE\", \"LHA_F\"]"
   ]
  },
  {
   "cell_type": "code",
   "execution_count": null,
   "id": "f5884ae8",
   "metadata": {},
   "outputs": [],
   "source": [
    "df"
   ]
  },
  {
   "cell_type": "code",
   "execution_count": null,
   "id": "3cc2d26e",
   "metadata": {},
   "outputs": [],
   "source": [
    "df.LHA_F"
   ]
  },
  {
   "cell_type": "code",
   "execution_count": null,
   "id": "879b06d3",
   "metadata": {},
   "outputs": [],
   "source": []
  },
  {
   "cell_type": "markdown",
   "id": "b701f578",
   "metadata": {},
   "source": [
    "## Saving and Loading Data (Local Files)"
   ]
  },
  {
   "cell_type": "code",
   "execution_count": null,
   "id": "fd4b0c8b",
   "metadata": {},
   "outputs": [],
   "source": [
    "import yfinance as yf\n",
    "import pandas as pd"
   ]
  },
  {
   "cell_type": "code",
   "execution_count": null,
   "id": "07fcd46e",
   "metadata": {},
   "outputs": [],
   "source": [
    "symbol = \"AAPL\""
   ]
  },
  {
   "cell_type": "code",
   "execution_count": null,
   "id": "cb64adb0",
   "metadata": {},
   "outputs": [],
   "source": [
    "df = yf.download(symbol)\n",
    "df"
   ]
  },
  {
   "cell_type": "code",
   "execution_count": null,
   "id": "e9569f29",
   "metadata": {},
   "outputs": [],
   "source": [
    "df.to_csv(path_or_buf = \"apple.csv\") # writing to local csv"
   ]
  },
  {
   "cell_type": "code",
   "execution_count": null,
   "id": "ce918cd9",
   "metadata": {},
   "outputs": [],
   "source": [
    "df2 = pd.read_csv(\"apple.csv\", index_col=\"Date\", parse_dates= [\"Date\"]) # loading from local csv\n",
    "df2"
   ]
  },
  {
   "cell_type": "code",
   "execution_count": null,
   "id": "df4de8b5",
   "metadata": {},
   "outputs": [],
   "source": [
    "df2.info()"
   ]
  },
  {
   "cell_type": "markdown",
   "id": "521892f4",
   "metadata": {},
   "source": [
    "__multiple symbols__"
   ]
  },
  {
   "cell_type": "code",
   "execution_count": null,
   "id": "70c0c30b",
   "metadata": {},
   "outputs": [],
   "source": [
    "symbols = [\"AAPL\", \"MSFT\"]"
   ]
  },
  {
   "cell_type": "code",
   "execution_count": null,
   "id": "4ce199ad",
   "metadata": {},
   "outputs": [],
   "source": [
    "df = yf.download(symbols)\n",
    "df"
   ]
  },
  {
   "cell_type": "code",
   "execution_count": null,
   "id": "68d2b224",
   "metadata": {},
   "outputs": [],
   "source": [
    "df.to_csv(path_or_buf = \"two_stocks.csv\") # writing to local csv"
   ]
  },
  {
   "cell_type": "code",
   "execution_count": null,
   "id": "7fcb0280",
   "metadata": {},
   "outputs": [],
   "source": [
    "df2 = pd.read_csv(\"two_stocks.csv\", header = [0, 1], index_col = [0], parse_dates = [0]) # loading from local csv\n",
    "df2"
   ]
  },
  {
   "cell_type": "code",
   "execution_count": null,
   "id": "a6469e13",
   "metadata": {},
   "outputs": [],
   "source": [
    "df2.info()"
   ]
  },
  {
   "cell_type": "code",
   "execution_count": null,
   "id": "e6249a3b",
   "metadata": {},
   "outputs": [],
   "source": []
  },
  {
   "cell_type": "markdown",
   "id": "fd08df53",
   "metadata": {},
   "source": [
    "## Coding Challenge"
   ]
  },
  {
   "cell_type": "markdown",
   "id": "50a2ae61",
   "metadata": {},
   "source": [
    "1. Load historical Prices, Volume and Dividends for the stocks \"JNJ\" (__Johnson & Johnson__) and \"TSLA\" (__Tesla__)"
   ]
  },
  {
   "cell_type": "markdown",
   "id": "093e4aa6",
   "metadata": {},
   "source": [
    "2. Analyze and compare Dividends, Stock Price Increase and Dividend Policy"
   ]
  },
  {
   "cell_type": "markdown",
   "id": "d8ab7b93",
   "metadata": {},
   "source": [
    "3. Which stock is the high-dividend stock?"
   ]
  },
  {
   "cell_type": "markdown",
   "id": "c9298b39",
   "metadata": {},
   "source": [
    "## --------------- Solution --------------------------"
   ]
  },
  {
   "cell_type": "code",
   "execution_count": null,
   "id": "a73a1d2e",
   "metadata": {},
   "outputs": [],
   "source": []
  },
  {
   "cell_type": "code",
   "execution_count": null,
   "id": "a94d268a",
   "metadata": {},
   "outputs": [],
   "source": []
  },
  {
   "cell_type": "code",
   "execution_count": null,
   "id": "df4d0ec1",
   "metadata": {},
   "outputs": [],
   "source": []
  },
  {
   "cell_type": "code",
   "execution_count": null,
   "id": "2e583d2f",
   "metadata": {},
   "outputs": [],
   "source": []
  },
  {
   "cell_type": "code",
   "execution_count": null,
   "id": "5e8077aa",
   "metadata": {},
   "outputs": [],
   "source": [
    "import yfinance as yf\n",
    "import pandas as pd\n",
    "import matplotlib.pyplot as plt\n",
    "plt.style.use(\"seaborn-v0_8\")"
   ]
  },
  {
   "cell_type": "code",
   "execution_count": null,
   "id": "dac45838",
   "metadata": {},
   "outputs": [],
   "source": [
    "symbols = [\"JNJ\", \"TSLA\"]"
   ]
  },
  {
   "cell_type": "code",
   "execution_count": null,
   "id": "5b234a39",
   "metadata": {},
   "outputs": [],
   "source": [
    "df = yf.download(symbols, actions = True)\n",
    "df"
   ]
  },
  {
   "cell_type": "code",
   "execution_count": null,
   "id": "4d84efab",
   "metadata": {},
   "outputs": [],
   "source": [
    "df.Close.plot(figsize = (12, 8))\n",
    "plt.show()"
   ]
  },
  {
   "cell_type": "code",
   "execution_count": null,
   "id": "1fcaf3f9",
   "metadata": {},
   "outputs": [],
   "source": [
    "df = df.swaplevel(axis = \"columns\").sort_index(axis = \"columns\")\n",
    "df"
   ]
  },
  {
   "cell_type": "code",
   "execution_count": null,
   "id": "a6a07fd9",
   "metadata": {},
   "outputs": [],
   "source": [
    "jnj = df.JNJ\n",
    "jnj"
   ]
  },
  {
   "cell_type": "code",
   "execution_count": null,
   "id": "fac53604",
   "metadata": {},
   "outputs": [],
   "source": [
    "jnj[[\"Close\", \"Adj Close\"]].plot(figsize = (12, 8))\n",
    "plt.show()"
   ]
  },
  {
   "cell_type": "markdown",
   "id": "3139e7c8",
   "metadata": {},
   "source": [
    "__Dividends__"
   ]
  },
  {
   "cell_type": "code",
   "execution_count": null,
   "id": "53e52546",
   "metadata": {
    "scrolled": true
   },
   "outputs": [],
   "source": [
    "jnj.Dividends.sum()"
   ]
  },
  {
   "cell_type": "markdown",
   "id": "99d6f808",
   "metadata": {},
   "source": [
    "__Price Increase__"
   ]
  },
  {
   "cell_type": "code",
   "execution_count": null,
   "id": "7a1b4dd4",
   "metadata": {},
   "outputs": [],
   "source": [
    "jnj.Close.iloc[-1] - jnj.Close.iloc[0] # from Pandas v. 2.0 use iloc!"
   ]
  },
  {
   "cell_type": "markdown",
   "id": "81d77670",
   "metadata": {},
   "source": [
    "__Dividend Policy__"
   ]
  },
  {
   "cell_type": "code",
   "execution_count": null,
   "id": "54b9ee9f",
   "metadata": {},
   "outputs": [],
   "source": [
    "jnj.loc[jnj.Dividends != 0].Dividends.plot()\n",
    "plt.show()"
   ]
  },
  {
   "cell_type": "code",
   "execution_count": null,
   "id": "4ddf481e",
   "metadata": {},
   "outputs": [],
   "source": [
    "tsla = df.TSLA.dropna()\n",
    "tsla"
   ]
  },
  {
   "cell_type": "code",
   "execution_count": null,
   "id": "c78e5509",
   "metadata": {},
   "outputs": [],
   "source": [
    "tsla[[\"Close\", \"Adj Close\"]].plot(figsize = (12, 8))\n",
    "plt.show()"
   ]
  },
  {
   "cell_type": "markdown",
   "id": "1c2f43b0",
   "metadata": {},
   "source": [
    "__Dividends__"
   ]
  },
  {
   "cell_type": "code",
   "execution_count": null,
   "id": "b752eec2",
   "metadata": {},
   "outputs": [],
   "source": [
    "tsla.Dividends.sum()"
   ]
  },
  {
   "cell_type": "markdown",
   "id": "a109c814",
   "metadata": {},
   "source": [
    "__Price Increase__"
   ]
  },
  {
   "cell_type": "code",
   "execution_count": null,
   "id": "fd864d74",
   "metadata": {},
   "outputs": [],
   "source": [
    "tsla.Close.iloc[-1] - tsla.Close.iloc[0]"
   ]
  },
  {
   "cell_type": "markdown",
   "id": "6117e41d",
   "metadata": {},
   "source": [
    "__Dividend Policy__"
   ]
  },
  {
   "cell_type": "code",
   "execution_count": null,
   "id": "9027ca6a",
   "metadata": {},
   "outputs": [],
   "source": [
    "tsla.loc[tsla.Dividends != 0].Dividends.plot()\n",
    "plt.show()"
   ]
  },
  {
   "cell_type": "markdown",
   "id": "cef6616c",
   "metadata": {},
   "source": [
    "__-> JNJ is the high-dividend stock__"
   ]
  },
  {
   "cell_type": "code",
   "execution_count": null,
   "id": "ac294d00",
   "metadata": {},
   "outputs": [],
   "source": []
  }
 ],
 "metadata": {
  "kernelspec": {
   "display_name": "Python 3 (ipykernel)",
   "language": "python",
   "name": "python3"
  },
  "language_info": {
   "codemirror_mode": {
    "name": "ipython",
    "version": 3
   },
   "file_extension": ".py",
   "mimetype": "text/x-python",
   "name": "python",
   "nbconvert_exporter": "python",
   "pygments_lexer": "ipython3",
   "version": "3.11.5"
  }
 },
 "nbformat": 4,
 "nbformat_minor": 5
}
