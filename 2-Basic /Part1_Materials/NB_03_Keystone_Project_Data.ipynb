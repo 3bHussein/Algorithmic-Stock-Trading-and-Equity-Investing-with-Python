{
 "cells": [
  {
   "cell_type": "markdown",
   "id": "c01fc8da",
   "metadata": {},
   "source": [
    "Note: __yfinance can be unstable/unreliable from time to time__ when it comes to downloading fundamental data with the ticker object. In particular, __ticker.get_info()__ can be flawed."
   ]
  },
  {
   "cell_type": "markdown",
   "id": "a8382a7b",
   "metadata": {},
   "source": [
    "__Action required__: Check for the __latest yfinance versions__ and update with the following command (Anaconda Prompt / Terminal):"
   ]
  },
  {
   "cell_type": "markdown",
   "id": "e76cc2b0",
   "metadata": {},
   "source": [
    "pip install yfinance --upgrade"
   ]
  },
  {
   "cell_type": "markdown",
   "id": "0704ba58",
   "metadata": {},
   "source": [
    "In the following, I have added an __alternative Yahoo Finance API Wrapper__, __yahooquery__"
   ]
  },
  {
   "cell_type": "markdown",
   "id": "c2970573",
   "metadata": {},
   "source": [
    "__Action required: Please install yahooquery with the following command (Anaconda Prompt / Terminal):__"
   ]
  },
  {
   "cell_type": "markdown",
   "id": "8684e316",
   "metadata": {},
   "source": [
    "pip install yahooquery --upgrade"
   ]
  },
  {
   "cell_type": "markdown",
   "id": "ee868555",
   "metadata": {},
   "source": [
    "Note: \n",
    "- Please make sure you have installed the __latest__ yahooquery version (if not, please upgrade). "
   ]
  },
  {
   "cell_type": "markdown",
   "id": "a101fadb",
   "metadata": {},
   "source": [
    "__Update December 2023__: Sometimes yfinance is more stable/reliable and sometimes yahooquery is more stable/reliable. Most recently, yfinance seemed to be better. In any case, __please make sure you have the latest versions installed!__"
   ]
  },
  {
   "cell_type": "code",
   "execution_count": null,
   "id": "4ecd7474",
   "metadata": {},
   "outputs": [],
   "source": []
  },
  {
   "cell_type": "markdown",
   "id": "c9906640",
   "metadata": {},
   "source": [
    "# Keystone Project - The Dow Jones Index Constituents"
   ]
  },
  {
   "cell_type": "markdown",
   "id": "d0ef15b8",
   "metadata": {},
   "source": [
    "__Assignment / Goal:__"
   ]
  },
  {
   "cell_type": "markdown",
   "id": "d7a9dad9",
   "metadata": {},
   "source": [
    "1. Load __historical price and volume data__ for all __30 stocks/constituents__ of the Dow Jones Industrial Average (__DJIA__) stock index."
   ]
  },
  {
   "cell_type": "markdown",
   "id": "99b0f535",
   "metadata": {},
   "source": [
    "2. Load and save other stock information like __Exchange, Industry, Price Performance, Dividend Yield, Price-to-Book ratio and Forward P/E ratio__."
   ]
  },
  {
   "cell_type": "markdown",
   "id": "e195191d",
   "metadata": {},
   "source": [
    "3. __Compare/sort stocks__ by Price Performance, Dividend Yield, Price-to-Book ratio and Forward P/E ratio."
   ]
  },
  {
   "cell_type": "markdown",
   "id": "f6c280d6",
   "metadata": {},
   "source": [
    "What is the Dow Jones Industrial Average (DJIA)?"
   ]
  },
  {
   "cell_type": "markdown",
   "id": "089eaeea",
   "metadata": {},
   "source": [
    "__\"The Dow Jones Industrial Average (DJIA), Dow Jones, or simply the Dow, is a stock market index of 30 prominent companies listed on stock exchanges in the United States.[...]\"__ (Wikipedia) https://en.wikipedia.org/wiki/Dow_Jones_Industrial_Average"
   ]
  },
  {
   "cell_type": "markdown",
   "id": "81293a71",
   "metadata": {},
   "source": [
    "(hint: you can load tables from a website with pd.read_html(url))"
   ]
  },
  {
   "cell_type": "code",
   "execution_count": null,
   "id": "dc62050d",
   "metadata": {},
   "outputs": [],
   "source": []
  },
  {
   "cell_type": "markdown",
   "id": "d5f1d36b",
   "metadata": {},
   "source": [
    "### ------------------------SOLUTION------------------------------"
   ]
  },
  {
   "cell_type": "code",
   "execution_count": null,
   "id": "25b0a844",
   "metadata": {},
   "outputs": [],
   "source": []
  },
  {
   "cell_type": "markdown",
   "id": "c948d8b9",
   "metadata": {},
   "source": [
    "## Loading the DJIA 30 Constituents from the Web"
   ]
  },
  {
   "cell_type": "code",
   "execution_count": null,
   "id": "5f5c1118",
   "metadata": {},
   "outputs": [],
   "source": [
    "import yfinance as yf\n",
    "from yahooquery import Ticker\n",
    "import pandas as pd"
   ]
  },
  {
   "cell_type": "code",
   "execution_count": null,
   "id": "2201ff44",
   "metadata": {},
   "outputs": [],
   "source": [
    "url = \"https://en.wikipedia.org/wiki/Dow_Jones_Industrial_Average\"\n",
    "url"
   ]
  },
  {
   "cell_type": "code",
   "execution_count": null,
   "id": "74401515",
   "metadata": {},
   "outputs": [],
   "source": [
    "df = pd.read_html(url)[1]\n",
    "df"
   ]
  },
  {
   "cell_type": "code",
   "execution_count": null,
   "id": "25a92e79",
   "metadata": {},
   "outputs": [],
   "source": [
    "df.info()"
   ]
  },
  {
   "cell_type": "code",
   "execution_count": null,
   "id": "69d0ae65",
   "metadata": {},
   "outputs": [],
   "source": [
    "df.rename(columns = {\"Date added\":\"Date_Added\"}, inplace = True)\n",
    "df.rename(columns = {\"Index weighting\":\"Weights\"}, inplace = True)"
   ]
  },
  {
   "cell_type": "code",
   "execution_count": null,
   "id": "39a6d07c",
   "metadata": {},
   "outputs": [],
   "source": [
    "df.Date_Added = pd.to_datetime(df.Date_Added)"
   ]
  },
  {
   "cell_type": "code",
   "execution_count": null,
   "id": "c10a2a86",
   "metadata": {},
   "outputs": [],
   "source": [
    "df.Weights = pd.to_numeric(df.Weights.str.replace(\"%\", \"\"))"
   ]
  },
  {
   "cell_type": "code",
   "execution_count": null,
   "id": "8fdcd5e0",
   "metadata": {},
   "outputs": [],
   "source": [
    "df"
   ]
  },
  {
   "cell_type": "code",
   "execution_count": null,
   "id": "d8b3b1f1",
   "metadata": {},
   "outputs": [],
   "source": [
    "df.Weights.sum()"
   ]
  },
  {
   "cell_type": "code",
   "execution_count": null,
   "id": "04ca7d03",
   "metadata": {},
   "outputs": [],
   "source": [
    "df.drop(columns = \"Notes\", inplace = True)"
   ]
  },
  {
   "cell_type": "code",
   "execution_count": null,
   "id": "7e6c91b3",
   "metadata": {},
   "outputs": [],
   "source": [
    "df.set_index(\"Symbol\", inplace = True)"
   ]
  },
  {
   "cell_type": "code",
   "execution_count": null,
   "id": "af891584",
   "metadata": {},
   "outputs": [],
   "source": [
    "df"
   ]
  },
  {
   "cell_type": "code",
   "execution_count": null,
   "id": "66b061ee",
   "metadata": {},
   "outputs": [],
   "source": [
    "symbols = df.index.to_list()\n",
    "symbols"
   ]
  },
  {
   "cell_type": "code",
   "execution_count": null,
   "id": "a778b9ed",
   "metadata": {},
   "outputs": [],
   "source": [
    "last_update = df[\"Date_Added\"].max()\n",
    "last_update"
   ]
  },
  {
   "cell_type": "code",
   "execution_count": null,
   "id": "6199a0bc",
   "metadata": {},
   "outputs": [],
   "source": []
  },
  {
   "cell_type": "markdown",
   "id": "6a1c65b1",
   "metadata": {},
   "source": [
    "## Load Historical Price/Volume Data (Time Series)"
   ]
  },
  {
   "cell_type": "code",
   "execution_count": null,
   "id": "6d116c8d",
   "metadata": {},
   "outputs": [],
   "source": [
    "symbols"
   ]
  },
  {
   "cell_type": "code",
   "execution_count": null,
   "id": "bc22dfcb",
   "metadata": {},
   "outputs": [],
   "source": [
    "last_update"
   ]
  },
  {
   "cell_type": "code",
   "execution_count": null,
   "id": "c2f138e3",
   "metadata": {},
   "outputs": [],
   "source": [
    "ts = yf.download(tickers = symbols, start = last_update)\n",
    "ts"
   ]
  },
  {
   "cell_type": "code",
   "execution_count": null,
   "id": "823a67d1",
   "metadata": {},
   "outputs": [],
   "source": [
    "ts.info()"
   ]
  },
  {
   "cell_type": "code",
   "execution_count": null,
   "id": "94883858",
   "metadata": {},
   "outputs": [],
   "source": [
    "ts.Close"
   ]
  },
  {
   "cell_type": "code",
   "execution_count": null,
   "id": "47d3204d",
   "metadata": {},
   "outputs": [],
   "source": [
    "ts.dropna(inplace = True)"
   ]
  },
  {
   "cell_type": "code",
   "execution_count": null,
   "id": "0d86e746",
   "metadata": {},
   "outputs": [],
   "source": [
    "perf = ts.Close.iloc[-1].div(ts.Close.iloc[0]).sub(1).sort_values(ascending = False)\n",
    "perf # total price increase/decrease (in %) since last reconstitution"
   ]
  },
  {
   "cell_type": "code",
   "execution_count": null,
   "id": "157a87a1",
   "metadata": {},
   "outputs": [],
   "source": [
    "perf.index.name = \"Symbol\""
   ]
  },
  {
   "cell_type": "code",
   "execution_count": null,
   "id": "8273fd72",
   "metadata": {},
   "outputs": [],
   "source": [
    "perf"
   ]
  },
  {
   "cell_type": "code",
   "execution_count": null,
   "id": "7cbeb7c1",
   "metadata": {},
   "outputs": [],
   "source": [
    "df"
   ]
  },
  {
   "cell_type": "code",
   "execution_count": null,
   "id": "d1fdf8b9",
   "metadata": {},
   "outputs": [],
   "source": [
    "df[\"Performance\"] = perf\n",
    "df"
   ]
  },
  {
   "cell_type": "code",
   "execution_count": null,
   "id": "9effbc91",
   "metadata": {},
   "outputs": [],
   "source": [
    "df.sort_values(by = \"Performance\", ascending = False)"
   ]
  },
  {
   "cell_type": "code",
   "execution_count": null,
   "id": "c699ab67",
   "metadata": {},
   "outputs": [],
   "source": []
  },
  {
   "cell_type": "markdown",
   "id": "7a87bd83",
   "metadata": {},
   "source": [
    "## More detailed Stock Data (cross-sectional)"
   ]
  },
  {
   "cell_type": "markdown",
   "id": "c3fe9f6f",
   "metadata": {},
   "source": [
    "__yfinance__ (recommended, much faster than yahooquery)"
   ]
  },
  {
   "cell_type": "code",
   "execution_count": null,
   "id": "c4a9e0d3",
   "metadata": {},
   "outputs": [],
   "source": [
    "msft = yf.Ticker(ticker = \"msft\") \n",
    "msft"
   ]
  },
  {
   "cell_type": "code",
   "execution_count": null,
   "id": "d4bb4ec1",
   "metadata": {},
   "outputs": [],
   "source": [
    "msft.get_info()"
   ]
  },
  {
   "cell_type": "code",
   "execution_count": null,
   "id": "714ba39d",
   "metadata": {},
   "outputs": [],
   "source": [
    "info = pd.Series(msft.get_info()).to_frame().T\n",
    "info"
   ]
  },
  {
   "cell_type": "code",
   "execution_count": null,
   "id": "4b23ca08",
   "metadata": {},
   "outputs": [],
   "source": [
    "symbols"
   ]
  },
  {
   "cell_type": "code",
   "execution_count": null,
   "id": "e71f99f8",
   "metadata": {},
   "outputs": [],
   "source": [
    "cs = pd.DataFrame()\n",
    "cs"
   ]
  },
  {
   "cell_type": "code",
   "execution_count": null,
   "id": "31487e70",
   "metadata": {},
   "outputs": [],
   "source": [
    "count = 1\n",
    "for symbol in symbols:\n",
    "    try:\n",
    "        info = pd.Series(yf.Ticker(ticker = symbol).get_info()).to_frame().T\n",
    "        cs = pd.concat([cs, info])\n",
    "        print(count, end = '\\r')\n",
    "        count += 1\n",
    "    except Exception as e:\n",
    "        print(\"{} not found\".format(symbol))\n",
    "print(\"Download complete.\")\n",
    "cs[\"symbol\"] = symbols # Added"
   ]
  },
  {
   "cell_type": "code",
   "execution_count": null,
   "id": "05e63bab",
   "metadata": {},
   "outputs": [],
   "source": [
    "cs"
   ]
  },
  {
   "cell_type": "code",
   "execution_count": null,
   "id": "353b869a",
   "metadata": {},
   "outputs": [],
   "source": [
    "cs.set_index(\"symbol\", inplace = True)"
   ]
  },
  {
   "cell_type": "code",
   "execution_count": null,
   "id": "f44e0363",
   "metadata": {},
   "outputs": [],
   "source": [
    "cs.index.name = \"Symbol\"\n",
    "cs"
   ]
  },
  {
   "cell_type": "code",
   "execution_count": null,
   "id": "9bb3f35b",
   "metadata": {},
   "outputs": [],
   "source": [
    "cs.info()"
   ]
  },
  {
   "cell_type": "code",
   "execution_count": null,
   "id": "ddb38943",
   "metadata": {},
   "outputs": [],
   "source": []
  },
  {
   "cell_type": "markdown",
   "id": "8c68a281",
   "metadata": {},
   "source": [
    "__yahooquery__ (slow, better use yfinance)"
   ]
  },
  {
   "cell_type": "code",
   "execution_count": null,
   "id": "a5c54665",
   "metadata": {
    "scrolled": true
   },
   "outputs": [],
   "source": [
    "msft = Ticker(\"MSFT\")\n",
    "msft"
   ]
  },
  {
   "cell_type": "code",
   "execution_count": null,
   "id": "6afbb800",
   "metadata": {},
   "outputs": [],
   "source": [
    "msft.key_stats[\"MSFT\"] # key statistics"
   ]
  },
  {
   "cell_type": "code",
   "execution_count": null,
   "id": "d789e188",
   "metadata": {},
   "outputs": [],
   "source": [
    "msft.financial_data[\"MSFT\"] # financial data"
   ]
  },
  {
   "cell_type": "code",
   "execution_count": null,
   "id": "56745080",
   "metadata": {},
   "outputs": [],
   "source": [
    "msft.summary_detail[\"MSFT\"] # summary statistics"
   ]
  },
  {
   "cell_type": "code",
   "execution_count": null,
   "id": "ab6f3548",
   "metadata": {},
   "outputs": [],
   "source": [
    "symbols"
   ]
  },
  {
   "cell_type": "code",
   "execution_count": null,
   "id": "274e3419",
   "metadata": {},
   "outputs": [],
   "source": [
    "cs = pd.DataFrame()\n",
    "cs"
   ]
  },
  {
   "cell_type": "code",
   "execution_count": null,
   "id": "1cb592df",
   "metadata": {},
   "outputs": [],
   "source": [
    "count = 1\n",
    "for symbol in symbols:\n",
    "    try:\n",
    "        all_info = Ticker(symbol).key_stats[symbol] # key statistics\n",
    "        all_info.update(Ticker(symbol).financial_data[symbol]) # financial data\n",
    "        all_info.update(Ticker(symbol).summary_detail[symbol]) # summary_details\n",
    "        all_info = pd.Series(all_info).to_frame().T\n",
    "        cs = pd.concat([cs, all_info])\n",
    "        print(count, end = '\\r')\n",
    "        count += 1\n",
    "    except Exception as e:\n",
    "        print(\"{} not found\".format(symbol))\n",
    "print(\"Download complete.\")\n",
    "cs[\"symbol\"] = symbols # Added"
   ]
  },
  {
   "cell_type": "code",
   "execution_count": null,
   "id": "a4da23ec",
   "metadata": {},
   "outputs": [],
   "source": [
    "cs"
   ]
  },
  {
   "cell_type": "code",
   "execution_count": null,
   "id": "0dc50df2",
   "metadata": {},
   "outputs": [],
   "source": [
    "cs.set_index(\"symbol\", inplace = True)\n",
    "cs"
   ]
  },
  {
   "cell_type": "code",
   "execution_count": null,
   "id": "3e704350",
   "metadata": {},
   "outputs": [],
   "source": [
    "cs.index.name = \"Symbol\"\n",
    "cs"
   ]
  },
  {
   "cell_type": "code",
   "execution_count": null,
   "id": "7361a8c7",
   "metadata": {},
   "outputs": [],
   "source": [
    "cs.info()"
   ]
  },
  {
   "cell_type": "code",
   "execution_count": null,
   "id": "0a03aad0",
   "metadata": {},
   "outputs": [],
   "source": []
  },
  {
   "cell_type": "markdown",
   "id": "fe388ef7",
   "metadata": {},
   "source": [
    "## Equity Analysis & Comparison"
   ]
  },
  {
   "cell_type": "code",
   "execution_count": null,
   "id": "d2c0fa57",
   "metadata": {},
   "outputs": [],
   "source": [
    "df"
   ]
  },
  {
   "cell_type": "code",
   "execution_count": null,
   "id": "0584fafe",
   "metadata": {},
   "outputs": [],
   "source": [
    "cs"
   ]
  },
  {
   "cell_type": "markdown",
   "id": "16a2d2eb",
   "metadata": {},
   "source": [
    "__Price-to-Book ratio__ "
   ]
  },
  {
   "cell_type": "code",
   "execution_count": null,
   "id": "53b341cd",
   "metadata": {},
   "outputs": [],
   "source": [
    "cs[\"priceToBook\"].sort_values(ascending = False)"
   ]
  },
  {
   "cell_type": "code",
   "execution_count": null,
   "id": "ccf277c6",
   "metadata": {},
   "outputs": [],
   "source": [
    "cs.loc[\"BA\", \"bookValue\"]"
   ]
  },
  {
   "cell_type": "markdown",
   "id": "565de155",
   "metadata": {},
   "source": [
    "__-> negative/close to zero Book Value of Equity distorts P/B ratio__"
   ]
  },
  {
   "cell_type": "code",
   "execution_count": null,
   "id": "1e77506d",
   "metadata": {},
   "outputs": [],
   "source": [
    "df[\"PricetoBook\"] = (cs.currentPrice / cs.bookValue)\n",
    "df"
   ]
  },
  {
   "cell_type": "markdown",
   "id": "d3e92d1f",
   "metadata": {},
   "source": [
    "__Dividend Yield__ (Dividend per Share / Price)"
   ]
  },
  {
   "cell_type": "code",
   "execution_count": null,
   "id": "d6a74236",
   "metadata": {},
   "outputs": [],
   "source": [
    "cs.dividendYield"
   ]
  },
  {
   "cell_type": "code",
   "execution_count": null,
   "id": "48797c70",
   "metadata": {},
   "outputs": [],
   "source": [
    "df[\"Dividend_Yield\"] = cs.dividendYield.fillna(0)\n",
    "df"
   ]
  },
  {
   "cell_type": "markdown",
   "id": "7d46457d",
   "metadata": {},
   "source": [
    "__Forward Price-to-Earnings Ratio__"
   ]
  },
  {
   "cell_type": "code",
   "execution_count": null,
   "id": "b4d56bc4",
   "metadata": {},
   "outputs": [],
   "source": [
    "df[\"ForwardPE\"] = cs.forwardPE\n",
    "df"
   ]
  },
  {
   "cell_type": "markdown",
   "id": "418f32f5",
   "metadata": {},
   "source": [
    "__Comparison__"
   ]
  },
  {
   "cell_type": "code",
   "execution_count": null,
   "id": "2738b423",
   "metadata": {},
   "outputs": [],
   "source": [
    "df.sort_values(\"PricetoBook\", ascending = False)"
   ]
  },
  {
   "cell_type": "code",
   "execution_count": null,
   "id": "c540bda0",
   "metadata": {},
   "outputs": [],
   "source": [
    "df.sort_values(\"ForwardPE\", ascending = False)"
   ]
  },
  {
   "cell_type": "code",
   "execution_count": null,
   "id": "3dc1192f",
   "metadata": {},
   "outputs": [],
   "source": [
    "df.sort_values(\"Dividend_Yield\", ascending = False)"
   ]
  },
  {
   "cell_type": "code",
   "execution_count": null,
   "id": "1fda18a7",
   "metadata": {},
   "outputs": [],
   "source": []
  },
  {
   "cell_type": "markdown",
   "id": "c3fa6010",
   "metadata": {},
   "source": [
    "## Keystone Project - Extended"
   ]
  },
  {
   "cell_type": "markdown",
   "id": "96fe90a1",
   "metadata": {},
   "source": [
    "Repeat the Keystone Project for __other Stock Indexes / Stock Markets__ of your choice. Major Challenge: Find __Ticker Symbol List__ on the Web"
   ]
  },
  {
   "cell_type": "markdown",
   "id": "9529c7b5",
   "metadata": {},
   "source": [
    "### Examples:"
   ]
  },
  {
   "cell_type": "markdown",
   "id": "61f9ad83",
   "metadata": {},
   "source": [
    "__Full US Market__"
   ]
  },
  {
   "cell_type": "markdown",
   "id": "f0e0a6e7",
   "metadata": {},
   "source": [
    "https://www.nasdaq.com/market-activity/stocks/screener"
   ]
  },
  {
   "cell_type": "code",
   "execution_count": null,
   "id": "806d7a6f",
   "metadata": {},
   "outputs": [],
   "source": []
  },
  {
   "cell_type": "markdown",
   "id": "276a03ef",
   "metadata": {},
   "source": [
    "__S&P 500__"
   ]
  },
  {
   "cell_type": "markdown",
   "id": "cb12f256",
   "metadata": {},
   "source": [
    "https://en.wikipedia.org/wiki/List_of_S%26P_500_companies"
   ]
  },
  {
   "cell_type": "code",
   "execution_count": null,
   "id": "66f2b479",
   "metadata": {},
   "outputs": [],
   "source": []
  },
  {
   "cell_type": "markdown",
   "id": "2fccea44",
   "metadata": {},
   "source": [
    "__German DAX 40__"
   ]
  },
  {
   "cell_type": "markdown",
   "id": "4d3a74a9",
   "metadata": {},
   "source": [
    "https://en.wikipedia.org/wiki/DAX"
   ]
  },
  {
   "cell_type": "code",
   "execution_count": null,
   "id": "c3dae98f",
   "metadata": {},
   "outputs": [],
   "source": []
  },
  {
   "cell_type": "markdown",
   "id": "d6a3a13e",
   "metadata": {},
   "source": [
    "__EURO STOXX 50__"
   ]
  },
  {
   "cell_type": "markdown",
   "id": "09196a13",
   "metadata": {},
   "source": [
    "https://en.wikipedia.org/wiki/EURO_STOXX_50"
   ]
  },
  {
   "cell_type": "code",
   "execution_count": null,
   "id": "afdc7b41",
   "metadata": {},
   "outputs": [],
   "source": []
  },
  {
   "cell_type": "markdown",
   "id": "b04856dd",
   "metadata": {},
   "source": [
    "__FTSE 100__"
   ]
  },
  {
   "cell_type": "markdown",
   "id": "0f04faee",
   "metadata": {},
   "source": [
    "https://en.wikipedia.org/wiki/FTSE_100_Index"
   ]
  },
  {
   "cell_type": "code",
   "execution_count": null,
   "id": "2846793f",
   "metadata": {},
   "outputs": [],
   "source": []
  },
  {
   "cell_type": "markdown",
   "id": "abe0147b",
   "metadata": {},
   "source": [
    "__Listings for worldwide exchanges__"
   ]
  },
  {
   "cell_type": "markdown",
   "id": "e6932448",
   "metadata": {},
   "source": [
    "https://www.interactivebrokers.com/en/index.php?f=1562&p=north_america"
   ]
  },
  {
   "cell_type": "markdown",
   "id": "8ad373ef",
   "metadata": {},
   "source": [
    "__Example: India__"
   ]
  },
  {
   "cell_type": "code",
   "execution_count": null,
   "id": "8896168c",
   "metadata": {},
   "outputs": [],
   "source": [
    "import pandas as pd"
   ]
  },
  {
   "cell_type": "code",
   "execution_count": null,
   "id": "47cdda0f",
   "metadata": {},
   "outputs": [],
   "source": [
    "url = \"https://www.interactivebrokers.com/en/index.php?f=2222&exch=nse&showcategories=STK&p=&cc=&limit=100&page={}\""
   ]
  },
  {
   "cell_type": "code",
   "execution_count": null,
   "id": "041dea3a",
   "metadata": {},
   "outputs": [],
   "source": [
    "pd.read_html(url.format(1))[2]"
   ]
  },
  {
   "cell_type": "code",
   "execution_count": null,
   "id": "77e03415",
   "metadata": {},
   "outputs": [],
   "source": [
    "pages = 22"
   ]
  },
  {
   "cell_type": "code",
   "execution_count": null,
   "id": "f75cb6f7",
   "metadata": {},
   "outputs": [],
   "source": [
    "df = pd.DataFrame()"
   ]
  },
  {
   "cell_type": "code",
   "execution_count": null,
   "id": "c30b9d9d",
   "metadata": {},
   "outputs": [],
   "source": [
    "for i in range(1, pages + 1):\n",
    "    table = pd.read_html(url.format(i))[2]\n",
    "    df = pd.concat([df, table])"
   ]
  },
  {
   "cell_type": "code",
   "execution_count": null,
   "id": "b1768dc1",
   "metadata": {},
   "outputs": [],
   "source": [
    "df"
   ]
  },
  {
   "cell_type": "code",
   "execution_count": null,
   "id": "a5e4a3db",
   "metadata": {},
   "outputs": [],
   "source": [
    "df.reset_index(drop = True, inplace = True)"
   ]
  },
  {
   "cell_type": "code",
   "execution_count": null,
   "id": "c1189044",
   "metadata": {},
   "outputs": [],
   "source": [
    "df"
   ]
  },
  {
   "cell_type": "code",
   "execution_count": null,
   "id": "004365c3",
   "metadata": {},
   "outputs": [],
   "source": [
    "df.info()"
   ]
  },
  {
   "cell_type": "markdown",
   "id": "d46a4005",
   "metadata": {},
   "source": [
    "__Reminder__: to pull data for an [Indian] Stock from yfinance, you need to __add the exchange-specific Suffix__ [.NS]\n",
    "https://help.yahoo.com/kb/SLN2310.html"
   ]
  },
  {
   "cell_type": "code",
   "execution_count": null,
   "id": "f13d397f",
   "metadata": {},
   "outputs": [],
   "source": [
    "import yfinance as yf"
   ]
  },
  {
   "cell_type": "code",
   "execution_count": null,
   "id": "20806cd4",
   "metadata": {},
   "outputs": [],
   "source": [
    "symbol = df.Symbol[0] + \".NS\"\n",
    "symbol"
   ]
  },
  {
   "cell_type": "code",
   "execution_count": null,
   "id": "e5ed7f97",
   "metadata": {},
   "outputs": [],
   "source": [
    "yf.download(symbol)"
   ]
  },
  {
   "cell_type": "code",
   "execution_count": null,
   "id": "c40dc6d5",
   "metadata": {},
   "outputs": [],
   "source": []
  }
 ],
 "metadata": {
  "kernelspec": {
   "display_name": "Python 3 (ipykernel)",
   "language": "python",
   "name": "python3"
  },
  "language_info": {
   "codemirror_mode": {
    "name": "ipython",
    "version": 3
   },
   "file_extension": ".py",
   "mimetype": "text/x-python",
   "name": "python",
   "nbconvert_exporter": "python",
   "pygments_lexer": "ipython3",
   "version": "3.11.5"
  }
 },
 "nbformat": 4,
 "nbformat_minor": 5
}
