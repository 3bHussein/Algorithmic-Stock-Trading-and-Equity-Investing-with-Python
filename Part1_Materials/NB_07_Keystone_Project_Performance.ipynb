{
 "cells": [
  {
   "cell_type": "markdown",
   "id": "930da67c",
   "metadata": {},
   "source": [
    "# Keystone Project - Performance Analysis & Comparison"
   ]
  },
  {
   "cell_type": "markdown",
   "id": "96a838af",
   "metadata": {},
   "source": [
    "__Assignment / Goal:__"
   ]
  },
  {
   "cell_type": "markdown",
   "id": "edc7e14f",
   "metadata": {},
   "source": [
    "1. Load __Price Data__ for the Dow Jones Industrial Average Index (DJIA) and all 30 Constituents from \"DJI_Const.csv\". "
   ]
  },
  {
   "cell_type": "markdown",
   "id": "6d0abfc3",
   "metadata": {},
   "source": [
    "2. Calculate __log returns__ and the mean and std of log returns (price returns)"
   ]
  },
  {
   "cell_type": "markdown",
   "id": "beb1db70",
   "metadata": {},
   "source": [
    "3. Identify stocks with __highest/lowest returns__ and with __highest/lowest risk__"
   ]
  },
  {
   "cell_type": "markdown",
   "id": "e7cf1105",
   "metadata": {},
   "source": [
    "4. Compare with __Mean-Variance Analysis__ (graph)"
   ]
  },
  {
   "cell_type": "markdown",
   "id": "99b5be73",
   "metadata": {},
   "source": [
    "5. Characterize the __risk/return profile of the Index__ compared to its constituents. Anything worth mentioning?"
   ]
  },
  {
   "cell_type": "markdown",
   "id": "f303cc8c",
   "metadata": {},
   "source": [
    "6. Repeat the same Analysis with __Total Returns__ (more appropriate!)"
   ]
  },
  {
   "cell_type": "code",
   "execution_count": null,
   "id": "09952245",
   "metadata": {},
   "outputs": [],
   "source": []
  },
  {
   "cell_type": "markdown",
   "id": "153b220d",
   "metadata": {},
   "source": [
    "### -------------SOLUTION---------------"
   ]
  },
  {
   "cell_type": "code",
   "execution_count": null,
   "id": "be37e493",
   "metadata": {},
   "outputs": [],
   "source": []
  },
  {
   "cell_type": "markdown",
   "id": "8dbf3f44",
   "metadata": {},
   "source": [
    "__Data Import__"
   ]
  },
  {
   "cell_type": "code",
   "execution_count": null,
   "id": "4d0307c5",
   "metadata": {},
   "outputs": [],
   "source": [
    "import numpy as np\n",
    "import pandas as pd\n",
    "import matplotlib.pyplot as plt"
   ]
  },
  {
   "cell_type": "code",
   "execution_count": null,
   "id": "9cc19a42",
   "metadata": {},
   "outputs": [],
   "source": [
    "df = pd.read_csv(\"DJI_Const.csv\", header = [0, 1], index_col = 0, parse_dates=[0])\n",
    "df"
   ]
  },
  {
   "cell_type": "code",
   "execution_count": null,
   "id": "f7152f79",
   "metadata": {},
   "outputs": [],
   "source": [
    "close = df[\"Close\"] # for Price Returns\n",
    "close"
   ]
  },
  {
   "cell_type": "code",
   "execution_count": null,
   "id": "5b3fe975",
   "metadata": {},
   "outputs": [],
   "source": [
    "#close = df[\"Adj Close\"] # for Total Returns\n",
    "#close"
   ]
  },
  {
   "cell_type": "markdown",
   "id": "ff51261a",
   "metadata": {},
   "source": [
    "__Log Returns__"
   ]
  },
  {
   "cell_type": "code",
   "execution_count": null,
   "id": "1c4332ed",
   "metadata": {},
   "outputs": [],
   "source": [
    "returns = np.log(close / close.shift()).dropna()\n",
    "returns"
   ]
  },
  {
   "cell_type": "markdown",
   "id": "6f2bc430",
   "metadata": {},
   "source": [
    "__Mean and Std__"
   ]
  },
  {
   "cell_type": "code",
   "execution_count": null,
   "id": "6ad063bb",
   "metadata": {},
   "outputs": [],
   "source": [
    "summary = returns.agg([\"mean\", \"std\"]).T\n",
    "summary"
   ]
  },
  {
   "cell_type": "code",
   "execution_count": null,
   "id": "907ef7c1",
   "metadata": {},
   "outputs": [],
   "source": [
    "summary.columns = [\"Mean\", \"Std\"]\n",
    "summary"
   ]
  },
  {
   "cell_type": "markdown",
   "id": "05d688d4",
   "metadata": {},
   "source": [
    "__Highest/Lowest Return__"
   ]
  },
  {
   "cell_type": "code",
   "execution_count": null,
   "id": "13818c82",
   "metadata": {},
   "outputs": [],
   "source": [
    "summary.sort_values(\"Mean\", ascending= False, inplace = True)\n",
    "summary"
   ]
  },
  {
   "cell_type": "code",
   "execution_count": null,
   "id": "8e6c0019",
   "metadata": {},
   "outputs": [],
   "source": [
    "fig = plt.figure(figsize = (12, 8))\n",
    "plt.bar(summary.index, summary.Mean)\n",
    "plt.title(\"Return\", fontsize = 15)\n",
    "fig.autofmt_xdate()\n",
    "plt.show()"
   ]
  },
  {
   "cell_type": "markdown",
   "id": "fd1cbd52",
   "metadata": {},
   "source": [
    "__Highest/Lowest Risk__"
   ]
  },
  {
   "cell_type": "code",
   "execution_count": null,
   "id": "327ae12b",
   "metadata": {},
   "outputs": [],
   "source": [
    "summary.sort_values(\"Std\", ascending= True, inplace = True)\n",
    "summary"
   ]
  },
  {
   "cell_type": "code",
   "execution_count": null,
   "id": "d603b2b2",
   "metadata": {},
   "outputs": [],
   "source": [
    "fig = plt.figure(figsize = (12, 8))\n",
    "plt.bar(summary.index, summary.Std)\n",
    "plt.title(\"Risk\", fontsize = 15)\n",
    "fig.autofmt_xdate()\n",
    "plt.show()"
   ]
  },
  {
   "cell_type": "markdown",
   "id": "333a842b",
   "metadata": {},
   "source": [
    "__Mean-Variance Analysis__"
   ]
  },
  {
   "cell_type": "code",
   "execution_count": null,
   "id": "6c48f970",
   "metadata": {},
   "outputs": [],
   "source": [
    "summary.plot(kind = \"scatter\", x = \"Std\", y = \"Mean\", figsize = (15,12), s = 50, fontsize = 15)\n",
    "for i in summary.index:\n",
    "    plt.annotate(i, xy=(summary.loc[i, \"Std\"]+0.00002, summary.loc[i, \"Mean\"]+0.00002), size = 12)\n",
    "plt.xlabel(\"Risk (std)\", fontsize = 15)\n",
    "plt.ylabel(\"Mean Return\", fontsize = 15)\n",
    "plt.title(\"Mean-Variance Analysis\", fontsize = 20)\n",
    "plt.show()"
   ]
  },
  {
   "cell_type": "markdown",
   "id": "8a4633bb",
   "metadata": {},
   "source": [
    "__DJI__:\n",
    "- Return seems to be (approx.) the weighted average of its constituents\n",
    "- Risk seems to be much lower than the weighted average of its constituents -> __Diversification Effect!!!__"
   ]
  },
  {
   "cell_type": "code",
   "execution_count": null,
   "id": "b50764c4",
   "metadata": {},
   "outputs": [],
   "source": []
  }
 ],
 "metadata": {
  "kernelspec": {
   "display_name": "Python 3 (ipykernel)",
   "language": "python",
   "name": "python3"
  },
  "language_info": {
   "codemirror_mode": {
    "name": "ipython",
    "version": 3
   },
   "file_extension": ".py",
   "mimetype": "text/x-python",
   "name": "python",
   "nbconvert_exporter": "python",
   "pygments_lexer": "ipython3",
   "version": "3.11.5"
  }
 },
 "nbformat": 4,
 "nbformat_minor": 5
}
