{
 "cells": [
  {
   "cell_type": "markdown",
   "id": "930da67c",
   "metadata": {},
   "source": [
    "# Keystone Project - Algorithmic Trading"
   ]
  },
  {
   "cell_type": "markdown",
   "id": "96a838af",
   "metadata": {},
   "source": [
    "__Assignment / Goal:__"
   ]
  },
  {
   "cell_type": "markdown",
   "id": "edc7e14f",
   "metadata": {},
   "source": [
    "Create a Trading Algorithm for the following (simple) Contrarian Trading Strategy: "
   ]
  },
  {
   "cell_type": "markdown",
   "id": "6d0abfc3",
   "metadata": {},
   "source": [
    "1. At the end of each trading day, you __buy__ the __three worst performing stocks__ among the __30 DJIA__ stocks and hold them for the next trading day."
   ]
  },
  {
   "cell_type": "markdown",
   "id": "beb1db70",
   "metadata": {},
   "source": [
    "2. At the end of each trading day, you __short sell__ the __three best performing stocks__ among the __30 DJIA__ stocks and short them for the next trading day."
   ]
  },
  {
   "cell_type": "markdown",
   "id": "e7cf1105",
   "metadata": {},
   "source": [
    "3. For simplicity reasons, you buy/sell __one share__ of the respective stocks."
   ]
  },
  {
   "cell_type": "markdown",
   "id": "99b5be73",
   "metadata": {},
   "source": [
    "4. Underlying idea: The __Market overreacted__ and most recent (extreme) price __trends will revert__ in the near future -> __Contrarian Trading__ (!= Momentum Trading)"
   ]
  },
  {
   "cell_type": "markdown",
   "id": "715f46dd",
   "metadata": {},
   "source": [
    "5. Develop the code that\n",
    "- __imports__ required data \n",
    "- __measures__ the most recent performance (price change in %)\n",
    "- __identifies__ the best/worst performing stocks\n",
    "- __trades__ the stocks with the IBKR API "
   ]
  },
  {
   "cell_type": "markdown",
   "id": "153b220d",
   "metadata": {},
   "source": [
    "### -------------SOLUTION---------------"
   ]
  },
  {
   "cell_type": "code",
   "execution_count": null,
   "id": "082f0a43",
   "metadata": {},
   "outputs": [],
   "source": []
  },
  {
   "cell_type": "markdown",
   "id": "54b121fd",
   "metadata": {},
   "source": [
    "__Please run the following code only with your Paper Trading Account!!!__"
   ]
  },
  {
   "cell_type": "markdown",
   "id": "7c3d17f0",
   "metadata": {},
   "source": [
    "__Check the Regular Trading Hours!!!__ (trade right before 16:30 US Eastern time)"
   ]
  },
  {
   "cell_type": "code",
   "execution_count": null,
   "id": "add8ae51",
   "metadata": {},
   "outputs": [],
   "source": []
  },
  {
   "cell_type": "code",
   "execution_count": null,
   "id": "2c96cb4b",
   "metadata": {},
   "outputs": [],
   "source": [
    "import pandas as pd\n",
    "import yfinance as yf\n",
    "from ib_insync import *\n",
    "util.startLoop()"
   ]
  },
  {
   "cell_type": "markdown",
   "id": "191c402b",
   "metadata": {},
   "source": [
    "## Get the Symbols"
   ]
  },
  {
   "cell_type": "code",
   "execution_count": null,
   "id": "54f1554d",
   "metadata": {},
   "outputs": [],
   "source": [
    "df = pd.read_csv(\"DJI_Const.csv\", header = [0, 1], index_col = 0, parse_dates = [0])\n",
    "df"
   ]
  },
  {
   "cell_type": "code",
   "execution_count": null,
   "id": "d8adae15",
   "metadata": {},
   "outputs": [],
   "source": [
    "symbols = df.Close.columns.to_list()\n",
    "symbols"
   ]
  },
  {
   "cell_type": "code",
   "execution_count": null,
   "id": "8be2953b",
   "metadata": {},
   "outputs": [],
   "source": [
    "symbols.remove(\"^DJI\")"
   ]
  },
  {
   "cell_type": "code",
   "execution_count": null,
   "id": "afa37d31",
   "metadata": {},
   "outputs": [],
   "source": [
    "len(symbols)"
   ]
  },
  {
   "cell_type": "code",
   "execution_count": null,
   "id": "74eed666",
   "metadata": {},
   "outputs": [],
   "source": []
  },
  {
   "cell_type": "markdown",
   "id": "53740ad7",
   "metadata": {},
   "source": [
    "## Get most recent Prices and Performance"
   ]
  },
  {
   "cell_type": "markdown",
   "id": "7a0d1fc0",
   "metadata": {},
   "source": [
    "__Alternative 1__"
   ]
  },
  {
   "cell_type": "code",
   "execution_count": null,
   "id": "bb424ef2",
   "metadata": {},
   "outputs": [],
   "source": [
    "# yf.Ticker(ticker = \"AAPL\").get_info()[\"regularMarketPrice\"] # OLD"
   ]
  },
  {
   "cell_type": "code",
   "execution_count": null,
   "id": "15a6a034",
   "metadata": {
    "scrolled": false
   },
   "outputs": [],
   "source": [
    "cprice = yf.Ticker(ticker = \"AAPL\").get_info()[\"currentPrice\"] # NEW (before \"regularMarketPrice\")\n",
    "cprice"
   ]
  },
  {
   "cell_type": "code",
   "execution_count": null,
   "id": "44ade2ff",
   "metadata": {},
   "outputs": [],
   "source": [
    "last_close = yf.Ticker(\"AAPL\").get_info()[\"regularMarketPreviousClose\"]\n",
    "last_close"
   ]
  },
  {
   "cell_type": "code",
   "execution_count": null,
   "id": "f26f846f",
   "metadata": {},
   "outputs": [],
   "source": []
  },
  {
   "cell_type": "markdown",
   "id": "dd11d538",
   "metadata": {},
   "source": [
    "__Alternative 2__ (faster, more reliable)"
   ]
  },
  {
   "cell_type": "code",
   "execution_count": null,
   "id": "c593d0f6",
   "metadata": {},
   "outputs": [],
   "source": [
    "yf.Ticker(ticker = \"AAPL\").get_fast_info() "
   ]
  },
  {
   "cell_type": "code",
   "execution_count": null,
   "id": "39f49b1a",
   "metadata": {},
   "outputs": [],
   "source": [
    "cprice =  yf.Ticker(\"AAPL\").get_fast_info()[\"last_price\"]\n",
    "cprice"
   ]
  },
  {
   "cell_type": "code",
   "execution_count": null,
   "id": "af658c1a",
   "metadata": {},
   "outputs": [],
   "source": [
    "last_close = yf.Ticker(\"AAPL\").get_fast_info()[\"regularMarketPreviousClose\"] \n",
    "last_close"
   ]
  },
  {
   "cell_type": "code",
   "execution_count": null,
   "id": "bd54f526",
   "metadata": {},
   "outputs": [],
   "source": [
    "perf = cprice / last_close - 1\n",
    "perf"
   ]
  },
  {
   "cell_type": "code",
   "execution_count": null,
   "id": "220b861b",
   "metadata": {},
   "outputs": [],
   "source": [
    "perf = pd.Series(dtype = float)\n",
    "perf"
   ]
  },
  {
   "cell_type": "code",
   "execution_count": null,
   "id": "ed5a0b02",
   "metadata": {},
   "outputs": [],
   "source": [
    "symbols"
   ]
  },
  {
   "cell_type": "code",
   "execution_count": null,
   "id": "d39c7451",
   "metadata": {},
   "outputs": [],
   "source": [
    "count = 1\n",
    "for symbol in symbols:\n",
    "    try:\n",
    "        fast_info = yf.Ticker(ticker = symbol).get_fast_info() \n",
    "        prc_chg = fast_info[\"last_price\"] / fast_info[\"regularMarketPreviousClose\"] - 1 \n",
    "        perf.loc[symbol] = prc_chg\n",
    "        print(count, end = '\\r')\n",
    "        count += 1\n",
    "    except Exception as e:\n",
    "        print(\"{} not found\".format(symbol))\n",
    "print(\"Download complete.\")"
   ]
  },
  {
   "cell_type": "code",
   "execution_count": null,
   "id": "7085745b",
   "metadata": {},
   "outputs": [],
   "source": [
    "perf"
   ]
  },
  {
   "cell_type": "code",
   "execution_count": null,
   "id": "dee9a334",
   "metadata": {},
   "outputs": [],
   "source": [
    "perf.sort_values(inplace = True)\n",
    "perf"
   ]
  },
  {
   "cell_type": "code",
   "execution_count": null,
   "id": "ba2ce5f5",
   "metadata": {},
   "outputs": [],
   "source": [
    "perf.index.name = \"symbol\"\n",
    "perf "
   ]
  },
  {
   "cell_type": "code",
   "execution_count": null,
   "id": "465ba7ed",
   "metadata": {},
   "outputs": [],
   "source": []
  },
  {
   "cell_type": "markdown",
   "id": "257eb5d7",
   "metadata": {},
   "source": [
    "## Determine Target Positions"
   ]
  },
  {
   "cell_type": "code",
   "execution_count": null,
   "id": "7888806a",
   "metadata": {},
   "outputs": [],
   "source": [
    "buy_stocks = 3 # buy the 3 worst performing stocks"
   ]
  },
  {
   "cell_type": "code",
   "execution_count": null,
   "id": "f8e5d8ab",
   "metadata": {},
   "outputs": [],
   "source": [
    "sell_stocks = 3 # short sell the 3 best performing stocks"
   ]
  },
  {
   "cell_type": "code",
   "execution_count": null,
   "id": "db8bb646",
   "metadata": {},
   "outputs": [],
   "source": [
    "shares = 1 # one share per stock"
   ]
  },
  {
   "cell_type": "code",
   "execution_count": null,
   "id": "cdc29856",
   "metadata": {},
   "outputs": [],
   "source": [
    "perf.iloc[:buy_stocks] = shares\n",
    "perf.iloc[-sell_stocks:] = -shares\n",
    "perf"
   ]
  },
  {
   "cell_type": "code",
   "execution_count": null,
   "id": "a80bf6dc",
   "metadata": {},
   "outputs": [],
   "source": [
    "target = pd.concat([perf.iloc[:buy_stocks], perf.iloc[-sell_stocks:]]).to_frame().reset_index()\n",
    "target.columns = [\"symbol\", \"position\"]\n",
    "target"
   ]
  },
  {
   "cell_type": "code",
   "execution_count": null,
   "id": "83b5b66b",
   "metadata": {},
   "outputs": [],
   "source": []
  },
  {
   "cell_type": "markdown",
   "id": "69e02a54",
   "metadata": {},
   "source": [
    "## Identify Current Positions"
   ]
  },
  {
   "cell_type": "code",
   "execution_count": null,
   "id": "71b2e2d4",
   "metadata": {},
   "outputs": [],
   "source": [
    "ib = IB()"
   ]
  },
  {
   "cell_type": "code",
   "execution_count": null,
   "id": "353a3221",
   "metadata": {},
   "outputs": [],
   "source": [
    "ib.connect()"
   ]
  },
  {
   "cell_type": "code",
   "execution_count": null,
   "id": "c6e050bc",
   "metadata": {},
   "outputs": [],
   "source": [
    "pos = ib.positions()\n",
    "pos"
   ]
  },
  {
   "cell_type": "code",
   "execution_count": null,
   "id": "65d57758",
   "metadata": {},
   "outputs": [],
   "source": [
    "df = util.df(pos)\n",
    "df"
   ]
  },
  {
   "cell_type": "code",
   "execution_count": null,
   "id": "8384956c",
   "metadata": {},
   "outputs": [],
   "source": [
    "#df[\"symbol\"] = df.contract.apply(lambda x: x.symbol)\n",
    "#df[\"conID\"] = df.contract.apply(lambda x: x.conId)"
   ]
  },
  {
   "cell_type": "code",
   "execution_count": null,
   "id": "ac327f41",
   "metadata": {},
   "outputs": [],
   "source": [
    "if df is not None:\n",
    "    df[\"symbol\"] = df.contract.apply(lambda x: x.symbol)\n",
    "    df[\"conID\"] = df.contract.apply(lambda x: x.conId)\n",
    "else: \n",
    "    df = pd.DataFrame(columns = [\"symbol\", \"position\"])"
   ]
  },
  {
   "cell_type": "code",
   "execution_count": null,
   "id": "2f066f28",
   "metadata": {},
   "outputs": [],
   "source": [
    "df"
   ]
  },
  {
   "cell_type": "code",
   "execution_count": null,
   "id": "6334bf19",
   "metadata": {},
   "outputs": [],
   "source": []
  },
  {
   "cell_type": "markdown",
   "id": "7b127fbe",
   "metadata": {},
   "source": [
    "## Determine Required Trades (from actual to target positions)"
   ]
  },
  {
   "cell_type": "code",
   "execution_count": null,
   "id": "01f128f1",
   "metadata": {},
   "outputs": [],
   "source": [
    "target"
   ]
  },
  {
   "cell_type": "code",
   "execution_count": null,
   "id": "1e754a24",
   "metadata": {},
   "outputs": [],
   "source": [
    "df"
   ]
  },
  {
   "cell_type": "code",
   "execution_count": null,
   "id": "479ed9c8",
   "metadata": {},
   "outputs": [],
   "source": [
    "trades = pd.merge(target, df[[\"symbol\", \"position\"]], \"outer\", on = \"symbol\", suffixes = [\"_t\", \"_a\"])\n",
    "trades"
   ]
  },
  {
   "cell_type": "code",
   "execution_count": null,
   "id": "0d571a4f",
   "metadata": {},
   "outputs": [],
   "source": [
    "trades.fillna(0, inplace = True)\n",
    "trades"
   ]
  },
  {
   "cell_type": "code",
   "execution_count": null,
   "id": "b63c712b",
   "metadata": {},
   "outputs": [],
   "source": [
    "trades[\"trades\"] = trades.position_t - trades.position_a "
   ]
  },
  {
   "cell_type": "code",
   "execution_count": null,
   "id": "55a7a033",
   "metadata": {},
   "outputs": [],
   "source": [
    "trades"
   ]
  },
  {
   "cell_type": "code",
   "execution_count": null,
   "id": "69a1de6e",
   "metadata": {},
   "outputs": [],
   "source": [
    "trades = trades[trades.trades !=0].set_index(\"symbol\").copy()\n",
    "trades"
   ]
  },
  {
   "cell_type": "code",
   "execution_count": null,
   "id": "8ad1a3e1",
   "metadata": {},
   "outputs": [],
   "source": []
  },
  {
   "cell_type": "markdown",
   "id": "5ad296e4",
   "metadata": {},
   "source": [
    "## Execute Trades"
   ]
  },
  {
   "cell_type": "code",
   "execution_count": null,
   "id": "710026fb",
   "metadata": {},
   "outputs": [],
   "source": [
    "for symbol in trades.index:\n",
    "    to_trade = trades.loc[symbol, \"trades\"]\n",
    "    if to_trade > 0: \n",
    "        side = \"BUY\"\n",
    "    elif to_trade < 0:\n",
    "        side = \"SELL\"\n",
    "    contract = Stock(symbol, \"SMART\", \"USD\")\n",
    "    cds = ib.reqContractDetails(contract)\n",
    "    if len(cds) == 0:\n",
    "        print(\"No Contract for {} found.\".format(symbol))\n",
    "    elif len(cds) == 1:\n",
    "        contract = cds[0].contract\n",
    "        order = MarketOrder(side, abs(to_trade))\n",
    "        trade = ib.placeOrder(contract, order)\n",
    "        while not trade.isDone():\n",
    "            ib.waitOnUpdate()\n",
    "        if trade.orderStatus.status == \"Filled\":\n",
    "            print(\"{} {} @ {}\".format(side, symbol, trade.orderStatus.avgFillPrice))\n",
    "        else:\n",
    "            print(\"{} {} failed.\".format(side, symbol))\n",
    "    else:\n",
    "        contract = cds[0].contract\n",
    "        print(\"Multiple Contracts for {} found.\".format(symbol))\n",
    "        order = MarketOrder(side, abs(to_trade))\n",
    "        trade = ib.placeOrder(contract, order)\n",
    "        while not trade.isDone():\n",
    "            ib.waitOnUpdate()\n",
    "        if trade.orderStatus.status == \"Filled\":\n",
    "            print(\"{} {} @ {}\".format(side, symbol, trade.orderStatus.avgFillPrice))\n",
    "        else:\n",
    "            print(\"{} {} failed.\".format(side, symbol))  \n",
    "pos = ib.positions()\n",
    "df = util.df(pos)\n",
    "df[\"symbol\"] = df.contract.apply(lambda x: x.symbol)\n",
    "df[\"conID\"] = df.contract.apply(lambda x: x.conId)\n",
    "df"
   ]
  },
  {
   "cell_type": "code",
   "execution_count": null,
   "id": "4c55d0c2",
   "metadata": {},
   "outputs": [],
   "source": [
    "target"
   ]
  },
  {
   "cell_type": "code",
   "execution_count": null,
   "id": "82c07f2b",
   "metadata": {},
   "outputs": [],
   "source": [
    "ib.disconnect()"
   ]
  },
  {
   "cell_type": "code",
   "execution_count": null,
   "id": "d50622ef",
   "metadata": {},
   "outputs": [],
   "source": []
  },
  {
   "cell_type": "markdown",
   "id": "e070c7c9",
   "metadata": {},
   "source": [
    "## Running a Python Script"
   ]
  },
  {
   "cell_type": "markdown",
   "id": "025179c7",
   "metadata": {},
   "source": [
    "__Important things to consider__:\n",
    "- You should run the __full code__ right before the end of the trading day (__16:30 US/Eastern__) \n",
    "- better/faster execution with a __Python Script__\n",
    "- __Daily Automation/Schedule__ easier with Script (not part of this Section)\n",
    "- Live Trading only after __extensive Strategy Backtesting__ (see Part 3)!\n",
    "    \n",
    "    "
   ]
  },
  {
   "cell_type": "code",
   "execution_count": null,
   "id": "ec585b99",
   "metadata": {},
   "outputs": [],
   "source": []
  }
 ],
 "metadata": {
  "kernelspec": {
   "display_name": "Python 3 (ipykernel)",
   "language": "python",
   "name": "python3"
  },
  "language_info": {
   "codemirror_mode": {
    "name": "ipython",
    "version": 3
   },
   "file_extension": ".py",
   "mimetype": "text/x-python",
   "name": "python",
   "nbconvert_exporter": "python",
   "pygments_lexer": "ipython3",
   "version": "3.11.5"
  }
 },
 "nbformat": 4,
 "nbformat_minor": 5
}
